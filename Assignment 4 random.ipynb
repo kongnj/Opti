{
 "cells": [
  {
   "cell_type": "code",
   "execution_count": 285,
   "outputs": [],
   "source": [
    "import pulp\n",
    "import numpy as np\n",
    "import matplotlib_inline as plt"
   ],
   "metadata": {
    "collapsed": false,
    "ExecuteTime": {
     "end_time": "2024-04-12T12:20:34.906926600Z",
     "start_time": "2024-04-12T12:20:34.884950600Z"
    }
   },
   "id": "1e9150175167c596"
  },
  {
   "cell_type": "code",
   "execution_count": 286,
   "outputs": [],
   "source": [
    "prob = pulp.LpProblem(\"Minimize_Cost\", pulp.LpMinimize)"
   ],
   "metadata": {
    "collapsed": false,
    "ExecuteTime": {
     "end_time": "2024-04-12T12:20:34.906926600Z",
     "start_time": "2024-04-12T12:20:34.890127600Z"
    }
   },
   "id": "caa1f1bdbf681f46"
  },
  {
   "cell_type": "code",
   "execution_count": 287,
   "outputs": [
    {
     "name": "stdout",
     "output_type": "stream",
     "text": [
      "Nodes: ['r', 'a', 'b', 'c', 'd', 'e']\n",
      "Directed edges with costs: {('r', 'a'): 3, ('a', 'b'): 2, ('b', 'c'): 1, ('c', 'd'): 6, ('d', 'e'): 3, ('e', 'r'): 5, ('e', 'b'): 7, ('a', 'd'): 6, ('d', 'a'): 1}\n"
     ]
    }
   ],
   "source": [
    "import numpy as np\n",
    "\n",
    "def generate_random_directed_graph(num_nodes, num_edges, cost_range=(1, 10)):\n",
    "    # 检查边数是否合理\n",
    "    if num_edges < num_nodes or num_edges > num_nodes * (num_nodes - 1) // 2:\n",
    "        raise ValueError(\"Number of edges must be at least num_nodes and no more than num_nodes * (num_nodes - 1) // 2.\")\n",
    "\n",
    "    # 生成节点列表\n",
    "    nodes = ['r'] + [chr(i) for i in range(97, 97 + num_nodes - 1)]\n",
    "\n",
    "    # 创建一个环来确保每个节点都在环上\n",
    "    cycle_edges = [(nodes[i], nodes[(i + 1) % num_nodes]) for i in range(num_nodes)]\n",
    "    \n",
    "    # 生成除环路外其他节点间可能的边\n",
    "    possible_edges = [(nodes[i], nodes[j]) for i in range(num_nodes) for j in range(num_nodes) if i != j and (nodes[j], nodes[i]) not in cycle_edges]\n",
    "\n",
    "    # 从可能的边中随机选择剩余的边\n",
    "    np.random.shuffle(possible_edges)\n",
    "    remaining_edges_count = num_edges - len(cycle_edges)\n",
    "    selected_edges = cycle_edges + possible_edges[:remaining_edges_count]\n",
    "    \n",
    "    # 为每条边生成随机成本\n",
    "    edges_with_costs = {edge: np.random.randint(cost_range[0], cost_range[1] + 1) for edge in selected_edges}\n",
    "\n",
    "    return nodes, edges_with_costs\n",
    "\n",
    "# 使用该函数生成一个随机有向图\n",
    "num_nodes = 6  # 节点数量，包括 'r'\n",
    "num_edges = 10  # 总边数，至少等于节点数\n",
    "nodes, edges_with_costs = generate_random_directed_graph(num_nodes, num_edges)\n",
    "\n",
    "print(\"Nodes:\", nodes)\n",
    "print(\"Directed edges with costs:\", edges_with_costs)"
   ],
   "metadata": {
    "collapsed": false,
    "ExecuteTime": {
     "end_time": "2024-04-12T12:20:34.936357400Z",
     "start_time": "2024-04-12T12:20:34.913736300Z"
    }
   },
   "id": "5d5e31179c069a37"
  },
  {
   "cell_type": "code",
   "execution_count": 288,
   "outputs": [
    {
     "data": {
      "text/plain": "\"\\nnodes = ['a','b','c','d','r']\\nedges_with_costs = {('b','d'):5,('a','b'): 8, ('b','c'): 9,\\n                    ('a','c'): 8, ('b','r'): 9, ('c','r'): 8,\\n                    ('a','r'): 5, ('a','d'): 7, ('c','d'): 3}\\n\""
     },
     "execution_count": 288,
     "metadata": {},
     "output_type": "execute_result"
    }
   ],
   "source": [
    "\n",
    "#nodes = ['a','b','c','d','r']\n",
    "#edges_with_costs ={\n",
    "    #('a','b'):3,('c','a'):1,('r','a'):9,('b','c'):8,\n",
    "    #('b','r'):4,('d','b'):6,('r','c'):2,\n",
    "    #('c','d'):7,('d','r'):5\n",
    "#}\n",
    "'''\n",
    "nodes = ['a','b','c','d','r']\n",
    "edges_with_costs = {('b','d'):5,('a','b'): 8, ('b','c'): 9,\n",
    "                    ('a','c'): 8, ('b','r'): 9, ('c','r'): 8,\n",
    "                    ('a','r'): 5, ('a','d'): 7, ('c','d'): 3}\n",
    "'''"
   ],
   "metadata": {
    "collapsed": false,
    "ExecuteTime": {
     "end_time": "2024-04-12T12:20:34.969054800Z",
     "start_time": "2024-04-12T12:20:34.938437Z"
    }
   },
   "id": "f43183d9d5bd3ff2"
  },
  {
   "cell_type": "code",
   "execution_count": 289,
   "outputs": [
    {
     "data": {
      "text/plain": "{'r': {'r': x_r_r, 'a': x_r_a, 'b': x_r_b, 'c': x_r_c, 'd': x_r_d, 'e': x_r_e},\n 'a': {'r': x_a_r, 'a': x_a_a, 'b': x_a_b, 'c': x_a_c, 'd': x_a_d, 'e': x_a_e},\n 'b': {'r': x_b_r, 'a': x_b_a, 'b': x_b_b, 'c': x_b_c, 'd': x_b_d, 'e': x_b_e},\n 'c': {'r': x_c_r, 'a': x_c_a, 'b': x_c_b, 'c': x_c_c, 'd': x_c_d, 'e': x_c_e},\n 'd': {'r': x_d_r, 'a': x_d_a, 'b': x_d_b, 'c': x_d_c, 'd': x_d_d, 'e': x_d_e},\n 'e': {'r': x_e_r, 'a': x_e_a, 'b': x_e_b, 'c': x_e_c, 'd': x_e_d, 'e': x_e_e}}"
     },
     "execution_count": 289,
     "metadata": {},
     "output_type": "execute_result"
    }
   ],
   "source": [
    "import pulp\n",
    "x = pulp.LpVariable.dicts('x',(nodes,nodes),0,1,cat=pulp.LpInteger)\n",
    "x"
   ],
   "metadata": {
    "collapsed": false,
    "ExecuteTime": {
     "end_time": "2024-04-12T12:20:35.034693800Z",
     "start_time": "2024-04-12T12:20:34.971219500Z"
    }
   },
   "id": "557182bc3b9ecc8c"
  },
  {
   "cell_type": "code",
   "execution_count": 290,
   "outputs": [
    {
     "data": {
      "text/plain": "Minimize_Cost:\nMINIMIZE\n2*x_a_b + 6*x_a_d + 1*x_b_c + 6*x_c_d + 1*x_d_a + 3*x_d_e + 7*x_e_b + 5*x_e_r + 3*x_r_a + 0\nVARIABLES\n0 <= x_a_b <= 1 Integer\n0 <= x_a_d <= 1 Integer\n0 <= x_b_c <= 1 Integer\n0 <= x_c_d <= 1 Integer\n0 <= x_d_a <= 1 Integer\n0 <= x_d_e <= 1 Integer\n0 <= x_e_b <= 1 Integer\n0 <= x_e_r <= 1 Integer\n0 <= x_r_a <= 1 Integer"
     },
     "execution_count": 290,
     "metadata": {},
     "output_type": "execute_result"
    }
   ],
   "source": [
    "prob +=pulp.lpSum(edges_with_costs[u,v] * x[u][v] for u, v in edges_with_costs)\n",
    "prob"
   ],
   "metadata": {
    "collapsed": false,
    "ExecuteTime": {
     "end_time": "2024-04-12T12:20:35.034966300Z",
     "start_time": "2024-04-12T12:20:34.981321200Z"
    }
   },
   "id": "f31c7828517c7c24"
  },
  {
   "cell_type": "code",
   "execution_count": 291,
   "outputs": [
    {
     "data": {
      "text/plain": "Minimize_Cost:\nMINIMIZE\n2*x_a_b + 6*x_a_d + 1*x_b_c + 6*x_c_d + 1*x_d_a + 3*x_d_e + 7*x_e_b + 5*x_e_r + 3*x_r_a + 0\nSUBJECT TO\n_C1: x_d_a + x_r_a = 1\n\n_C2: x_a_b + x_e_b = 1\n\n_C3: x_b_c = 1\n\n_C4: x_a_d + x_c_d = 1\n\n_C5: x_d_e = 1\n\nVARIABLES\n0 <= x_a_b <= 1 Integer\n0 <= x_a_d <= 1 Integer\n0 <= x_b_c <= 1 Integer\n0 <= x_c_d <= 1 Integer\n0 <= x_d_a <= 1 Integer\n0 <= x_d_e <= 1 Integer\n0 <= x_e_b <= 1 Integer\n0 <= x_e_r <= 1 Integer\n0 <= x_r_a <= 1 Integer"
     },
     "execution_count": 291,
     "metadata": {},
     "output_type": "execute_result"
    }
   ],
   "source": [
    "for v in nodes:\n",
    "    if v != 'r':\n",
    "        prob +=pulp.lpSum(x[u][v] for u in nodes if (u,v) in edges_with_costs) == 1\n",
    "        #prob +=pulp.lpSum(x[u,v] for u in nodes if (v,u) in edges_with_costs) == 1\n",
    "prob "
   ],
   "metadata": {
    "collapsed": false,
    "ExecuteTime": {
     "end_time": "2024-04-12T12:20:35.034966300Z",
     "start_time": "2024-04-12T12:20:34.990326500Z"
    }
   },
   "id": "d4b828e83f16f755"
  },
  {
   "cell_type": "code",
   "execution_count": 292,
   "outputs": [
    {
     "data": {
      "text/plain": "Minimize_Cost:\nMINIMIZE\n2*x_a_b + 6*x_a_d + 1*x_b_c + 6*x_c_d + 1*x_d_a + 3*x_d_e + 7*x_e_b + 5*x_e_r + 3*x_r_a + 0\nSUBJECT TO\n_C1: x_d_a + x_r_a = 1\n\n_C2: x_a_b + x_e_b = 1\n\n_C3: x_b_c = 1\n\n_C4: x_a_d + x_c_d = 1\n\n_C5: x_d_e = 1\n\n_C6: x_e_r = 0\n\n_C7: x_r_a >= 1\n\nVARIABLES\n0 <= x_a_b <= 1 Integer\n0 <= x_a_d <= 1 Integer\n0 <= x_b_c <= 1 Integer\n0 <= x_c_d <= 1 Integer\n0 <= x_d_a <= 1 Integer\n0 <= x_d_e <= 1 Integer\n0 <= x_e_b <= 1 Integer\n0 <= x_e_r <= 1 Integer\n0 <= x_r_a <= 1 Integer"
     },
     "execution_count": 292,
     "metadata": {},
     "output_type": "execute_result"
    }
   ],
   "source": [
    "prob += pulp.lpSum(x[u]['r'] for u in nodes if (u,'r') in edges_with_costs) == 0\n",
    "prob += pulp.lpSum(x['r'][v] for v in nodes if ('r',v) in edges_with_costs)>= 1\n",
    "prob"
   ],
   "metadata": {
    "collapsed": false,
    "ExecuteTime": {
     "end_time": "2024-04-12T12:20:35.037006500Z",
     "start_time": "2024-04-12T12:20:35.000007100Z"
    }
   },
   "id": "e6cdf4692b53bc11"
  },
  {
   "cell_type": "code",
   "execution_count": 293,
   "outputs": [
    {
     "data": {
      "text/plain": "[('r',),\n ('r', 'a'),\n ('r', 'b'),\n ('r', 'c'),\n ('r', 'd'),\n ('r', 'e'),\n ('r', 'a', 'b'),\n ('r', 'a', 'c'),\n ('r', 'a', 'd'),\n ('r', 'a', 'e'),\n ('r', 'b', 'c'),\n ('r', 'b', 'd'),\n ('r', 'b', 'e'),\n ('r', 'c', 'd'),\n ('r', 'c', 'e'),\n ('r', 'd', 'e'),\n ('r', 'a', 'b', 'c'),\n ('r', 'a', 'b', 'd'),\n ('r', 'a', 'b', 'e'),\n ('r', 'a', 'c', 'd'),\n ('r', 'a', 'c', 'e'),\n ('r', 'a', 'd', 'e'),\n ('r', 'b', 'c', 'd'),\n ('r', 'b', 'c', 'e'),\n ('r', 'b', 'd', 'e'),\n ('r', 'c', 'd', 'e'),\n ('r', 'a', 'b', 'c', 'd'),\n ('r', 'a', 'b', 'c', 'e'),\n ('r', 'a', 'b', 'd', 'e'),\n ('r', 'a', 'c', 'd', 'e'),\n ('r', 'b', 'c', 'd', 'e')]"
     },
     "execution_count": 293,
     "metadata": {},
     "output_type": "execute_result"
    }
   ],
   "source": [
    "from pulp import *\n",
    "n = len(nodes)\n",
    "subsets = [tuple(c) for c in allcombinations(nodes,n-1)]\n",
    "subset = []\n",
    "for s in subsets:\n",
    "    if 'r' in s:\n",
    "        subset.append(s)\n",
    "subset"
   ],
   "metadata": {
    "collapsed": false,
    "ExecuteTime": {
     "end_time": "2024-04-12T12:20:35.098128300Z",
     "start_time": "2024-04-12T12:20:35.039162600Z"
    }
   },
   "id": "99b40464e5db1754"
  },
  {
   "cell_type": "code",
   "execution_count": 294,
   "outputs": [],
   "source": [
    "for s in subset:\n",
    "    sc = list(set(nodes)-set(s)) # complement of subset s\n",
    "    summation = 0.0\n",
    "    for u in s:\n",
    "        for v in sc:\n",
    "            if (u, v) in edges_with_costs: # Check if the (u, v) tuple is a valid key in edges_with_costs\n",
    "                summation += x[u][v]\n",
    "    prob += summation >= 1  "
   ],
   "metadata": {
    "collapsed": false,
    "ExecuteTime": {
     "end_time": "2024-04-12T12:20:35.133998400Z",
     "start_time": "2024-04-12T12:20:35.100667100Z"
    }
   },
   "id": "1889fde38ba13786"
  },
  {
   "cell_type": "code",
   "execution_count": 295,
   "outputs": [
    {
     "name": "stdout",
     "output_type": "stream",
     "text": [
      "Status: Optimal\n"
     ]
    }
   ],
   "source": [
    "prob.solve()\n",
    "print (\"Status:\", LpStatus[prob.status])"
   ],
   "metadata": {
    "collapsed": false,
    "ExecuteTime": {
     "end_time": "2024-04-12T12:20:35.194757100Z",
     "start_time": "2024-04-12T12:20:35.138285800Z"
    }
   },
   "id": "5aabeeff4e009eaa"
  },
  {
   "cell_type": "code",
   "execution_count": 296,
   "outputs": [
    {
     "name": "stdout",
     "output_type": "stream",
     "text": [
      "Optimal Solution\n",
      "(r,a)\n",
      "(a,b)\n",
      "(b,c)\n",
      "(c,d)\n",
      "(d,e)\n"
     ]
    }
   ],
   "source": [
    "print (\"Optimal Solution\")\n",
    "for i in nodes:\n",
    "\tfor j in nodes:\n",
    "\t\tif x[i][j].value() == 1:\n",
    "\t\t\tprint (\"(%s,%s)\"%(i,j))  \n"
   ],
   "metadata": {
    "collapsed": false,
    "ExecuteTime": {
     "end_time": "2024-04-12T12:20:35.194757100Z",
     "start_time": "2024-04-12T12:20:35.162952Z"
    }
   },
   "id": "2582425cbbedbcde"
  },
  {
   "cell_type": "code",
   "execution_count": 296,
   "outputs": [],
   "source": [],
   "metadata": {
    "collapsed": false,
    "ExecuteTime": {
     "end_time": "2024-04-12T12:20:35.233265500Z",
     "start_time": "2024-04-12T12:20:35.197906200Z"
    }
   },
   "id": "49ae41a6b2ab3ed1"
  }
 ],
 "metadata": {
  "kernelspec": {
   "display_name": "Python 3",
   "language": "python",
   "name": "python3"
  },
  "language_info": {
   "codemirror_mode": {
    "name": "ipython",
    "version": 2
   },
   "file_extension": ".py",
   "mimetype": "text/x-python",
   "name": "python",
   "nbconvert_exporter": "python",
   "pygments_lexer": "ipython2",
   "version": "2.7.6"
  }
 },
 "nbformat": 4,
 "nbformat_minor": 5
}
