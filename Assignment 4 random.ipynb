{
 "cells": [
  {
   "cell_type": "code",
   "execution_count": 97,
   "outputs": [],
   "source": [
    "import pulp\n",
    "import numpy as np\n",
    "import matplotlib_inline as plt"
   ],
   "metadata": {
    "collapsed": false,
    "ExecuteTime": {
     "end_time": "2024-04-12T07:27:52.997807900Z",
     "start_time": "2024-04-12T07:27:52.993935300Z"
    }
   },
   "id": "1e9150175167c596"
  },
  {
   "cell_type": "code",
   "execution_count": 98,
   "outputs": [
    {
     "name": "stdout",
     "output_type": "stream",
     "text": [
      "Nodes: ['a', 'b', 'c', 'd', 'e', 'f']\n",
      "Directed edges with costs: {('e', 'f'): 6, ('d', 'e'): 6, ('b', 'f'): 8, ('b', 'e'): 9, ('a', 'd'): 3, ('c', 'f'): 8, ('a', 'e'): 3}\n"
     ]
    }
   ],
   "source": [
    "import numpy as np\n",
    "\n",
    "def generate_random_directed_graph(num_nodes, num_edges, cost_range=(1, 10)):\n",
    "    if num_edges > num_nodes * (num_nodes - 1) // 2:\n",
    "        raise ValueError(\"Number of edges cannot exceed num_nodes * (num_nodes - 1) // 2 in a directed graph without mutual connections.\")\n",
    "\n",
    "    nodes = [chr(i) for i in range(97, 97 + num_nodes)]\n",
    "\n",
    "    all_possible_edges = [(nodes[i], nodes[j]) for i in range(num_nodes) for j in range(i+1, num_nodes)]\n",
    "\n",
    "    np.random.shuffle(all_possible_edges)\n",
    "    directed_edges = all_possible_edges[:num_edges]\n",
    "\n",
    "    edges_with_costs = {edge: np.random.randint(cost_range[0], cost_range[1] + 1) for edge in directed_edges}\n",
    "\n",
    "    return nodes, edges_with_costs\n",
    "\n",
    "num_nodes = 6  \n",
    "num_edges = 7\n",
    "nodes, edges_with_costs = generate_random_directed_graph(num_nodes, num_edges)\n",
    "\n",
    "print(\"Nodes:\", nodes)\n",
    "print(\"Directed edges with costs:\", edges_with_costs)"
   ],
   "metadata": {
    "collapsed": false,
    "ExecuteTime": {
     "end_time": "2024-04-12T07:27:53.055972800Z",
     "start_time": "2024-04-12T07:27:53.001053500Z"
    }
   },
   "id": "5d5e31179c069a37"
  },
  {
   "cell_type": "code",
   "execution_count": 99,
   "outputs": [],
   "source": [
    "prob = pulp.LpProblem(\"Minimize_Cost\", pulp.LpMinimize)"
   ],
   "metadata": {
    "collapsed": false,
    "ExecuteTime": {
     "end_time": "2024-04-12T07:27:53.057021800Z",
     "start_time": "2024-04-12T07:27:53.009208100Z"
    }
   },
   "id": "caa1f1bdbf681f46"
  },
  {
   "cell_type": "code",
   "execution_count": 100,
   "outputs": [],
   "source": [
    "\n",
    "#nodes = ['a','b','c','d','r']\n",
    "#edges_with_costs ={\n",
    "    #('a','b'):3,('c','a'):1,('r','a'):9,('b','c'):8,\n",
    "    #('b','r'):4,('d','b'):6,('r','c'):2,\n",
    "    #('c','d'):7,('d','r'):5\n",
    "#}\n"
   ],
   "metadata": {
    "collapsed": false,
    "ExecuteTime": {
     "end_time": "2024-04-12T07:27:53.057021800Z",
     "start_time": "2024-04-12T07:27:53.014063800Z"
    }
   },
   "id": "f43183d9d5bd3ff2"
  },
  {
   "cell_type": "code",
   "execution_count": 101,
   "outputs": [],
   "source": [
    "import pulp\n",
    "x = pulp.LpVariable.dicts('x',(nodes,nodes),0,1,cat=pulp.LpInteger)"
   ],
   "metadata": {
    "collapsed": false,
    "ExecuteTime": {
     "end_time": "2024-04-12T07:27:53.058045300Z",
     "start_time": "2024-04-12T07:27:53.017966Z"
    }
   },
   "id": "557182bc3b9ecc8c"
  },
  {
   "cell_type": "code",
   "execution_count": 102,
   "outputs": [],
   "source": [
    "prob +=pulp.lpSum(edges_with_costs[u,v] * x[u][v] for u, v in edges_with_costs)"
   ],
   "metadata": {
    "collapsed": false,
    "ExecuteTime": {
     "end_time": "2024-04-12T07:27:53.058045300Z",
     "start_time": "2024-04-12T07:27:53.024737200Z"
    }
   },
   "id": "f31c7828517c7c24"
  },
  {
   "cell_type": "code",
   "execution_count": 103,
   "outputs": [],
   "source": [
    "for v in nodes:\n",
    "    if v != 'r':\n",
    "        prob +=pulp.lpSum(x[u][v] for u in nodes if (u,v) in edges_with_costs) == 1\n",
    "        #prob +=pulp.lpSum(x[u,v] for u in nodes if (v,u) in edges_with_costs) == 1"
   ],
   "metadata": {
    "collapsed": false,
    "ExecuteTime": {
     "end_time": "2024-04-12T07:27:53.058045300Z",
     "start_time": "2024-04-12T07:27:53.029584100Z"
    }
   },
   "id": "d4b828e83f16f755"
  },
  {
   "cell_type": "code",
   "execution_count": 104,
   "outputs": [],
   "source": [
    "prob += pulp.lpSum(x[u]['r'] for u in nodes if (u,'r') in edges_with_costs) == 0\n",
    "prob += pulp.lpSum(x['r'][v] for v in nodes if ('r',v) in edges_with_costs)>= 1"
   ],
   "metadata": {
    "collapsed": false,
    "ExecuteTime": {
     "end_time": "2024-04-12T07:27:53.103808900Z",
     "start_time": "2024-04-12T07:27:53.036480200Z"
    }
   },
   "id": "e6cdf4692b53bc11"
  },
  {
   "cell_type": "code",
   "execution_count": 105,
   "outputs": [
    {
     "data": {
      "text/plain": "[]"
     },
     "execution_count": 105,
     "metadata": {},
     "output_type": "execute_result"
    }
   ],
   "source": [
    "from pulp import *\n",
    "n = len(nodes)\n",
    "subsets = [tuple(c) for c in allcombinations(nodes,n-1)]\n",
    "subset = []\n",
    "for s in subsets:\n",
    "    if 'r' in s:\n",
    "        subset.append(s)\n",
    "subset"
   ],
   "metadata": {
    "collapsed": false,
    "ExecuteTime": {
     "end_time": "2024-04-12T07:27:53.104972300Z",
     "start_time": "2024-04-12T07:27:53.041417600Z"
    }
   },
   "id": "99b40464e5db1754"
  },
  {
   "cell_type": "code",
   "execution_count": 106,
   "outputs": [],
   "source": [
    "for s in subset:\n",
    "    sc = list(set(nodes)-set(s)) # complement of subset s\n",
    "    summation = 0.0\n",
    "    for u in s:\n",
    "        for v in sc:\n",
    "            if (u, v) in edges_with_costs: # Check if the (u, v) tuple is a valid key in edges_with_costs\n",
    "                summation += x[u][v]\n",
    "    prob += summation >= 1  \n"
   ],
   "metadata": {
    "collapsed": false,
    "ExecuteTime": {
     "end_time": "2024-04-12T07:27:53.104972300Z",
     "start_time": "2024-04-12T07:27:53.047927400Z"
    }
   },
   "id": "1889fde38ba13786"
  },
  {
   "cell_type": "code",
   "execution_count": 107,
   "outputs": [
    {
     "name": "stdout",
     "output_type": "stream",
     "text": [
      "Status: Infeasible\n"
     ]
    }
   ],
   "source": [
    "prob.solve()\n",
    "print (\"Status:\", LpStatus[prob.status])"
   ],
   "metadata": {
    "collapsed": false,
    "ExecuteTime": {
     "end_time": "2024-04-12T07:27:53.108224400Z",
     "start_time": "2024-04-12T07:27:53.061339100Z"
    }
   },
   "id": "5aabeeff4e009eaa"
  },
  {
   "cell_type": "code",
   "execution_count": 108,
   "outputs": [
    {
     "name": "stdout",
     "output_type": "stream",
     "text": [
      "Optimal Solution\n",
      "(a,e)\n"
     ]
    }
   ],
   "source": [
    "print (\"Optimal Solution\")\n",
    "for i in nodes:\n",
    "\tfor j in nodes:\n",
    "\t\tif x[i][j].value() == 1:\n",
    "\t\t\tprint (\"(%s,%s)\"%(i,j))  \n"
   ],
   "metadata": {
    "collapsed": false,
    "ExecuteTime": {
     "end_time": "2024-04-12T07:27:53.161128500Z",
     "start_time": "2024-04-12T07:27:53.110420100Z"
    }
   },
   "id": "2582425cbbedbcde"
  },
  {
   "cell_type": "code",
   "execution_count": 108,
   "outputs": [],
   "source": [],
   "metadata": {
    "collapsed": false,
    "ExecuteTime": {
     "end_time": "2024-04-12T07:27:53.202051100Z",
     "start_time": "2024-04-12T07:27:53.164119300Z"
    }
   },
   "id": "49ae41a6b2ab3ed1"
  }
 ],
 "metadata": {
  "kernelspec": {
   "display_name": "Python 3",
   "language": "python",
   "name": "python3"
  },
  "language_info": {
   "codemirror_mode": {
    "name": "ipython",
    "version": 2
   },
   "file_extension": ".py",
   "mimetype": "text/x-python",
   "name": "python",
   "nbconvert_exporter": "python",
   "pygments_lexer": "ipython2",
   "version": "2.7.6"
  }
 },
 "nbformat": 4,
 "nbformat_minor": 5
}
