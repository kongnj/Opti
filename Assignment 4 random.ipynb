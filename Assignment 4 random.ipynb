{
 "cells": [
  {
   "cell_type": "code",
   "execution_count": 192,
   "outputs": [],
   "source": [
    "import pulp\n",
    "import numpy as np\n",
    "import matplotlib_inline as plt"
   ],
   "metadata": {
    "collapsed": false,
    "ExecuteTime": {
     "end_time": "2024-04-12T07:56:20.352606100Z",
     "start_time": "2024-04-12T07:56:20.326797300Z"
    }
   },
   "id": "1e9150175167c596"
  },
  {
   "cell_type": "code",
   "execution_count": 193,
   "outputs": [],
   "source": [
    "prob = pulp.LpProblem(\"Minimize_Cost\", pulp.LpMinimize)"
   ],
   "metadata": {
    "collapsed": false,
    "ExecuteTime": {
     "end_time": "2024-04-12T07:56:20.394859300Z",
     "start_time": "2024-04-12T07:56:20.355782800Z"
    }
   },
   "id": "caa1f1bdbf681f46"
  },
  {
   "cell_type": "code",
   "execution_count": 194,
   "outputs": [
    {
     "name": "stdout",
     "output_type": "stream",
     "text": [
      "nodes: ['a', 'b', 'c', 'd', 'r']\n",
      "edges_with_costs: {('c', 'r'): 10, ('c', 'd'): 1, ('b', 'c'): 10, ('a', 'c'): 3, ('a', 'r'): 8, ('a', 'b'): 6, ('b', 'd'): 1, ('a', 'd'): 2, ('b', 'r'): 4}\n"
     ]
    }
   ],
   "source": [
    "import numpy as np\n",
    "\n",
    "def generate_random_directed_graph(num_nodes, num_edges, cost_range=(1, 10)):\n",
    "    if num_edges > (num_nodes - 1) * (num_nodes - 2) // 2 + (num_nodes - 1):\n",
    "        raise ValueError(\"Number of edges cannot exceed (num_nodes - 1) * (num_nodes - 2) // 2 + (num_nodes - 1) in a directed graph without mutual connections including node 'r'.\")\n",
    "\n",
    "    # Generate a list of node labels (e.g., 'r', 'a', 'b', 'c', ...)\n",
    "    nodes = [chr(i) for i in range(97, 96 + num_nodes)]+['r']\n",
    "\n",
    "    # Generate all possible directed edges without mutual connections, excluding self-loops\n",
    "    all_possible_edges = [(nodes[i], nodes[j]) for i in range(num_nodes) for j in range(num_nodes) if i != j]\n",
    "    \n",
    "    # Remove edges that have mutual connections (both (a, b) and (b, a))\n",
    "    unique_edges = []\n",
    "    for edge in all_possible_edges:\n",
    "        if (edge[1], edge[0]) not in unique_edges:\n",
    "            unique_edges.append(edge)\n",
    "    \n",
    "    # Randomly select a subset of unique edges\n",
    "    np.random.shuffle(unique_edges)\n",
    "    selected_edges = unique_edges[:num_edges]\n",
    "\n",
    "    # Generate a random cost for each edge within the specified range\n",
    "    edges_with_costs = {edge: np.random.randint(cost_range[0], cost_range[1] + 1) for edge in selected_edges}\n",
    "\n",
    "    return nodes, edges_with_costs\n",
    "\n",
    "# Use the function to generate a random directed graph with a controlled number of edges\n",
    "num_nodes = 5  # For example, 5 nodes including 'r'\n",
    "num_edges = 9  # Number of edges you want in the graph\n",
    "nodes, edges_with_costs = generate_random_directed_graph(num_nodes, num_edges)\n",
    "\n",
    "print(\"nodes:\", nodes)\n",
    "print(\"edges_with_costs:\", edges_with_costs)"
   ],
   "metadata": {
    "collapsed": false,
    "ExecuteTime": {
     "end_time": "2024-04-12T07:56:20.416104500Z",
     "start_time": "2024-04-12T07:56:20.400847600Z"
    }
   },
   "id": "5d5e31179c069a37"
  },
  {
   "cell_type": "code",
   "execution_count": 195,
   "outputs": [],
   "source": [
    "\n",
    "#nodes = ['a','b','c','d','r']\n",
    "#edges_with_costs ={\n",
    "    #('a','b'):3,('c','a'):1,('r','a'):9,('b','c'):8,\n",
    "    #('b','r'):4,('d','b'):6,('r','c'):2,\n",
    "    #('c','d'):7,('d','r'):5\n",
    "#}\n"
   ],
   "metadata": {
    "collapsed": false,
    "ExecuteTime": {
     "end_time": "2024-04-12T07:56:20.457304700Z",
     "start_time": "2024-04-12T07:56:20.420104Z"
    }
   },
   "id": "f43183d9d5bd3ff2"
  },
  {
   "cell_type": "code",
   "execution_count": 196,
   "outputs": [
    {
     "data": {
      "text/plain": "{'a': {'a': x_a_a, 'b': x_a_b, 'c': x_a_c, 'd': x_a_d, 'r': x_a_r},\n 'b': {'a': x_b_a, 'b': x_b_b, 'c': x_b_c, 'd': x_b_d, 'r': x_b_r},\n 'c': {'a': x_c_a, 'b': x_c_b, 'c': x_c_c, 'd': x_c_d, 'r': x_c_r},\n 'd': {'a': x_d_a, 'b': x_d_b, 'c': x_d_c, 'd': x_d_d, 'r': x_d_r},\n 'r': {'a': x_r_a, 'b': x_r_b, 'c': x_r_c, 'd': x_r_d, 'r': x_r_r}}"
     },
     "execution_count": 196,
     "metadata": {},
     "output_type": "execute_result"
    }
   ],
   "source": [
    "import pulp\n",
    "x = pulp.LpVariable.dicts('x',(nodes,nodes),0,1,cat=pulp.LpInteger)\n",
    "x"
   ],
   "metadata": {
    "collapsed": false,
    "ExecuteTime": {
     "end_time": "2024-04-12T07:56:20.457304700Z",
     "start_time": "2024-04-12T07:56:20.424084200Z"
    }
   },
   "id": "557182bc3b9ecc8c"
  },
  {
   "cell_type": "code",
   "execution_count": 197,
   "outputs": [
    {
     "data": {
      "text/plain": "Minimize_Cost:\nMINIMIZE\n6*x_a_b + 3*x_a_c + 2*x_a_d + 8*x_a_r + 10*x_b_c + 1*x_b_d + 4*x_b_r + 1*x_c_d + 10*x_c_r + 0\nVARIABLES\n0 <= x_a_b <= 1 Integer\n0 <= x_a_c <= 1 Integer\n0 <= x_a_d <= 1 Integer\n0 <= x_a_r <= 1 Integer\n0 <= x_b_c <= 1 Integer\n0 <= x_b_d <= 1 Integer\n0 <= x_b_r <= 1 Integer\n0 <= x_c_d <= 1 Integer\n0 <= x_c_r <= 1 Integer"
     },
     "execution_count": 197,
     "metadata": {},
     "output_type": "execute_result"
    }
   ],
   "source": [
    "prob +=pulp.lpSum(edges_with_costs[u,v] * x[u][v] for u, v in edges_with_costs)\n",
    "prob"
   ],
   "metadata": {
    "collapsed": false,
    "ExecuteTime": {
     "end_time": "2024-04-12T07:56:20.457304700Z",
     "start_time": "2024-04-12T07:56:20.432191200Z"
    }
   },
   "id": "f31c7828517c7c24"
  },
  {
   "cell_type": "code",
   "execution_count": 198,
   "outputs": [
    {
     "data": {
      "text/plain": "Minimize_Cost:\nMINIMIZE\n6*x_a_b + 3*x_a_c + 2*x_a_d + 8*x_a_r + 10*x_b_c + 1*x_b_d + 4*x_b_r + 1*x_c_d + 10*x_c_r + 0\nSUBJECT TO\n_C1:0 = 1\n\n_C2: x_a_b = 1\n\n_C3: x_a_c + x_b_c = 1\n\n_C4: x_a_d + x_b_d + x_c_d = 1\n\nVARIABLES\n0 <= x_a_b <= 1 Integer\n0 <= x_a_c <= 1 Integer\n0 <= x_a_d <= 1 Integer\n0 <= x_a_r <= 1 Integer\n0 <= x_b_c <= 1 Integer\n0 <= x_b_d <= 1 Integer\n0 <= x_b_r <= 1 Integer\n0 <= x_c_d <= 1 Integer\n0 <= x_c_r <= 1 Integer"
     },
     "execution_count": 198,
     "metadata": {},
     "output_type": "execute_result"
    }
   ],
   "source": [
    "for v in nodes:\n",
    "    if v != 'r':\n",
    "        prob +=pulp.lpSum(x[u][v] for u in nodes if (u,v) in edges_with_costs) == 1\n",
    "        #prob +=pulp.lpSum(x[u,v] for u in nodes if (v,u) in edges_with_costs) == 1\n",
    "prob "
   ],
   "metadata": {
    "collapsed": false,
    "ExecuteTime": {
     "end_time": "2024-04-12T07:56:20.458456600Z",
     "start_time": "2024-04-12T07:56:20.439487500Z"
    }
   },
   "id": "d4b828e83f16f755"
  },
  {
   "cell_type": "code",
   "execution_count": 203,
   "outputs": [
    {
     "data": {
      "text/plain": "Minimize_Cost:\nMINIMIZE\n6*x_a_b + 3*x_a_c + 2*x_a_d + 8*x_a_r + 10*x_b_c + 1*x_b_d + 4*x_b_r + 1*x_c_d + 10*x_c_r + 0\nSUBJECT TO\n_C1:0 = 1\n\n_C2: x_a_b = 1\n\n_C3: x_a_c + x_b_c = 1\n\n_C4: x_a_d + x_b_d + x_c_d = 1\n\n_C5: x_a_r + x_b_r + x_c_r = 0\n\n_C6:0 >= 1\n\n_C7: x_a_r + x_b_r + x_c_r = 0\n\n_C8:0 >= 1\n\nVARIABLES\n0 <= x_a_b <= 1 Integer\n0 <= x_a_c <= 1 Integer\n0 <= x_a_d <= 1 Integer\n0 <= x_a_r <= 1 Integer\n0 <= x_b_c <= 1 Integer\n0 <= x_b_d <= 1 Integer\n0 <= x_b_r <= 1 Integer\n0 <= x_c_d <= 1 Integer\n0 <= x_c_r <= 1 Integer"
     },
     "execution_count": 203,
     "metadata": {},
     "output_type": "execute_result"
    }
   ],
   "source": [
    "prob += pulp.lpSum(x[u]['r'] for u in nodes if (u,'r') in edges_with_costs) == 0\n",
    "prob += pulp.lpSum(x['r'][v] for v in nodes if ('r',v) in edges_with_costs)>= 1\n",
    "prob"
   ],
   "metadata": {
    "collapsed": false,
    "ExecuteTime": {
     "end_time": "2024-04-12T07:56:43.504973200Z",
     "start_time": "2024-04-12T07:56:43.488146700Z"
    }
   },
   "id": "e6cdf4692b53bc11"
  },
  {
   "cell_type": "code",
   "execution_count": 200,
   "outputs": [
    {
     "data": {
      "text/plain": "[('r',),\n ('a', 'r'),\n ('b', 'r'),\n ('c', 'r'),\n ('d', 'r'),\n ('a', 'b', 'r'),\n ('a', 'c', 'r'),\n ('a', 'd', 'r'),\n ('b', 'c', 'r'),\n ('b', 'd', 'r'),\n ('c', 'd', 'r'),\n ('a', 'b', 'c', 'r'),\n ('a', 'b', 'd', 'r'),\n ('a', 'c', 'd', 'r'),\n ('b', 'c', 'd', 'r')]"
     },
     "execution_count": 200,
     "metadata": {},
     "output_type": "execute_result"
    }
   ],
   "source": [
    "from pulp import *\n",
    "n = len(nodes)\n",
    "subsets = [tuple(c) for c in allcombinations(nodes,n-1)]\n",
    "subset = []\n",
    "for s in subsets:\n",
    "    if 'r' in s:\n",
    "        subset.append(s)\n",
    "subset"
   ],
   "metadata": {
    "collapsed": false,
    "ExecuteTime": {
     "end_time": "2024-04-12T07:56:20.539248100Z",
     "start_time": "2024-04-12T07:56:20.463483300Z"
    }
   },
   "id": "99b40464e5db1754"
  },
  {
   "cell_type": "code",
   "execution_count": 201,
   "outputs": [
    {
     "ename": "TypeError",
     "evalue": "A False object cannot be passed as a constraint",
     "output_type": "error",
     "traceback": [
      "\u001B[1;31m---------------------------------------------------------------------------\u001B[0m",
      "\u001B[1;31mTypeError\u001B[0m                                 Traceback (most recent call last)",
      "Cell \u001B[1;32mIn[201], line 8\u001B[0m\n\u001B[0;32m      6\u001B[0m         \u001B[38;5;28;01mif\u001B[39;00m (u, v) \u001B[38;5;129;01min\u001B[39;00m edges_with_costs: \u001B[38;5;66;03m# Check if the (u, v) tuple is a valid key in edges_with_costs\u001B[39;00m\n\u001B[0;32m      7\u001B[0m             summation \u001B[38;5;241m+\u001B[39m\u001B[38;5;241m=\u001B[39m x[u][v]\n\u001B[1;32m----> 8\u001B[0m prob \u001B[38;5;241m+\u001B[39m\u001B[38;5;241m=\u001B[39m summation \u001B[38;5;241m>\u001B[39m\u001B[38;5;241m=\u001B[39m \u001B[38;5;241m1\u001B[39m\n",
      "File \u001B[1;32mD:\\python\\Anaconda\\Lib\\site-packages\\pulp\\pulp.py:1661\u001B[0m, in \u001B[0;36mLpProblem.__iadd__\u001B[1;34m(self, other)\u001B[0m\n\u001B[0;32m   1659\u001B[0m     \u001B[38;5;28;01mreturn\u001B[39;00m \u001B[38;5;28mself\u001B[39m\n\u001B[0;32m   1660\u001B[0m \u001B[38;5;28;01melif\u001B[39;00m other \u001B[38;5;129;01mis\u001B[39;00m \u001B[38;5;28;01mFalse\u001B[39;00m:\n\u001B[1;32m-> 1661\u001B[0m     \u001B[38;5;28;01mraise\u001B[39;00m \u001B[38;5;167;01mTypeError\u001B[39;00m(\u001B[38;5;124m\"\u001B[39m\u001B[38;5;124mA False object cannot be passed as a constraint\u001B[39m\u001B[38;5;124m\"\u001B[39m)\n\u001B[0;32m   1662\u001B[0m \u001B[38;5;28;01melif\u001B[39;00m \u001B[38;5;28misinstance\u001B[39m(other, LpConstraintVar):\n\u001B[0;32m   1663\u001B[0m     \u001B[38;5;28mself\u001B[39m\u001B[38;5;241m.\u001B[39maddConstraint(other\u001B[38;5;241m.\u001B[39mconstraint)\n",
      "\u001B[1;31mTypeError\u001B[0m: A False object cannot be passed as a constraint"
     ]
    }
   ],
   "source": [
    "for s in subset:\n",
    "    sc = list(set(nodes)-set(s)) # complement of subset s\n",
    "    summation = 0.0\n",
    "    for u in s:\n",
    "        for v in sc:\n",
    "            if (u, v) in edges_with_costs: # Check if the (u, v) tuple is a valid key in edges_with_costs\n",
    "                summation += x[u][v]\n",
    "    prob += summation >= 1  "
   ],
   "metadata": {
    "collapsed": false,
    "ExecuteTime": {
     "end_time": "2024-04-12T07:56:20.541890300Z",
     "start_time": "2024-04-12T07:56:20.471699700Z"
    }
   },
   "id": "1889fde38ba13786"
  },
  {
   "cell_type": "code",
   "execution_count": null,
   "outputs": [],
   "source": [
    "prob.solve()\n",
    "print (\"Status:\", LpStatus[prob.status])"
   ],
   "metadata": {
    "collapsed": false,
    "ExecuteTime": {
     "start_time": "2024-04-12T07:56:20.495444800Z"
    }
   },
   "id": "5aabeeff4e009eaa"
  },
  {
   "cell_type": "code",
   "execution_count": 202,
   "outputs": [
    {
     "name": "stdout",
     "output_type": "stream",
     "text": [
      "Optimal Solution\n"
     ]
    }
   ],
   "source": [
    "print (\"Optimal Solution\")\n",
    "for i in nodes:\n",
    "\tfor j in nodes:\n",
    "\t\tif x[i][j].value() == 1:\n",
    "\t\t\tprint (\"(%s,%s)\"%(i,j))  \n"
   ],
   "metadata": {
    "collapsed": false,
    "ExecuteTime": {
     "end_time": "2024-04-12T07:56:20.597971100Z",
     "start_time": "2024-04-12T07:56:20.549785400Z"
    }
   },
   "id": "2582425cbbedbcde"
  },
  {
   "cell_type": "code",
   "execution_count": 202,
   "outputs": [],
   "source": [],
   "metadata": {
    "collapsed": false,
    "ExecuteTime": {
     "end_time": "2024-04-12T07:56:20.633349Z",
     "start_time": "2024-04-12T07:56:20.602316200Z"
    }
   },
   "id": "49ae41a6b2ab3ed1"
  }
 ],
 "metadata": {
  "kernelspec": {
   "display_name": "Python 3",
   "language": "python",
   "name": "python3"
  },
  "language_info": {
   "codemirror_mode": {
    "name": "ipython",
    "version": 2
   },
   "file_extension": ".py",
   "mimetype": "text/x-python",
   "name": "python",
   "nbconvert_exporter": "python",
   "pygments_lexer": "ipython2",
   "version": "2.7.6"
  }
 },
 "nbformat": 4,
 "nbformat_minor": 5
}
