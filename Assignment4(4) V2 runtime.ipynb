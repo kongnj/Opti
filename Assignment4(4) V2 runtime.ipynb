{
 "cells": [
  {
   "cell_type": "code",
   "execution_count": 328,
   "id": "initial_id",
   "metadata": {
    "collapsed": true,
    "ExecuteTime": {
     "end_time": "2024-04-15T00:15:43.056273Z",
     "start_time": "2024-04-15T00:15:42.962150900Z"
    }
   },
   "outputs": [],
   "source": [
    "import pulp\n",
    "import numpy as np"
   ]
  },
  {
   "cell_type": "code",
   "outputs": [],
   "source": [
    "prob = pulp.LpProblem(\"Minimize_Cost\", pulp.LpMinimize)\n",
    "prob2 = pulp.LpProblem(\"Minimize_Cost\", pulp.LpMinimize)\n",
    "prob3 = pulp.LpProblem(\"Minimize_Cost\", pulp.LpMinimize)"
   ],
   "metadata": {
    "collapsed": false,
    "ExecuteTime": {
     "end_time": "2024-04-15T00:15:43.082573400Z",
     "start_time": "2024-04-15T00:15:43.061211600Z"
    }
   },
   "id": "877afaddd8481875",
   "execution_count": 329
  },
  {
   "cell_type": "code",
   "outputs": [
    {
     "data": {
      "text/plain": "'\\nimport numpy as np\\n\\ndef generate_random_directed_graph(num_nodes, num_edges, cost_range=(1, 10)):\\n    # check the number of nodes and edges\\n    if num_edges < num_nodes or num_edges > num_nodes * (num_nodes - 1) // 2:\\n        raise ValueError(\"Number of edges must be at least num_nodes and no more than num_nodes * (num_nodes - 1) // 2.\")\\n\\n    # product nodes\\n    nodes = [chr(i) for i in range(97, 97 + num_nodes)]\\n\\n    # create a cycle to ensure the strong connection\\n    cycle_edges = [(nodes[i], nodes[(i + 1) % num_nodes]) for i in range(num_nodes)]\\n    \\n    # produce other possible edge\\n    possible_edges = [(nodes[i], nodes[j]) for i in range(num_nodes) for j in range(num_nodes) if i != j and (nodes[j], nodes[i]) not in cycle_edges and (nodes[i], nodes[j]) not in cycle_edges]\\n\\n    # remove the duplicated edge and self cycle\\n    selected_edges = cycle_edges\\n    remaining_edges_count = num_edges - len(cycle_edges)\\n    while remaining_edges_count > 0:\\n        np.random.shuffle(possible_edges)\\n        new_edge = possible_edges[0]\\n        if new_edge not in selected_edges and (new_edge[1], new_edge[0]) not in selected_edges:\\n            selected_edges = selected_edges + [new_edge]\\n            remaining_edges_count -= 1\\n    \\n    # produce edges with costs\\n    edges_with_costs = {edge: np.random.randint(cost_range[0], cost_range[1] + 1) for edge in selected_edges}\\n\\n    return nodes, edges_with_costs\\n\\n# 使用该函数生成一个随机有向图\\nnum_nodes = 10# 节点数量\\nnum_edges = 45# 总边数，至少等于节点数\\nnodes, edges_with_costs = generate_random_directed_graph(num_nodes, num_edges)\\nfor keys in edges_with_costs:\\n    edges_with_costs[keys] = float(edges_with_costs[keys]/100)\\n\\nprint(\"Nodes:\", nodes)\\nprint(\"Directed edges with costs:\", edges_with_costs)\\n'"
     },
     "execution_count": 330,
     "metadata": {},
     "output_type": "execute_result"
    }
   ],
   "source": [
    "'''\n",
    "import numpy as np\n",
    "\n",
    "def generate_random_directed_graph(num_nodes, num_edges, cost_range=(1, 10)):\n",
    "    # check the number of nodes and edges\n",
    "    if num_edges < num_nodes or num_edges > num_nodes * (num_nodes - 1) // 2:\n",
    "        raise ValueError(\"Number of edges must be at least num_nodes and no more than num_nodes * (num_nodes - 1) // 2.\")\n",
    "\n",
    "    # product nodes\n",
    "    nodes = [chr(i) for i in range(97, 97 + num_nodes)]\n",
    "\n",
    "    # create a cycle to ensure the strong connection\n",
    "    cycle_edges = [(nodes[i], nodes[(i + 1) % num_nodes]) for i in range(num_nodes)]\n",
    "    \n",
    "    # produce other possible edge\n",
    "    possible_edges = [(nodes[i], nodes[j]) for i in range(num_nodes) for j in range(num_nodes) if i != j and (nodes[j], nodes[i]) not in cycle_edges and (nodes[i], nodes[j]) not in cycle_edges]\n",
    "\n",
    "    # remove the duplicated edge and self cycle\n",
    "    selected_edges = cycle_edges\n",
    "    remaining_edges_count = num_edges - len(cycle_edges)\n",
    "    while remaining_edges_count > 0:\n",
    "        np.random.shuffle(possible_edges)\n",
    "        new_edge = possible_edges[0]\n",
    "        if new_edge not in selected_edges and (new_edge[1], new_edge[0]) not in selected_edges:\n",
    "            selected_edges = selected_edges + [new_edge]\n",
    "            remaining_edges_count -= 1\n",
    "    \n",
    "    # produce edges with costs\n",
    "    edges_with_costs = {edge: np.random.randint(cost_range[0], cost_range[1] + 1) for edge in selected_edges}\n",
    "\n",
    "    return nodes, edges_with_costs\n",
    "\n",
    "# 使用该函数生成一个随机有向图\n",
    "num_nodes = 10# 节点数量\n",
    "num_edges = 45# 总边数，至少等于节点数\n",
    "nodes, edges_with_costs = generate_random_directed_graph(num_nodes, num_edges)\n",
    "for keys in edges_with_costs:\n",
    "    edges_with_costs[keys] = float(edges_with_costs[keys]/100)\n",
    "\n",
    "print(\"Nodes:\", nodes)\n",
    "print(\"Directed edges with costs:\", edges_with_costs)\n",
    "'''"
   ],
   "metadata": {
    "collapsed": false,
    "ExecuteTime": {
     "end_time": "2024-04-15T00:15:43.107743Z",
     "start_time": "2024-04-15T00:15:43.086935200Z"
    }
   },
   "id": "97f79c3fbc105da3",
   "execution_count": 330
  },
  {
   "cell_type": "code",
   "execution_count": 331,
   "outputs": [],
   "source": [
    "nodes = ['a', 'b', 'c', 'd', 'e', 'f', 'g', 'h', 'i', 'j']\n",
    "edges_with_costs ={('a', 'b'): 0.04, ('b', 'c'): 0.03, ('c', 'd'): 0.07, ('d', 'e'): 0.01, ('e', 'f'): 0.05, ('f', 'g'): 0.08, ('g', 'h'): 0.01, ('h', 'i'): 0.08, ('i', 'j'): 0.03, ('j', 'a'): 0.01, ('d', 'b'): 0.02, ('f', 'h'): 0.08, ('e', 'a'): 0.02, ('g', 'j'): 0.02, ('c', 'h'): 0.06, ('a', 'g'): 0.07, ('d', 'f'): 0.03, ('e', 'g'): 0.08, ('h', 'a'): 0.07, ('h', 'b'): 0.03, ('j', 'e'): 0.07, ('g', 'b'): 0.05, ('i', 'b'): 0.05, ('g', 'c'): 0.08, ('h', 'e'): 0.1, ('j', 'c'): 0.1, ('d', 'i'): 0.01, ('e', 'c'): 0.04, ('g', 'd'): 0.04, ('f', 'a'): 0.09, ('a', 'c'): 0.08, ('i', 'g'): 0.06, ('h', 'd'): 0.06, ('i', 'e'): 0.05, ('f', 'i'): 0.1, ('j', 'd'): 0.02, ('c', 'i'): 0.09, ('f', 'j'): 0.08, ('j', 'h'): 0.03, ('j', 'b'): 0.08, ('e', 'b'): 0.05, ('b', 'f'): 0.03, ('d', 'a'): 0.06, ('a', 'i'): 0.05, ('c', 'f'): 0.04} "
   ],
   "metadata": {
    "collapsed": false,
    "ExecuteTime": {
     "end_time": "2024-04-15T00:15:43.152125700Z",
     "start_time": "2024-04-15T00:15:43.113397900Z"
    }
   },
   "id": "8f7297c9a9ab648d"
  },
  {
   "cell_type": "code",
   "outputs": [
    {
     "data": {
      "text/plain": "'f'"
     },
     "execution_count": 332,
     "metadata": {},
     "output_type": "execute_result"
    }
   ],
   "source": [
    "sp = input('Please select the root: ')\n",
    "sp"
   ],
   "metadata": {
    "collapsed": false,
    "ExecuteTime": {
     "end_time": "2024-04-15T00:15:45.191199700Z",
     "start_time": "2024-04-15T00:15:43.118738800Z"
    }
   },
   "id": "9ddee95e667fd22",
   "execution_count": 332
  },
  {
   "cell_type": "code",
   "outputs": [],
   "source": [
    "import pulp\n",
    "x = pulp.LpVariable.dicts('x',(nodes,nodes),0,1,cat=pulp.LpInteger)\n",
    "y = pulp.LpVariable.dicts('y',(nodes,nodes),0,1,cat=pulp.LpInteger)\n",
    "z = pulp.LpVariable.dicts('z',(nodes,nodes),0,1,cat=pulp.LpInteger)"
   ],
   "metadata": {
    "collapsed": false,
    "ExecuteTime": {
     "end_time": "2024-04-15T00:15:45.192227100Z",
     "start_time": "2024-04-15T00:15:45.098729400Z"
    }
   },
   "id": "5d17f985aa260f7d",
   "execution_count": 333
  },
  {
   "cell_type": "code",
   "outputs": [],
   "source": [
    "prob +=pulp.lpSum(edges_with_costs[u,v] * x[u][v] for u, v in edges_with_costs)\n",
    "prob2 +=pulp.lpSum(edges_with_costs[u,v] * y[u][v] for u, v in edges_with_costs)\n",
    "prob3 +=pulp.lpSum(edges_with_costs[u,v] * z[u][v] for u, v in edges_with_costs)"
   ],
   "metadata": {
    "collapsed": false,
    "ExecuteTime": {
     "end_time": "2024-04-15T00:15:45.214905800Z",
     "start_time": "2024-04-15T00:15:45.195578300Z"
    }
   },
   "id": "5e08c93bd1a5a3fd",
   "execution_count": 334
  },
  {
   "cell_type": "code",
   "outputs": [],
   "source": [
    "for v in nodes:\n",
    "    if v != sp:\n",
    "        prob +=pulp.lpSum(x[u][v] for u in nodes if (u,v) in edges_with_costs) == 1\n",
    "    prob3 +=pulp.lpSum(z[u][v] for u in nodes if (u,v) in edges_with_costs) >= 1\n",
    "\n",
    "for u in nodes:\n",
    "    if u != sp:\n",
    "        prob2 +=pulp.lpSum(y[u][v] for v in nodes if (u,v) in edges_with_costs) == 1\n",
    "    prob3 +=pulp.lpSum(z[u][v] for v in nodes if (u,v) in edges_with_costs) >= 1"
   ],
   "metadata": {
    "collapsed": false,
    "ExecuteTime": {
     "end_time": "2024-04-15T00:15:45.216054100Z",
     "start_time": "2024-04-15T00:15:45.202509Z"
    }
   },
   "id": "d7f0e26280bb24ca",
   "execution_count": 335
  },
  {
   "cell_type": "code",
   "outputs": [],
   "source": [
    "prob += pulp.lpSum(x[u][sp] for u in nodes if (u,sp) in edges_with_costs) == 0\n",
    "prob += pulp.lpSum(x[sp][v] for v in nodes if (sp,v) in edges_with_costs)>= 1\n",
    "\n",
    "prob2 += pulp.lpSum(y[u][sp] for u in nodes if (u,sp) in edges_with_costs) >=1\n",
    "prob2 += pulp.lpSum(y[sp][v] for v in nodes if (sp,v) in edges_with_costs) ==0"
   ],
   "metadata": {
    "collapsed": false,
    "ExecuteTime": {
     "end_time": "2024-04-15T00:15:45.261522900Z",
     "start_time": "2024-04-15T00:15:45.220333200Z"
    }
   },
   "id": "8a0729445a943f16",
   "execution_count": 336
  },
  {
   "cell_type": "code",
   "outputs": [],
   "source": [
    "from pulp import *\n",
    "n = len(nodes)\n",
    "subsets = [tuple(c) for c in allcombinations(nodes,n-1)]\n",
    "subset = []\n",
    "for s in subsets:\n",
    "    if sp in s:\n",
    "        subset.append(s)"
   ],
   "metadata": {
    "collapsed": false,
    "ExecuteTime": {
     "end_time": "2024-04-15T00:15:45.294801700Z",
     "start_time": "2024-04-15T00:15:45.263609100Z"
    }
   },
   "id": "b8f180f13862271c",
   "execution_count": 337
  },
  {
   "cell_type": "code",
   "outputs": [],
   "source": [
    "for s in subset:\n",
    "    sc = list(set(nodes)-set(s)) # complement of subset s\n",
    "    summation = 0.0\n",
    "    for u in s:\n",
    "        for v in sc:\n",
    "            if (u, v) in edges_with_costs: # Check if the (u, v) tuple is a valid key in edges_with_costs\n",
    "                summation += x[u][v]\n",
    "    prob += summation >= 1\n",
    "    summation2 = 0.0\n",
    "    for u in sc:\n",
    "        for v in s:\n",
    "            if (u, v) in edges_with_costs: # Check if the (u, v) tuple is a valid key in edges_with_costs\n",
    "                summation2 += y[u][v]\n",
    "    prob2 += summation2 >= 1\n",
    "    \n",
    "for s in subsets:\n",
    "    sc = list(set(nodes) - set(s))  # complement of subset s\n",
    "    summation3 = 0.0\n",
    "    for u in s:\n",
    "        for v in sc:\n",
    "            if (u, v) in edges_with_costs:  # Check if the (u, v) tuple is a valid key in edges_with_costs\n",
    "                summation3 += z[u][v]\n",
    "    prob3 += summation3 >= 1  "
   ],
   "metadata": {
    "collapsed": false,
    "ExecuteTime": {
     "end_time": "2024-04-15T00:15:45.410482900Z",
     "start_time": "2024-04-15T00:15:45.298956700Z"
    }
   },
   "id": "1aa2965c85a9bc70",
   "execution_count": 338
  },
  {
   "cell_type": "code",
   "execution_count": 339,
   "outputs": [
    {
     "name": "stdout",
     "output_type": "stream",
     "text": [
      "prob_1&2 run_time: 0.08904170989990234\n",
      "Status_1: Optimal\n",
      "Status_2: Optimal\n"
     ]
    }
   ],
   "source": [
    "import time \n",
    "start_time = time.time()    # 程序开始时间\n",
    "prob.solve()\n",
    "prob2.solve()\n",
    "end_time = time.time()    # 程序结束时间\n",
    "run_time = end_time - start_time    # 程序的运行时间，单位为秒\n",
    "print('prob_1&2 run_time:',run_time)\n",
    "print (\"Status_1:\", LpStatus[prob.status])\n",
    "print (\"Status_2:\", LpStatus[prob2.status])"
   ],
   "metadata": {
    "collapsed": false,
    "ExecuteTime": {
     "end_time": "2024-04-15T00:15:45.473728600Z",
     "start_time": "2024-04-15T00:15:45.363772200Z"
    }
   },
   "id": "eab84ccd1b597c6d"
  },
  {
   "cell_type": "code",
   "execution_count": 340,
   "outputs": [
    {
     "name": "stdout",
     "output_type": "stream",
     "text": [
      "prob_3 run_time: 0.06907963752746582\n",
      "Status_3: Optimal\n"
     ]
    }
   ],
   "source": [
    "import time \n",
    "start_time = time.time()    # 程序开始时间\n",
    "prob3.solve()\n",
    "end_time = time.time()    # 程序结束时间\n",
    "run_time = end_time - start_time    # 程序的运行时间，单位为秒\n",
    "print('prob_3 run_time:',run_time)\n",
    "print (\"Status_3:\", LpStatus[prob3.status])"
   ],
   "metadata": {
    "collapsed": false,
    "ExecuteTime": {
     "end_time": "2024-04-15T00:15:45.538317500Z",
     "start_time": "2024-04-15T00:15:45.457933900Z"
    }
   },
   "id": "f1a117def081f77a"
  },
  {
   "cell_type": "code",
   "outputs": [
    {
     "data": {
      "text/plain": "'\\nprob.solve()\\nprint (\"Status:\", LpStatus[prob.status])\\nprob2.solve()\\nprint (\"Status:\", LpStatus[prob2.status])\\nprob3.solve()\\nprint (\"Status:\", LpStatus[prob3.status])\\n'"
     },
     "execution_count": 341,
     "metadata": {},
     "output_type": "execute_result"
    }
   ],
   "source": [
    "'''\n",
    "prob.solve()\n",
    "print (\"Status:\", LpStatus[prob.status])\n",
    "prob2.solve()\n",
    "print (\"Status:\", LpStatus[prob2.status])\n",
    "prob3.solve()\n",
    "print (\"Status:\", LpStatus[prob3.status])\n",
    "'''"
   ],
   "metadata": {
    "collapsed": false,
    "ExecuteTime": {
     "end_time": "2024-04-15T00:15:45.539401200Z",
     "start_time": "2024-04-15T00:15:45.532834Z"
    }
   },
   "id": "4b5f7c8dd20778b4",
   "execution_count": 341
  },
  {
   "cell_type": "code",
   "outputs": [
    {
     "name": "stdout",
     "output_type": "stream",
     "text": [
      "Optimal Solution for out\n"
     ]
    },
    {
     "data": {
      "text/plain": "[('b', 'c'),\n ('d', 'b'),\n ('d', 'e'),\n ('d', 'i'),\n ('f', 'g'),\n ('g', 'h'),\n ('g', 'j'),\n ('j', 'a'),\n ('j', 'd')]"
     },
     "execution_count": 342,
     "metadata": {},
     "output_type": "execute_result"
    }
   ],
   "source": [
    "print (\"Optimal Solution for out\")\n",
    "resultout = []\n",
    "for u in nodes:\n",
    "\tfor v in nodes:\n",
    "\t\tif x[u][v].value() == 1:\n",
    "\t\t\tresultout.append((u,v))\n",
    "resultout"
   ],
   "metadata": {
    "collapsed": false,
    "ExecuteTime": {
     "end_time": "2024-04-15T00:15:45.565644300Z",
     "start_time": "2024-04-15T00:15:45.537222400Z"
    }
   },
   "id": "3cebb5dfa44dae8e",
   "execution_count": 342
  },
  {
   "cell_type": "code",
   "outputs": [
    {
     "data": {
      "text/plain": "0.21000000000000002"
     },
     "execution_count": 343,
     "metadata": {},
     "output_type": "execute_result"
    }
   ],
   "source": [
    "costout = 0.0\n",
    "for e in resultout:\n",
    "    costout+= edges_with_costs[e]\n",
    "costout"
   ],
   "metadata": {
    "collapsed": false,
    "ExecuteTime": {
     "end_time": "2024-04-15T00:15:45.566896800Z",
     "start_time": "2024-04-15T00:15:45.547935900Z"
    }
   },
   "id": "28b9585da32c7961",
   "execution_count": 343
  },
  {
   "cell_type": "code",
   "outputs": [
    {
     "name": "stdout",
     "output_type": "stream",
     "text": [
      "Optimal Solution for in\n"
     ]
    },
    {
     "data": {
      "text/plain": "[('a', 'b'),\n ('b', 'f'),\n ('c', 'f'),\n ('d', 'i'),\n ('e', 'a'),\n ('g', 'h'),\n ('h', 'b'),\n ('i', 'j'),\n ('j', 'a')]"
     },
     "execution_count": 344,
     "metadata": {},
     "output_type": "execute_result"
    }
   ],
   "source": [
    "print (\"Optimal Solution for in\")\n",
    "resultin = []\n",
    "for u in nodes:\n",
    "\tfor v in nodes:\n",
    "\t\tif y[u][v].value() == 1:\n",
    "\t\t    resultin.append((u,v))\n",
    "resultin"
   ],
   "metadata": {
    "collapsed": false,
    "ExecuteTime": {
     "end_time": "2024-04-15T00:15:45.957824Z",
     "start_time": "2024-04-15T00:15:45.553075900Z"
    }
   },
   "id": "a6dc625865284425",
   "execution_count": 344
  },
  {
   "cell_type": "code",
   "outputs": [
    {
     "data": {
      "text/plain": "0.22000000000000003"
     },
     "execution_count": 345,
     "metadata": {},
     "output_type": "execute_result"
    }
   ],
   "source": [
    "costin = 0.0\n",
    "for e in resultin:\n",
    "    costin+= edges_with_costs[e]\n",
    "costin"
   ],
   "metadata": {
    "collapsed": false,
    "ExecuteTime": {
     "end_time": "2024-04-15T00:15:45.993112700Z",
     "start_time": "2024-04-15T00:15:45.561466100Z"
    }
   },
   "id": "6e160a7c709dcc4e",
   "execution_count": 345
  },
  {
   "cell_type": "code",
   "outputs": [
    {
     "name": "stdout",
     "output_type": "stream",
     "text": [
      "Optimal Solution for strongly connected subgraph\n"
     ]
    },
    {
     "data": {
      "text/plain": "[('a', 'b'),\n ('b', 'c'),\n ('c', 'f'),\n ('d', 'e'),\n ('d', 'i'),\n ('e', 'a'),\n ('f', 'g'),\n ('g', 'h'),\n ('h', 'd'),\n ('i', 'j'),\n ('j', 'a')]"
     },
     "execution_count": 346,
     "metadata": {},
     "output_type": "execute_result"
    }
   ],
   "source": [
    "print (\"Optimal Solution for strongly connected subgraph\")\n",
    "resultall = []\n",
    "for u in nodes:\n",
    "\tfor v in nodes:\n",
    "\t\tif z[u][v].value() == 1:\n",
    "\t\t\tresultall.append((u,v))\n",
    "resultall"
   ],
   "metadata": {
    "collapsed": false,
    "ExecuteTime": {
     "end_time": "2024-04-15T00:15:45.995397500Z",
     "start_time": "2024-04-15T00:15:45.569050600Z"
    }
   },
   "id": "6c649a86bd4eec55",
   "execution_count": 346
  },
  {
   "cell_type": "code",
   "outputs": [
    {
     "data": {
      "text/plain": "0.33999999999999997"
     },
     "execution_count": 347,
     "metadata": {},
     "output_type": "execute_result"
    }
   ],
   "source": [
    "costall = 0.0\n",
    "for e in resultall:\n",
    "    costall+= edges_with_costs[e]\n",
    "costall"
   ],
   "metadata": {
    "collapsed": false,
    "ExecuteTime": {
     "end_time": "2024-04-15T00:15:45.996539700Z",
     "start_time": "2024-04-15T00:15:45.578670Z"
    }
   },
   "id": "60ab6466d2e21cde",
   "execution_count": 347
  },
  {
   "cell_type": "code",
   "outputs": [
    {
     "name": "stdout",
     "output_type": "stream",
     "text": [
      "Combine solution for out and in\n"
     ]
    },
    {
     "data": {
      "text/plain": "[('a', 'b'),\n ('b', 'c'),\n ('b', 'f'),\n ('c', 'f'),\n ('d', 'b'),\n ('d', 'e'),\n ('d', 'i'),\n ('e', 'a'),\n ('f', 'g'),\n ('g', 'h'),\n ('g', 'j'),\n ('h', 'b'),\n ('i', 'j'),\n ('j', 'a'),\n ('j', 'd')]"
     },
     "execution_count": 348,
     "metadata": {},
     "output_type": "execute_result"
    }
   ],
   "source": [
    "print (\"Combine solution for out and in\")\n",
    "result=[]\n",
    "for u in nodes:\n",
    "\tfor v in nodes:\n",
    "\t\tif x[u][v].value() == 1:\n",
    "\t\t\tresult.append((u,v))\n",
    "\t\telif y[u][v].value() == 1:\n",
    "\t\t\tresult.append((u,v))\n",
    "            \n",
    "result"
   ],
   "metadata": {
    "collapsed": false,
    "ExecuteTime": {
     "end_time": "2024-04-15T00:15:45.997718900Z",
     "start_time": "2024-04-15T00:15:45.585685Z"
    }
   },
   "id": "2168dbd9ed8107e9",
   "execution_count": 348
  },
  {
   "cell_type": "code",
   "outputs": [
    {
     "data": {
      "text/plain": "0.40000000000000013"
     },
     "execution_count": 349,
     "metadata": {},
     "output_type": "execute_result"
    }
   ],
   "source": [
    "costcom = 0.0\n",
    "for e in result:\n",
    "    costcom+= edges_with_costs[e]\n",
    "costcom"
   ],
   "metadata": {
    "collapsed": false,
    "ExecuteTime": {
     "end_time": "2024-04-15T00:15:46.386323100Z",
     "start_time": "2024-04-15T00:15:46.022304600Z"
    }
   },
   "id": "c0f66f0fe04dee2d",
   "execution_count": 349
  },
  {
   "cell_type": "code",
   "outputs": [
    {
     "name": "stdout",
     "output_type": "stream",
     "text": [
      "f\n",
      "Compare solution combine of out/in and for strongly connected subgraph\n",
      "result for strongly connected subgraph [('a', 'b'), ('b', 'c'), ('c', 'f'), ('d', 'e'), ('d', 'i'), ('e', 'a'), ('f', 'g'), ('g', 'h'), ('h', 'd'), ('i', 'j'), ('j', 'a')] 0.33999999999999997\n",
      "result for combine of out/in: [('a', 'b'), ('b', 'c'), ('b', 'f'), ('c', 'f'), ('d', 'b'), ('d', 'e'), ('d', 'i'), ('e', 'a'), ('f', 'g'), ('g', 'h'), ('g', 'j'), ('h', 'b'), ('i', 'j'), ('j', 'a'), ('j', 'd')] 0.40000000000000013\n",
      "Two result are same: False\n"
     ]
    }
   ],
   "source": [
    "print(sp)\n",
    "print(\"Compare solution combine of out/in and for strongly connected subgraph\")\n",
    "print(\"result for strongly connected subgraph\",resultall,costall)\n",
    "print(\"result for combine of out/in:\", result,costcom)\n",
    "print(\"Two result are same:\", resultall==result)"
   ],
   "metadata": {
    "collapsed": false,
    "ExecuteTime": {
     "end_time": "2024-04-15T00:15:46.443759200Z",
     "start_time": "2024-04-15T00:15:46.102772400Z"
    }
   },
   "id": "30a0e40ac04688bc",
   "execution_count": 350
  },
  {
   "cell_type": "markdown",
   "source": [
    "a\n",
    "Compare solution combine of out/in and for strongly connected subgraph\n",
    "result for strongly connected subgraph [('a', 'b'), ('b', 'c'), ('c', 'f'), ('d', 'e'), ('d', 'i'), ('e', 'a'), ('f', 'g'), ('g', 'h'), ('h', 'd'), ('i', 'j'), ('j', 'a')] 0.33999999999999997\n",
    "result for combine of out/in: [('a', 'g'), ('b', 'c'), ('b', 'f'), ('c', 'f'), ('d', 'b'), ('d', 'e'), ('d', 'f'), ('d', 'i'), ('e', 'a'), ('f', 'j'), ('g', 'h'), ('g', 'j'), ('h', 'b'), ('i', 'j'), ('j', 'a'), ('j', 'd')] 0.4600000000000001\n",
    "Two result are same: False\n",
    "\n",
    "b\n",
    "Compare solution combine of out/in and for strongly connected subgraph\n",
    "result for strongly connected subgraph [('a', 'b'), ('b', 'c'), ('c', 'f'), ('d', 'e'), ('d', 'i'), ('e', 'a'), ('f', 'g'), ('g', 'h'), ('h', 'd'), ('i', 'j'), ('j', 'a')] 0.33999999999999997\n",
    "result for combine of out/in: [('a', 'b'), ('b', 'c'), ('b', 'f'), ('c', 'f'), ('d', 'e'), ('d', 'i'), ('e', 'a'), ('f', 'g'), ('f', 'h'), ('g', 'h'), ('g', 'j'), ('h', 'b'), ('i', 'j'), ('j', 'a'), ('j', 'd')] 0.4600000000000001\n",
    "Two result are same: False\n",
    "\n",
    "c\n",
    "Compare solution combine of out/in and for strongly connected subgraph\n",
    "result for strongly connected subgraph [('a', 'b'), ('b', 'c'), ('c', 'f'), ('d', 'e'), ('d', 'i'), ('e', 'a'), ('f', 'g'), ('g', 'h'), ('h', 'd'), ('i', 'j'), ('j', 'a')] 0.33999999999999997\n",
    "result for combine of out/in: [('a', 'b'), ('b', 'c'), ('c', 'f'), ('d', 'b'), ('d', 'e'), ('d', 'i'), ('e', 'a'), ('f', 'g'), ('f', 'h'), ('g', 'h'), ('g', 'j'), ('h', 'b'), ('i', 'j'), ('j', 'a'), ('j', 'd')] 0.45000000000000007\n",
    "Two result are same: False\n",
    "\n",
    "d\n",
    "Compare solution combine of out/in and for strongly connected subgraph\n",
    "result for strongly connected subgraph [('a', 'b'), ('b', 'c'), ('c', 'f'), ('d', 'e'), ('d', 'i'), ('e', 'a'), ('f', 'g'), ('g', 'h'), ('h', 'd'), ('i', 'j'), ('j', 'a')] 0.33999999999999997\n",
    "result for combine of out/in: [('a', 'b'), ('b', 'c'), ('b', 'f'), ('c', 'f'), ('d', 'b'), ('d', 'e'), ('d', 'i'), ('e', 'a'), ('f', 'j'), ('g', 'h'), ('g', 'j'), ('h', 'b'), ('i', 'g'), ('i', 'j'), ('j', 'a'), ('j', 'd')] 0.4600000000000001\n",
    "Two result are same: False\n",
    "\n",
    "e\n",
    "Compare solution combine of out/in and for strongly connected subgraph\n",
    "result for strongly connected subgraph [('a', 'b'), ('b', 'c'), ('c', 'f'), ('d', 'e'), ('d', 'i'), ('e', 'a'), ('f', 'g'), ('g', 'h'), ('h', 'd'), ('i', 'j'), ('j', 'a')] 0.33999999999999997\n",
    "result for combine of out/in: [('a', 'b'), ('b', 'c'), ('b', 'f'), ('c', 'f'), ('d', 'b'), ('d', 'e'), ('d', 'f'), ('d', 'i'), ('e', 'g'), ('f', 'j'), ('g', 'h'), ('g', 'j'), ('h', 'b'), ('i', 'j'), ('j', 'a'), ('j', 'd')] 0.4900000000000001\n",
    "Two result are same: False\n",
    "\n",
    "f\n",
    "Compare solution combine of out/in and for strongly connected subgraph\n",
    "result for strongly connected subgraph [('a', 'b'), ('b', 'c'), ('c', 'f'), ('d', 'e'), ('d', 'i'), ('e', 'a'), ('f', 'g'), ('g', 'h'), ('h', 'd'), ('i', 'j'), ('j', 'a')] 0.33999999999999997\n",
    "result for combine of out/in: [('a', 'b'), ('b', 'c'), ('b', 'f'), ('c', 'f'), ('d', 'b'), ('d', 'e'), ('d', 'i'), ('e', 'a'), ('f', 'g'), ('g', 'h'), ('g', 'j'), ('h', 'b'), ('i', 'j'), ('j', 'a'), ('j', 'd')] 0.40000000000000013\n",
    "Two result are same: False\n",
    "\n",
    "g\n",
    "Compare solution combine of out/in and for strongly connected subgraph\n",
    "result for strongly connected subgraph [('a', 'b'), ('b', 'c'), ('c', 'f'), ('d', 'e'), ('d', 'i'), ('e', 'a'), ('f', 'g'), ('g', 'h'), ('h', 'd'), ('i', 'j'), ('j', 'a')] 0.33999999999999997\n",
    "result for combine of out/in: [('a', 'b'), ('b', 'c'), ('b', 'f'), ('c', 'f'), ('d', 'b'), ('d', 'e'), ('d', 'f'), ('d', 'i'), ('e', 'a'), ('f', 'g'), ('g', 'h'), ('g', 'j'), ('h', 'b'), ('i', 'j'), ('j', 'a'), ('j', 'd')] 0.43000000000000005\n",
    "Two result are same: False\n",
    "\n",
    "h\n",
    "Compare solution combine of out/in and for strongly connected subgraph\n",
    "result for strongly connected subgraph [('a', 'b'), ('b', 'c'), ('c', 'f'), ('d', 'e'), ('d', 'i'), ('e', 'a'), ('f', 'g'), ('g', 'h'), ('h', 'd'), ('i', 'j'), ('j', 'a')] 0.33999999999999997\n",
    "result for combine of out/in: [('a', 'b'), ('b', 'c'), ('b', 'f'), ('c', 'f'), ('d', 'e'), ('d', 'i'), ('e', 'a'), ('f', 'g'), ('f', 'h'), ('g', 'h'), ('g', 'j'), ('h', 'b'), ('i', 'j'), ('j', 'a'), ('j', 'd')] 0.4600000000000001\n",
    "Two result are same: False\n",
    "\n",
    "i\n",
    "Compare solution combine of out/in and for strongly connected subgraph\n",
    "result for strongly connected subgraph [('a', 'b'), ('b', 'c'), ('c', 'f'), ('d', 'e'), ('d', 'i'), ('e', 'a'), ('f', 'g'), ('g', 'h'), ('h', 'd'), ('i', 'j'), ('j', 'a')] 0.33999999999999997\n",
    "result for combine of out/in: [('a', 'i'), ('b', 'c'), ('b', 'f'), ('c', 'f'), ('d', 'b'), ('d', 'e'), ('e', 'a'), ('f', 'j'), ('g', 'h'), ('g', 'j'), ('h', 'b'), ('i', 'g'), ('j', 'a'), ('j', 'd')] 0.43\n",
    "Two result are same: False\n",
    "\n",
    "j\n",
    "Compare solution combine of out/in and for strongly connected subgraph\n",
    "result for strongly connected subgraph [('a', 'b'), ('b', 'c'), ('c', 'f'), ('d', 'e'), ('d', 'i'), ('e', 'a'), ('f', 'g'), ('g', 'h'), ('h', 'd'), ('i', 'j'), ('j', 'a')] 0.33999999999999997\n",
    "result for combine of out/in: [('a', 'b'), ('b', 'c'), ('b', 'f'), ('c', 'f'), ('d', 'b'), ('d', 'e'), ('d', 'f'), ('d', 'i'), ('e', 'a'), ('f', 'j'), ('g', 'h'), ('h', 'b'), ('i', 'g'), ('i', 'j'), ('j', 'a'), ('j', 'd')] 0.47\n",
    "Two result are same: False\n",
    "\n",
    "\n",
    "\n",
    "\n",
    "\n",
    "\n"
   ],
   "metadata": {
    "collapsed": false
   },
   "id": "80cfe266972c4264"
  }
 ],
 "metadata": {
  "kernelspec": {
   "display_name": "Python 3",
   "language": "python",
   "name": "python3"
  },
  "language_info": {
   "codemirror_mode": {
    "name": "ipython",
    "version": 2
   },
   "file_extension": ".py",
   "mimetype": "text/x-python",
   "name": "python",
   "nbconvert_exporter": "python",
   "pygments_lexer": "ipython2",
   "version": "2.7.6"
  }
 },
 "nbformat": 4,
 "nbformat_minor": 5
}
