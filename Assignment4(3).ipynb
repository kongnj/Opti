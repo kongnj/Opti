{
 "cells": [
  {
   "cell_type": "code",
   "execution_count": 1,
   "id": "initial_id",
   "metadata": {
    "collapsed": true,
    "ExecuteTime": {
     "end_time": "2024-04-14T06:10:18.570215Z",
     "start_time": "2024-04-14T06:10:17.207080Z"
    }
   },
   "outputs": [],
   "source": [
    "import pulp\n",
    "import numpy as np\n",
    "import matplotlib_inline as plt"
   ]
  },
  {
   "cell_type": "code",
   "outputs": [],
   "source": [
    "prob = pulp.LpProblem(\"Minimize_Cost\", pulp.LpMinimize)\n",
    "prob2 = pulp.LpProblem(\"Minimize_Cost\", pulp.LpMinimize)\n",
    "prob3 = pulp.LpProblem(\"Minimize_Cost\", pulp.LpMinimize)"
   ],
   "metadata": {
    "collapsed": false,
    "ExecuteTime": {
     "end_time": "2024-04-14T06:10:18.576415Z",
     "start_time": "2024-04-14T06:10:18.571266Z"
    }
   },
   "id": "877afaddd8481875",
   "execution_count": 2
  },
  {
   "cell_type": "code",
   "outputs": [
    {
     "name": "stdout",
     "output_type": "stream",
     "text": [
      "Nodes: ['r', 'a', 'b', 'c', 'd', 'e', 'f', 'g', 'h', 'i']\n",
      "Directed edges with costs: {('r', 'a'): 4, ('a', 'b'): 9, ('b', 'c'): 3, ('c', 'd'): 1, ('d', 'e'): 8, ('e', 'f'): 6, ('f', 'g'): 5, ('g', 'h'): 10, ('h', 'i'): 10, ('i', 'r'): 6, ('f', 'r'): 8, ('r', 'g'): 10, ('c', 'e'): 1, ('f', 'b'): 8, ('e', 'a'): 8, ('e', 'i'): 2, ('h', 'f'): 1, ('r', 'd'): 2, ('g', 'a'): 1, ('h', 'r'): 6, ('d', 'g'): 4, ('c', 'h'): 4, ('f', 'c'): 1, ('c', 'a'): 2, ('i', 'b'): 9, ('b', 'd'): 1, ('d', 'h'): 1, ('f', 'd'): 9, ('h', 'a'): 9, ('r', 'c'): 5, ('d', 'i'): 7, ('c', 'g'): 7, ('i', 'c'): 10, ('r', 'b'): 10, ('i', 'g'): 9, ('g', 'b'): 10, ('b', 'h'): 5, ('b', 'e'): 8, ('a', 'i'): 3, ('e', 'r'): 10, ('f', 'a'): 1, ('f', 'i'): 1, ('d', 'a'): 4, ('e', 'g'): 5, ('h', 'e'): 9}\n"
     ]
    }
   ],
   "source": [
    "def generate_random_directed_graph(num_nodes, num_edges, cost_range=(1, 10)):\n",
    "    # check the number of nodes and edges\n",
    "    if num_edges < num_nodes or num_edges > num_nodes * (num_nodes - 1) // 2:\n",
    "        raise ValueError(\"Number of edges must be at least num_nodes and no more than num_nodes * (num_nodes - 1) // 2.\")\n",
    "\n",
    "    # product nodes include the r\n",
    "    nodes = ['r'] + [chr(i) for i in range(97, 97 + num_nodes - 1)]\n",
    "\n",
    "    # create a cycle to ensure the strong connection\n",
    "    cycle_edges = [(nodes[i], nodes[(i + 1) % num_nodes]) for i in range(num_nodes)]\n",
    "    \n",
    "    # produce other possible edge\n",
    "    possible_edges = [(nodes[i], nodes[j]) for i in range(num_nodes) for j in range(num_nodes) if i != j and (nodes[j], nodes[i]) not in cycle_edges and (nodes[i], nodes[j]) not in cycle_edges]\n",
    "\n",
    "    # remove the duplicated edge and self cycle\n",
    "    selected_edges = cycle_edges\n",
    "    remaining_edges_count = num_edges - len(cycle_edges)\n",
    "    while remaining_edges_count > 0:\n",
    "        np.random.shuffle(possible_edges)\n",
    "        new_edge = possible_edges[0]\n",
    "        if new_edge not in selected_edges and (new_edge[1], new_edge[0]) not in selected_edges:\n",
    "            selected_edges = selected_edges + [new_edge]\n",
    "            remaining_edges_count -= 1\n",
    "    \n",
    "    # produce edges with costs\n",
    "    edges_with_costs = {edge: np.random.randint(cost_range[0], cost_range[1] + 1) for edge in selected_edges}\n",
    "\n",
    "    return nodes, edges_with_costs\n",
    "\n",
    "# 使用该函数生成一个随机有向图\n",
    "num_nodes = 10# 节点数量，包括 'r'\n",
    "num_edges = 45# 总边数，至少等于节点数\n",
    "nodes, edges_with_costs = generate_random_directed_graph(num_nodes, num_edges)\n",
    "\n",
    "print(\"Nodes:\", nodes)\n",
    "print(\"Directed edges with costs:\", edges_with_costs)"
   ],
   "metadata": {
    "collapsed": false,
    "ExecuteTime": {
     "end_time": "2024-04-14T06:10:18.648604Z",
     "start_time": "2024-04-14T06:10:18.577416Z"
    }
   },
   "id": "97f79c3fbc105da3",
   "execution_count": 3
  },
  {
   "cell_type": "code",
   "outputs": [],
   "source": [
    "#check no duplicated edge and self cycle\n",
    "for (u, v) in edges_with_costs:\n",
    "    if (v, u) in edges_with_costs:\n",
    "        print([u,v])"
   ],
   "metadata": {
    "collapsed": false,
    "ExecuteTime": {
     "end_time": "2024-04-14T06:10:18.654397Z",
     "start_time": "2024-04-14T06:10:18.650609Z"
    }
   },
   "id": "310dfe9368e0dff6",
   "execution_count": 4
  },
  {
   "cell_type": "code",
   "outputs": [],
   "source": [
    "'''\n",
    "nodes = ['a','b','c','d','r']\n",
    "edges_with_costs ={\n",
    "    ('a','b'):3,('c','a'):1,('r','a'):9,('b','c'):8,\n",
    "    ('b','r'):4,('d','b'):6,('r','c'):2,\n",
    "    ('c','d'):7,('d','r'):5\n",
    "}\n",
    "'''"
   ],
   "metadata": {
    "collapsed": false
   },
   "id": "9b3f26203b98b7c2",
   "execution_count": 0
  },
  {
   "cell_type": "code",
   "outputs": [],
   "source": [
    "import pulp\n",
    "x = pulp.LpVariable.dicts('x',(nodes,nodes),0,1,cat=pulp.LpInteger)\n",
    "y = pulp.LpVariable.dicts('y',(nodes,nodes),0,1,cat=pulp.LpInteger)\n",
    "z = pulp.LpVariable.dicts('z',(nodes,nodes),0,1,cat=pulp.LpInteger)"
   ],
   "metadata": {
    "collapsed": false,
    "ExecuteTime": {
     "end_time": "2024-04-14T06:10:23.360515Z",
     "start_time": "2024-04-14T06:10:23.352872Z"
    }
   },
   "id": "5d17f985aa260f7d",
   "execution_count": 5
  },
  {
   "cell_type": "code",
   "outputs": [],
   "source": [
    "prob +=pulp.lpSum(edges_with_costs[u,v] * x[u][v] for u, v in edges_with_costs)\n",
    "prob2 +=pulp.lpSum(edges_with_costs[u,v] * y[u][v] for u, v in edges_with_costs)\n",
    "prob3 +=pulp.lpSum(edges_with_costs[u,v] * z[u][v] for u, v in edges_with_costs)"
   ],
   "metadata": {
    "collapsed": false,
    "ExecuteTime": {
     "end_time": "2024-04-14T06:10:24.108932Z",
     "start_time": "2024-04-14T06:10:24.097864Z"
    }
   },
   "id": "5e08c93bd1a5a3fd",
   "execution_count": 6
  },
  {
   "cell_type": "code",
   "outputs": [],
   "source": [
    "for v in nodes:\n",
    "    if v != 'r':\n",
    "        prob +=pulp.lpSum(x[u][v] for u in nodes if (u,v) in edges_with_costs) == 1\n",
    "    prob3 +=pulp.lpSum(z[u][v] for u in nodes if (u,v) in edges_with_costs) >= 1\n",
    "\n",
    "for u in nodes:\n",
    "    if u != 'r':\n",
    "        prob2 +=pulp.lpSum(y[u][v] for v in nodes if (u,v) in edges_with_costs) == 1\n",
    "    prob3 +=pulp.lpSum(z[u][v] for v in nodes if (u,v) in edges_with_costs) >= 1"
   ],
   "metadata": {
    "collapsed": false,
    "ExecuteTime": {
     "end_time": "2024-04-14T06:10:24.789816Z",
     "start_time": "2024-04-14T06:10:24.782318Z"
    }
   },
   "id": "d7f0e26280bb24ca",
   "execution_count": 7
  },
  {
   "cell_type": "code",
   "outputs": [],
   "source": [
    "prob += pulp.lpSum(x[u]['r'] for u in nodes if (u,'r') in edges_with_costs) == 0\n",
    "prob += pulp.lpSum(x['r'][v] for v in nodes if ('r',v) in edges_with_costs)>= 1\n",
    "\n",
    "prob2 += pulp.lpSum(y[u]['r'] for u in nodes if (u,'r') in edges_with_costs) >=1\n",
    "prob2 += pulp.lpSum(y['r'][v] for v in nodes if ('r',v) in edges_with_costs) ==0"
   ],
   "metadata": {
    "collapsed": false,
    "ExecuteTime": {
     "end_time": "2024-04-14T06:10:25.602937Z",
     "start_time": "2024-04-14T06:10:25.594184Z"
    }
   },
   "id": "8a0729445a943f16",
   "execution_count": 8
  },
  {
   "cell_type": "code",
   "outputs": [],
   "source": [
    "from pulp import *\n",
    "n = len(nodes)\n",
    "subsets = [tuple(c) for c in allcombinations(nodes,n-1)]\n",
    "subset = []\n",
    "for s in subsets:\n",
    "    if 'r' in s:\n",
    "        subset.append(s)"
   ],
   "metadata": {
    "collapsed": false,
    "ExecuteTime": {
     "end_time": "2024-04-14T06:10:26.204099Z",
     "start_time": "2024-04-14T06:10:26.189410Z"
    }
   },
   "id": "b8f180f13862271c",
   "execution_count": 9
  },
  {
   "cell_type": "code",
   "outputs": [],
   "source": [
    "for s in subset:\n",
    "    sc = list(set(nodes)-set(s)) # complement of subset s\n",
    "    summation = 0.0\n",
    "    for u in s:\n",
    "        for v in sc:\n",
    "            if (u, v) in edges_with_costs: # Check if the (u, v) tuple is a valid key in edges_with_costs\n",
    "                summation += x[u][v]\n",
    "    prob += summation >= 1\n",
    "    summation2 = 0.0\n",
    "    for u in sc:\n",
    "        for v in s:\n",
    "            if (u, v) in edges_with_costs: # Check if the (u, v) tuple is a valid key in edges_with_costs\n",
    "                summation2 += y[u][v]\n",
    "    prob2 += summation2 >= 1\n",
    "    \n",
    "for s in subsets:\n",
    "    sc = list(set(nodes) - set(s))  # complement of subset s\n",
    "    summation3 = 0.0\n",
    "    for u in s:\n",
    "        for v in sc:\n",
    "            if (u, v) in edges_with_costs:  # Check if the (u, v) tuple is a valid key in edges_with_costs\n",
    "                summation3 += z[u][v]\n",
    "    prob3 += summation3 >= 1  "
   ],
   "metadata": {
    "collapsed": false,
    "ExecuteTime": {
     "end_time": "2024-04-14T06:10:26.982814Z",
     "start_time": "2024-04-14T06:10:26.836543Z"
    }
   },
   "id": "1aa2965c85a9bc70",
   "execution_count": 10
  },
  {
   "cell_type": "code",
   "outputs": [
    {
     "name": "stdout",
     "output_type": "stream",
     "text": [
      "Status: Optimal\n",
      "Status: Optimal\n",
      "Status: Optimal\n"
     ]
    }
   ],
   "source": [
    "prob.solve()\n",
    "print (\"Status:\", LpStatus[prob.status])\n",
    "prob2.solve()\n",
    "print (\"Status:\", LpStatus[prob2.status])\n",
    "prob3.solve()\n",
    "print (\"Status:\", LpStatus[prob3.status])"
   ],
   "metadata": {
    "collapsed": false,
    "ExecuteTime": {
     "end_time": "2024-04-14T06:10:33.462116Z",
     "start_time": "2024-04-14T06:10:27.855465Z"
    }
   },
   "id": "4b5f7c8dd20778b4",
   "execution_count": 11
  },
  {
   "cell_type": "code",
   "outputs": [
    {
     "name": "stdout",
     "output_type": "stream",
     "text": [
      "Optimal Solution for out\n"
     ]
    },
    {
     "data": {
      "text/plain": "[('r', 'd'),\n ('c', 'e'),\n ('d', 'g'),\n ('d', 'h'),\n ('f', 'a'),\n ('f', 'b'),\n ('f', 'c'),\n ('f', 'i'),\n ('h', 'f')]"
     },
     "execution_count": 12,
     "metadata": {},
     "output_type": "execute_result"
    }
   ],
   "source": [
    "print (\"Optimal Solution for out\")\n",
    "resultout = []\n",
    "for u in nodes:\n",
    "\tfor v in nodes:\n",
    "\t\tif x[u][v].value() == 1:\n",
    "\t\t\tresultout.append((u,v))\n",
    "resultout"
   ],
   "metadata": {
    "collapsed": false,
    "ExecuteTime": {
     "end_time": "2024-04-14T06:10:34.244720Z",
     "start_time": "2024-04-14T06:10:34.233476Z"
    }
   },
   "id": "d1e0da92c64953a8",
   "execution_count": 12
  },
  {
   "cell_type": "code",
   "outputs": [
    {
     "name": "stdout",
     "output_type": "stream",
     "text": [
      "Optimal cost for out\n"
     ]
    },
    {
     "data": {
      "text/plain": "20.0"
     },
     "execution_count": 13,
     "metadata": {},
     "output_type": "execute_result"
    }
   ],
   "source": [
    "print (\"Optimal cost for out\")\n",
    "costout = 0.0\n",
    "for e in resultout:\n",
    "    costout+= edges_with_costs[e]\n",
    "costout"
   ],
   "metadata": {
    "collapsed": false,
    "ExecuteTime": {
     "end_time": "2024-04-14T06:10:39.015698Z",
     "start_time": "2024-04-14T06:10:39.007349Z"
    }
   },
   "id": "741e7b20864c4a49",
   "execution_count": 13
  },
  {
   "cell_type": "code",
   "outputs": [
    {
     "name": "stdout",
     "output_type": "stream",
     "text": [
      "Optimal Solution for in\n"
     ]
    },
    {
     "data": {
      "text/plain": "[('a', 'i'),\n ('b', 'd'),\n ('c', 'e'),\n ('d', 'h'),\n ('e', 'i'),\n ('f', 'c'),\n ('g', 'a'),\n ('h', 'f'),\n ('i', 'r')]"
     },
     "execution_count": 14,
     "metadata": {},
     "output_type": "execute_result"
    }
   ],
   "source": [
    "print (\"Optimal Solution for in\")\n",
    "resultin = []\n",
    "for u in nodes:\n",
    "\tfor v in nodes:\n",
    "\t\tif y[u][v].value() == 1:\n",
    "\t\t    resultin.append((u,v))\n",
    "resultin"
   ],
   "metadata": {
    "collapsed": false,
    "ExecuteTime": {
     "end_time": "2024-04-14T06:10:44.754773Z",
     "start_time": "2024-04-14T06:10:44.745372Z"
    }
   },
   "id": "ec4eb6982e5896aa",
   "execution_count": 14
  },
  {
   "cell_type": "code",
   "outputs": [
    {
     "name": "stdout",
     "output_type": "stream",
     "text": [
      "Optimal cost for in\n"
     ]
    },
    {
     "data": {
      "text/plain": "17.0"
     },
     "execution_count": 15,
     "metadata": {},
     "output_type": "execute_result"
    }
   ],
   "source": [
    "print (\"Optimal cost for in\")\n",
    "costin = 0.0\n",
    "for e in resultin:\n",
    "    costin+= edges_with_costs[e]\n",
    "costin"
   ],
   "metadata": {
    "collapsed": false,
    "ExecuteTime": {
     "end_time": "2024-04-14T06:10:46.157284Z",
     "start_time": "2024-04-14T06:10:46.150322Z"
    }
   },
   "id": "8b921d86db8def30",
   "execution_count": 15
  },
  {
   "cell_type": "code",
   "outputs": [
    {
     "name": "stdout",
     "output_type": "stream",
     "text": [
      "Optimal Solution for strongly connected subgraph\n"
     ]
    },
    {
     "data": {
      "text/plain": "[('r', 'd'),\n ('a', 'b'),\n ('b', 'd'),\n ('c', 'e'),\n ('d', 'g'),\n ('d', 'h'),\n ('e', 'i'),\n ('f', 'c'),\n ('g', 'a'),\n ('h', 'f'),\n ('i', 'r')]"
     },
     "execution_count": 16,
     "metadata": {},
     "output_type": "execute_result"
    }
   ],
   "source": [
    "print (\"Optimal Solution for strongly connected subgraph\")\n",
    "resultall = []\n",
    "for u in nodes:\n",
    "\tfor v in nodes:\n",
    "\t\tif z[u][v].value() == 1:\n",
    "\t\t\tresultall.append((u,v))\n",
    "resultall"
   ],
   "metadata": {
    "collapsed": false,
    "ExecuteTime": {
     "end_time": "2024-04-14T06:10:49.711997Z",
     "start_time": "2024-04-14T06:10:49.702694Z"
    }
   },
   "id": "baa041c042c87b1c",
   "execution_count": 16
  },
  {
   "cell_type": "code",
   "outputs": [
    {
     "name": "stdout",
     "output_type": "stream",
     "text": [
      "Optimal Cost for strongly connected subgraph\n"
     ]
    },
    {
     "data": {
      "text/plain": "29.0"
     },
     "execution_count": 17,
     "metadata": {},
     "output_type": "execute_result"
    }
   ],
   "source": [
    "print (\"Optimal Cost for strongly connected subgraph\")\n",
    "costall = 0.0\n",
    "for e in resultall:\n",
    "    costall+= edges_with_costs[e]\n",
    "costall"
   ],
   "metadata": {
    "collapsed": false,
    "ExecuteTime": {
     "end_time": "2024-04-14T06:10:51.766029Z",
     "start_time": "2024-04-14T06:10:51.756006Z"
    }
   },
   "id": "60ab6466d2e21cde",
   "execution_count": 17
  },
  {
   "cell_type": "code",
   "outputs": [
    {
     "name": "stdout",
     "output_type": "stream",
     "text": [
      "Combine solution for out and in\n"
     ]
    },
    {
     "data": {
      "text/plain": "[('r', 'd'),\n ('a', 'i'),\n ('b', 'd'),\n ('c', 'e'),\n ('d', 'g'),\n ('d', 'h'),\n ('e', 'i'),\n ('f', 'a'),\n ('f', 'b'),\n ('f', 'c'),\n ('f', 'i'),\n ('g', 'a'),\n ('h', 'f'),\n ('i', 'r')]"
     },
     "execution_count": 18,
     "metadata": {},
     "output_type": "execute_result"
    }
   ],
   "source": [
    "print (\"Combine solution for out and in\")\n",
    "result=[]\n",
    "for u in nodes:\n",
    "\tfor v in nodes:\n",
    "\t\tif x[u][v].value() == 1:\n",
    "\t\t\tresult.append((u,v))\n",
    "\t\telif y[u][v].value() == 1:\n",
    "\t\t\tresult.append((u,v))\n",
    "            \n",
    "result"
   ],
   "metadata": {
    "collapsed": false,
    "ExecuteTime": {
     "end_time": "2024-04-14T06:10:54.428535Z",
     "start_time": "2024-04-14T06:10:54.416647Z"
    }
   },
   "id": "afd2fd38008a4dd0",
   "execution_count": 18
  },
  {
   "cell_type": "code",
   "outputs": [
    {
     "name": "stdout",
     "output_type": "stream",
     "text": [
      "Combine Cost for out and in\n"
     ]
    },
    {
     "data": {
      "text/plain": "33.0"
     },
     "execution_count": 19,
     "metadata": {},
     "output_type": "execute_result"
    }
   ],
   "source": [
    "print (\"Combine Cost for out and in\")\n",
    "costcom = 0.0\n",
    "for e in result:\n",
    "    costcom+= edges_with_costs[e]\n",
    "costcom"
   ],
   "metadata": {
    "collapsed": false,
    "ExecuteTime": {
     "end_time": "2024-04-14T06:11:09.044429Z",
     "start_time": "2024-04-14T06:11:09.034295Z"
    }
   },
   "id": "c0f66f0fe04dee2d",
   "execution_count": 19
  },
  {
   "cell_type": "code",
   "outputs": [
    {
     "name": "stdout",
     "output_type": "stream",
     "text": [
      "Compare solution combine of out/in and for strongly connected subgraph\n",
      "result for strongly connected subgraph [('r', 'd'), ('a', 'b'), ('b', 'd'), ('c', 'e'), ('d', 'g'), ('d', 'h'), ('e', 'i'), ('f', 'c'), ('g', 'a'), ('h', 'f'), ('i', 'r')]\n",
      "result for combine of out/in: [('r', 'd'), ('a', 'i'), ('b', 'd'), ('c', 'e'), ('d', 'g'), ('d', 'h'), ('e', 'i'), ('f', 'a'), ('f', 'b'), ('f', 'c'), ('f', 'i'), ('g', 'a'), ('h', 'f'), ('i', 'r')]\n",
      "Two result are same: False\n"
     ]
    }
   ],
   "source": [
    "print(\"Compare solution combine of out/in and for strongly connected subgraph\")\n",
    "print(\"result for strongly connected subgraph\",resultall)\n",
    "print(\"result for combine of out/in:\", result)\n",
    "print(\"Two result are same:\", resultall==result)"
   ],
   "metadata": {
    "collapsed": false,
    "ExecuteTime": {
     "end_time": "2024-04-14T06:11:09.854132Z",
     "start_time": "2024-04-14T06:11:09.846226Z"
    }
   },
   "id": "30a0e40ac04688bc",
   "execution_count": 20
  },
  {
   "cell_type": "code",
   "outputs": [],
   "source": [],
   "metadata": {
    "collapsed": false,
    "ExecuteTime": {
     "end_time": "2024-04-13T12:59:04.569934Z",
     "start_time": "2024-04-13T12:59:04.566610Z"
    }
   },
   "id": "1746d7d09305cc11",
   "execution_count": 19
  }
 ],
 "metadata": {
  "kernelspec": {
   "display_name": "Python 3",
   "language": "python",
   "name": "python3"
  },
  "language_info": {
   "codemirror_mode": {
    "name": "ipython",
    "version": 2
   },
   "file_extension": ".py",
   "mimetype": "text/x-python",
   "name": "python",
   "nbconvert_exporter": "python",
   "pygments_lexer": "ipython2",
   "version": "2.7.6"
  }
 },
 "nbformat": 4,
 "nbformat_minor": 5
}
