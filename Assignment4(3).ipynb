{
 "cells": [
  {
   "cell_type": "code",
   "execution_count": 10,
   "id": "initial_id",
   "metadata": {
    "collapsed": true,
    "ExecuteTime": {
     "end_time": "2024-04-12T12:40:01.565376Z",
     "start_time": "2024-04-12T12:40:01.557991Z"
    }
   },
   "outputs": [],
   "source": [
    "import pulp\n",
    "import numpy as np\n",
    "import matplotlib_inline as plt"
   ]
  },
  {
   "cell_type": "code",
   "outputs": [],
   "source": [
    "prob = pulp.LpProblem(\"Minimize_Cost\", pulp.LpMinimize)\n",
    "prob2 = pulp.LpProblem(\"Minimize_Cost\", pulp.LpMinimize)\n",
    "prob3 = pulp.LpProblem(\"Minimize_Cost\", pulp.LpMinimize)"
   ],
   "metadata": {
    "collapsed": false,
    "ExecuteTime": {
     "end_time": "2024-04-12T12:40:04.141819Z",
     "start_time": "2024-04-12T12:40:04.135040Z"
    }
   },
   "id": "877afaddd8481875",
   "execution_count": 11
  },
  {
   "cell_type": "code",
   "outputs": [
    {
     "name": "stdout",
     "output_type": "stream",
     "text": [
      "Nodes: ['r', 'a', 'b', 'c', 'd', 'e']\n",
      "Directed edges with costs: {('r', 'a'): 8, ('a', 'b'): 3, ('b', 'c'): 4, ('c', 'd'): 10, ('d', 'e'): 9, ('e', 'r'): 2, ('b', 'e'): 6, ('b', 'd'): 8, ('a', 'e'): 4, ('a', 'd'): 8}\n"
     ]
    }
   ],
   "source": [
    "import numpy as np\n",
    "\n",
    "def generate_random_directed_graph(num_nodes, num_edges, cost_range=(1, 10)):\n",
    "    # check the number of nodes and edges\n",
    "    if num_edges < num_nodes or num_edges > num_nodes * (num_nodes - 1) // 2:\n",
    "        raise ValueError(\"Number of edges must be at least num_nodes and no more than num_nodes * (num_nodes - 1) // 2.\")\n",
    "\n",
    "    # product nodes include the r\n",
    "    nodes = ['r'] + [chr(i) for i in range(97, 97 + num_nodes - 1)]\n",
    "\n",
    "    # create a cycle to ensure the strong connection\n",
    "    cycle_edges = [(nodes[i], nodes[(i + 1) % num_nodes]) for i in range(num_nodes)]\n",
    "    \n",
    "    # produce other possible edge\n",
    "    possible_edges = [(nodes[i], nodes[j]) for i in range(num_nodes) for j in range(num_nodes) if i != j and (nodes[j], nodes[i]) not in cycle_edges]\n",
    "\n",
    "    # remove the duplicated edge\n",
    "    np.random.shuffle(possible_edges)\n",
    "    remaining_edges_count = num_edges - len(cycle_edges)\n",
    "    selected_edges = cycle_edges + possible_edges[:remaining_edges_count]\n",
    "    \n",
    "    # produce edges with costs\n",
    "    edges_with_costs = {edge: np.random.randint(cost_range[0], cost_range[1] + 1) for edge in selected_edges}\n",
    "\n",
    "    return nodes, edges_with_costs\n",
    "\n",
    "# 使用该函数生成一个随机有向图\n",
    "num_nodes = 6  # 节点数量，包括 'r'\n",
    "num_edges = 10  # 总边数，至少等于节点数\n",
    "nodes, edges_with_costs = generate_random_directed_graph(num_nodes, num_edges)\n",
    "\n",
    "print(\"Nodes:\", nodes)\n",
    "print(\"Directed edges with costs:\", edges_with_costs)"
   ],
   "metadata": {
    "collapsed": false,
    "ExecuteTime": {
     "end_time": "2024-04-12T12:41:59.865237Z",
     "start_time": "2024-04-12T12:41:59.846063Z"
    }
   },
   "id": "97f79c3fbc105da3",
   "execution_count": 12
  },
  {
   "cell_type": "code",
   "outputs": [],
   "source": [
    "'''\n",
    "nodes = ['a','b','c','d','r']\n",
    "edges_with_costs ={\n",
    "    ('a','b'):3,('c','a'):1,('r','a'):9,('b','c'):8,\n",
    "    ('b','r'):4,('d','b'):6,('r','c'):2,\n",
    "    ('c','d'):7,('d','r'):5\n",
    "}\n",
    "'''"
   ],
   "metadata": {
    "collapsed": false,
    "ExecuteTime": {
     "end_time": "2024-04-12T12:10:13.567603Z",
     "start_time": "2024-04-12T12:10:13.561548Z"
    }
   },
   "id": "9ddee95e667fd22",
   "execution_count": 118
  },
  {
   "cell_type": "code",
   "outputs": [],
   "source": [
    "import pulp\n",
    "x = pulp.LpVariable.dicts('x',(nodes,nodes),0,1,cat=pulp.LpInteger)\n",
    "y = pulp.LpVariable.dicts('y',(nodes,nodes),0,1,cat=pulp.LpInteger)\n",
    "z = pulp.LpVariable.dicts('z',(nodes,nodes),0,1,cat=pulp.LpInteger)"
   ],
   "metadata": {
    "collapsed": false,
    "ExecuteTime": {
     "end_time": "2024-04-12T12:42:06.783767Z",
     "start_time": "2024-04-12T12:42:06.776771Z"
    }
   },
   "id": "5d17f985aa260f7d",
   "execution_count": 13
  },
  {
   "cell_type": "code",
   "outputs": [],
   "source": [
    "prob +=pulp.lpSum(edges_with_costs[u,v] * x[u][v] for u, v in edges_with_costs)\n",
    "prob2 +=pulp.lpSum(edges_with_costs[u,v] * y[u][v] for u, v in edges_with_costs)\n",
    "prob3 +=pulp.lpSum(edges_with_costs[u,v] * z[u][v] for u, v in edges_with_costs)"
   ],
   "metadata": {
    "collapsed": false,
    "ExecuteTime": {
     "end_time": "2024-04-12T12:42:09.561921Z",
     "start_time": "2024-04-12T12:42:09.555117Z"
    }
   },
   "id": "5e08c93bd1a5a3fd",
   "execution_count": 14
  },
  {
   "cell_type": "code",
   "outputs": [],
   "source": [
    "for v in nodes:\n",
    "    if v != 'r':\n",
    "        prob +=pulp.lpSum(x[u][v] for u in nodes if (u,v) in edges_with_costs) == 1\n",
    "    prob3 +=pulp.lpSum(z[u][v] for u in nodes if (u,v) in edges_with_costs) >= 1\n",
    "\n",
    "for u in nodes:\n",
    "    if u != 'r':\n",
    "        prob2 +=pulp.lpSum(y[u][v] for v in nodes if (u,v) in edges_with_costs) == 1\n",
    "    prob3 +=pulp.lpSum(z[u][v] for v in nodes if (u,v) in edges_with_costs) >= 1"
   ],
   "metadata": {
    "collapsed": false,
    "ExecuteTime": {
     "end_time": "2024-04-12T12:42:12.519399Z",
     "start_time": "2024-04-12T12:42:12.511183Z"
    }
   },
   "id": "d7f0e26280bb24ca",
   "execution_count": 15
  },
  {
   "cell_type": "code",
   "outputs": [],
   "source": [
    "prob += pulp.lpSum(x[u]['r'] for u in nodes if (u,'r') in edges_with_costs) == 0\n",
    "prob += pulp.lpSum(x['r'][v] for v in nodes if ('r',v) in edges_with_costs)>= 1\n",
    "\n",
    "prob2 += pulp.lpSum(y[u]['r'] for u in nodes if (u,'r') in edges_with_costs) >=1\n",
    "prob2 += pulp.lpSum(y['r'][v] for v in nodes if ('r',v) in edges_with_costs) ==0"
   ],
   "metadata": {
    "collapsed": false,
    "ExecuteTime": {
     "end_time": "2024-04-12T12:42:14.911980Z",
     "start_time": "2024-04-12T12:42:14.904502Z"
    }
   },
   "id": "8a0729445a943f16",
   "execution_count": 16
  },
  {
   "cell_type": "code",
   "outputs": [],
   "source": [
    "from pulp import *\n",
    "n = len(nodes)\n",
    "subsets = [tuple(c) for c in allcombinations(nodes,n-1)]\n",
    "subset = []\n",
    "for s in subsets:\n",
    "    if 'r' in s:\n",
    "        subset.append(s)"
   ],
   "metadata": {
    "collapsed": false,
    "ExecuteTime": {
     "end_time": "2024-04-12T12:42:28.647975Z",
     "start_time": "2024-04-12T12:42:28.639146Z"
    }
   },
   "id": "b8f180f13862271c",
   "execution_count": 17
  },
  {
   "cell_type": "code",
   "outputs": [],
   "source": [
    "for s in subset:\n",
    "    sc = list(set(nodes)-set(s)) # complement of subset s\n",
    "    summation = 0.0\n",
    "    for u in s:\n",
    "        for v in sc:\n",
    "            if (u, v) in edges_with_costs: # Check if the (u, v) tuple is a valid key in edges_with_costs\n",
    "                summation += x[u][v]\n",
    "    prob += summation >= 1\n",
    "    summation2 = 0.0\n",
    "    for u in sc:\n",
    "        for v in s:\n",
    "            if (u, v) in edges_with_costs: # Check if the (u, v) tuple is a valid key in edges_with_costs\n",
    "                summation2 += y[u][v]\n",
    "    prob2 += summation2 >= 1\n",
    "    \n",
    "for s in subsets:\n",
    "    sc = list(set(nodes) - set(s))  # complement of subset s\n",
    "    summation3 = 0.0\n",
    "    for u in s:\n",
    "        for v in sc:\n",
    "            if (u, v) in edges_with_costs:  # Check if the (u, v) tuple is a valid key in edges_with_costs\n",
    "                summation3 += z[u][v]\n",
    "    prob3 += summation3 >= 1  "
   ],
   "metadata": {
    "collapsed": false,
    "ExecuteTime": {
     "end_time": "2024-04-12T12:42:34.159835Z",
     "start_time": "2024-04-12T12:42:34.144372Z"
    }
   },
   "id": "1aa2965c85a9bc70",
   "execution_count": 18
  },
  {
   "cell_type": "code",
   "outputs": [
    {
     "name": "stdout",
     "output_type": "stream",
     "text": [
      "Status: Optimal\n",
      "Status: Optimal\n",
      "Status: Optimal\n"
     ]
    }
   ],
   "source": [
    "prob.solve()\n",
    "print (\"Status:\", LpStatus[prob.status])\n",
    "prob2.solve()\n",
    "print (\"Status:\", LpStatus[prob2.status])\n",
    "prob3.solve()\n",
    "print (\"Status:\", LpStatus[prob3.status])"
   ],
   "metadata": {
    "collapsed": false,
    "ExecuteTime": {
     "end_time": "2024-04-12T12:42:36.075819Z",
     "start_time": "2024-04-12T12:42:35.961590Z"
    }
   },
   "id": "4b5f7c8dd20778b4",
   "execution_count": 19
  },
  {
   "cell_type": "code",
   "outputs": [
    {
     "name": "stdout",
     "output_type": "stream",
     "text": [
      "Optimal Solution for out\n",
      "(r,a)\n",
      "(a,b)\n",
      "(a,d)\n",
      "(a,e)\n",
      "(b,c)\n",
      "Optimal Solution for in\n",
      "(a,b)\n",
      "(b,c)\n",
      "(c,d)\n",
      "(d,e)\n",
      "(e,r)\n",
      "Optimal Solution for strongly connected subgraph\n"
     ]
    },
    {
     "data": {
      "text/plain": "[('r', 'a'), ('a', 'b'), ('b', 'c'), ('c', 'd'), ('d', 'e'), ('e', 'r')]"
     },
     "execution_count": 20,
     "metadata": {},
     "output_type": "execute_result"
    }
   ],
   "source": [
    "print (\"Optimal Solution for out\")\n",
    "for u in nodes:\n",
    "\tfor v in nodes:\n",
    "\t\tif x[u][v].value() == 1:\n",
    "\t\t\tprint(\"(%s,%s)\"%(u,v),)\n",
    "\n",
    "            \n",
    "print (\"Optimal Solution for in\")\n",
    "for u in nodes:\n",
    "\tfor v in nodes:\n",
    "\t\tif y[u][v].value() == 1:\n",
    "\t\t\tprint(\"(%s,%s)\"%(u,v),)\n",
    "\n",
    "print (\"Optimal Solution for strongly connected subgraph\")\n",
    "resultall = []\n",
    "for u in nodes:\n",
    "\tfor v in nodes:\n",
    "\t\tif z[u][v].value() == 1:\n",
    "\t\t\tresultall.append((u,v))\n",
    "resultall"
   ],
   "metadata": {
    "collapsed": false,
    "ExecuteTime": {
     "end_time": "2024-04-12T12:42:38.967614Z",
     "start_time": "2024-04-12T12:42:38.958660Z"
    }
   },
   "id": "60ab6466d2e21cde",
   "execution_count": 20
  },
  {
   "cell_type": "code",
   "outputs": [
    {
     "name": "stdout",
     "output_type": "stream",
     "text": [
      "Combine solution for out and in\n"
     ]
    },
    {
     "data": {
      "text/plain": "[('r', 'a'),\n ('a', 'b'),\n ('a', 'd'),\n ('a', 'e'),\n ('b', 'c'),\n ('c', 'd'),\n ('d', 'e'),\n ('e', 'r')]"
     },
     "execution_count": 21,
     "metadata": {},
     "output_type": "execute_result"
    }
   ],
   "source": [
    "print (\"Combine solution for out and in\")\n",
    "result=[]\n",
    "for u in nodes:\n",
    "\tfor v in nodes:\n",
    "\t\tif x[u][v].value() == 1:\n",
    "\t\t\tresult.append((u,v))\n",
    "\t\telif y[u][v].value() == 1:\n",
    "\t\t\tresult.append((u,v))\n",
    "            \n",
    "result"
   ],
   "metadata": {
    "collapsed": false,
    "ExecuteTime": {
     "end_time": "2024-04-12T12:42:58.369356Z",
     "start_time": "2024-04-12T12:42:58.359891Z"
    }
   },
   "id": "c0f66f0fe04dee2d",
   "execution_count": 21
  },
  {
   "cell_type": "code",
   "outputs": [
    {
     "name": "stdout",
     "output_type": "stream",
     "text": [
      "Compare solution combine of out/in and for strongly connected subgraph\n",
      "result for strongly connected subgraph [('a', 'b'), ('b', 'r'), ('c', 'a'), ('c', 'd'), ('d', 'r'), ('r', 'c')]\n",
      "result for combine of out/in: [('a', 'b'), ('b', 'r'), ('c', 'a'), ('c', 'd'), ('d', 'r'), ('r', 'c')]\n",
      "Two result are same: True\n"
     ]
    }
   ],
   "source": [
    "print(\"Compare solution combine of out/in and for strongly connected subgraph\")\n",
    "print(\"result for strongly connected subgraph\",resultall)\n",
    "print(\"result for combine of out/in:\", result)\n",
    "print(\"Two result are same:\", resultall==result)"
   ],
   "metadata": {
    "collapsed": false,
    "ExecuteTime": {
     "end_time": "2024-04-12T12:19:55.239475Z",
     "start_time": "2024-04-12T12:19:55.232426Z"
    }
   },
   "id": "30a0e40ac04688bc",
   "execution_count": 136
  },
  {
   "cell_type": "code",
   "outputs": [],
   "source": [],
   "metadata": {
    "collapsed": false
   },
   "id": "1746d7d09305cc11"
  }
 ],
 "metadata": {
  "kernelspec": {
   "display_name": "Python 3",
   "language": "python",
   "name": "python3"
  },
  "language_info": {
   "codemirror_mode": {
    "name": "ipython",
    "version": 2
   },
   "file_extension": ".py",
   "mimetype": "text/x-python",
   "name": "python",
   "nbconvert_exporter": "python",
   "pygments_lexer": "ipython2",
   "version": "2.7.6"
  }
 },
 "nbformat": 4,
 "nbformat_minor": 5
}
