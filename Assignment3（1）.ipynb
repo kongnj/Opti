{
 "cells": [
  {
   "cell_type": "code",
   "execution_count": 50,
   "id": "initial_id",
   "metadata": {
    "collapsed": true,
    "ExecuteTime": {
     "end_time": "2024-04-15T22:53:32.126669Z",
     "start_time": "2024-04-15T22:53:32.120286Z"
    }
   },
   "outputs": [],
   "source": [
    "import pulp\n",
    "import pandas as pd\n",
    "import numpy as np\n",
    "import matplotlib_inline as plt"
   ]
  },
  {
   "cell_type": "code",
   "outputs": [
    {
     "data": {
      "text/plain": "[[0, 11],\n [0, 17],\n [0, 27],\n [0, 31],\n [0, 32],\n [0, 34],\n [0, 38],\n [0, 39],\n [0, 42],\n [0, 45],\n [0, 51],\n [0, 57],\n [0, 61],\n [0, 66],\n [0, 75],\n [0, 81],\n [0, 84],\n [1, 10],\n [1, 16],\n [1, 24],\n [1, 28],\n [1, 44],\n [1, 57],\n [1, 61],\n [1, 64],\n [1, 72],\n [1, 77],\n [1, 79],\n [2, 5],\n [2, 6],\n [2, 7],\n [2, 33],\n [2, 34],\n [2, 60],\n [2, 70],\n [3, 14],\n [3, 17],\n [3, 19],\n [3, 26],\n [3, 30],\n [3, 31],\n [3, 38],\n [3, 46],\n [3, 72],\n [3, 73],\n [4, 6],\n [4, 36],\n [4, 38],\n [4, 39],\n [4, 41],\n [4, 54],\n [4, 70],\n [5, 9],\n [5, 11],\n [5, 20],\n [5, 21],\n [5, 27],\n [5, 43],\n [5, 49],\n [5, 53],\n [5, 64],\n [5, 70],\n [5, 83],\n [6, 25],\n [6, 31],\n [6, 32],\n [6, 33],\n [6, 35],\n [6, 38],\n [6, 58],\n [6, 67],\n [6, 70],\n [6, 77],\n [6, 79],\n [6, 80],\n [6, 81],\n [6, 84],\n [7, 10],\n [7, 11],\n [7, 26],\n [7, 29],\n [7, 34],\n [7, 36],\n [7, 37],\n [7, 38],\n [7, 59],\n [7, 60],\n [7, 77],\n [8, 10],\n [8, 11],\n [8, 23],\n [8, 31],\n [8, 45],\n [8, 46],\n [8, 47],\n [8, 48],\n [8, 57],\n [8, 58],\n [8, 59],\n [8, 67],\n [8, 75],\n [8, 76],\n [8, 78],\n [8, 81],\n [8, 83],\n [9, 12],\n [9, 17],\n [9, 29],\n [9, 39],\n [9, 40],\n [9, 44],\n [9, 59],\n [9, 69],\n [9, 75],\n [9, 80],\n [9, 83],\n [9, 84],\n [10, 11],\n [10, 21],\n [10, 41],\n [10, 44],\n [10, 54],\n [10, 55],\n [10, 68],\n [10, 69],\n [10, 78],\n [11, 20],\n [11, 28],\n [11, 32],\n [11, 53],\n [11, 58],\n [11, 72],\n [11, 75],\n [12, 18],\n [12, 39],\n [12, 59],\n [12, 62],\n [12, 68],\n [12, 73],\n [12, 78],\n [12, 79],\n [12, 80],\n [12, 82],\n [13, 24],\n [13, 30],\n [13, 70],\n [13, 77],\n [13, 80],\n [14, 16],\n [14, 18],\n [14, 26],\n [14, 36],\n [14, 38],\n [14, 54],\n [14, 57],\n [14, 63],\n [14, 79],\n [14, 81],\n [15, 16],\n [15, 19],\n [15, 21],\n [15, 31],\n [15, 35],\n [15, 36],\n [15, 37],\n [15, 42],\n [15, 50],\n [15, 52],\n [15, 54],\n [15, 61],\n [15, 67],\n [15, 70],\n [15, 79],\n [16, 19],\n [16, 38],\n [16, 49],\n [16, 57],\n [16, 60],\n [16, 64],\n [16, 75],\n [16, 79],\n [16, 84],\n [17, 40],\n [17, 49],\n [17, 53],\n [17, 54],\n [17, 57],\n [17, 62],\n [17, 81],\n [18, 33],\n [18, 40],\n [18, 41],\n [18, 53],\n [18, 57],\n [18, 66],\n [18, 78],\n [18, 80],\n [19, 25],\n [19, 27],\n [19, 29],\n [19, 44],\n [19, 57],\n [19, 65],\n [19, 71],\n [19, 76],\n [19, 82],\n [20, 25],\n [20, 38],\n [20, 39],\n [20, 49],\n [20, 50],\n [20, 57],\n [20, 58],\n [20, 59],\n [20, 77],\n [20, 82],\n [20, 84],\n [21, 30],\n [21, 31],\n [21, 35],\n [21, 42],\n [21, 43],\n [21, 55],\n [21, 56],\n [21, 59],\n [21, 61],\n [21, 62],\n [22, 32],\n [22, 33],\n [22, 44],\n [22, 45],\n [22, 51],\n [22, 54],\n [22, 55],\n [22, 76],\n [22, 79],\n [22, 82],\n [23, 24],\n [23, 25],\n [23, 41],\n [23, 46],\n [23, 57],\n [23, 61],\n [23, 65],\n [23, 77],\n [23, 80],\n [24, 26],\n [24, 28],\n [24, 37],\n [24, 40],\n [24, 42],\n [24, 56],\n [24, 59],\n [24, 65],\n [24, 75],\n [24, 77],\n [24, 79],\n [25, 29],\n [25, 30],\n [25, 32],\n [25, 38],\n [25, 53],\n [25, 59],\n [25, 64],\n [25, 68],\n [26, 29],\n [26, 32],\n [26, 34],\n [26, 43],\n [26, 46],\n [26, 53],\n [26, 62],\n [26, 63],\n [26, 64],\n [26, 76],\n [27, 28],\n [27, 29],\n [27, 31],\n [27, 41],\n [27, 49],\n [27, 53],\n [27, 60],\n [27, 64],\n [27, 69],\n [27, 73],\n [27, 77],\n [28, 30],\n [28, 33],\n [28, 45],\n [28, 46],\n [28, 51],\n [28, 63],\n [28, 66],\n [28, 71],\n [28, 74],\n [29, 31],\n [29, 41],\n [29, 44],\n [29, 58],\n [29, 61],\n [29, 70],\n [29, 72],\n [29, 78],\n [29, 81],\n [29, 82],\n [30, 51],\n [30, 53],\n [30, 55],\n [30, 62],\n [30, 67],\n [30, 70],\n [30, 71],\n [30, 73],\n [30, 74],\n [30, 76],\n [30, 79],\n [31, 34],\n [31, 48],\n [31, 50],\n [31, 58],\n [31, 62],\n [31, 65],\n [31, 70],\n [31, 72],\n [31, 81],\n [32, 51],\n [32, 52],\n [32, 56],\n [32, 60],\n [32, 62],\n [32, 70],\n [32, 71],\n [32, 72],\n [32, 75],\n [33, 46],\n [33, 48],\n [33, 66],\n [33, 73],\n [33, 79],\n [33, 84],\n [34, 40],\n [34, 44],\n [34, 60],\n [34, 63],\n [35, 37],\n [35, 51],\n [35, 57],\n [35, 58],\n [35, 61],\n [35, 65],\n [35, 69],\n [35, 75],\n [36, 48],\n [36, 50],\n [36, 51],\n [36, 68],\n [36, 71],\n [36, 74],\n [36, 84],\n [37, 41],\n [37, 42],\n [37, 45],\n [37, 55],\n [37, 58],\n [37, 80],\n [38, 41],\n [38, 48],\n [38, 49],\n [38, 53],\n [38, 62],\n [38, 70],\n [38, 76],\n [38, 77],\n [38, 83],\n [39, 41],\n [39, 48],\n [39, 49],\n [39, 60],\n [39, 63],\n [39, 64],\n [39, 80],\n [40, 43],\n [40, 71],\n [40, 82],\n [41, 48],\n [41, 55],\n [41, 64],\n [41, 78],\n [41, 82],\n [42, 50],\n [42, 55],\n [42, 57],\n [42, 62],\n [42, 65],\n [42, 80],\n [43, 67],\n [43, 71],\n [43, 80],\n [43, 83],\n [44, 51],\n [44, 61],\n [44, 63],\n [44, 78],\n [44, 84],\n [45, 56],\n [45, 61],\n [45, 82],\n [46, 49],\n [46, 54],\n [46, 55],\n [46, 61],\n [46, 66],\n [46, 68],\n [46, 72],\n [46, 80],\n [47, 60],\n [47, 65],\n [47, 73],\n [47, 78],\n [47, 81],\n [48, 52],\n [48, 59],\n [48, 63],\n [48, 67],\n [48, 79],\n [48, 84],\n [49, 52],\n [49, 68],\n [49, 69],\n [49, 76],\n [49, 82],\n [50, 56],\n [50, 68],\n [50, 73],\n [50, 82],\n [51, 57],\n [51, 58],\n [51, 59],\n [51, 66],\n [51, 71],\n [51, 81],\n [51, 84],\n [52, 59],\n [52, 72],\n [52, 80],\n [52, 83],\n [53, 67],\n [53, 70],\n [53, 76],\n [54, 55],\n [54, 61],\n [55, 62],\n [55, 67],\n [55, 73],\n [55, 74],\n [55, 79],\n [55, 81],\n [55, 82],\n [56, 68],\n [56, 72],\n [56, 81],\n [56, 84],\n [57, 71],\n [57, 74],\n [57, 79],\n [58, 68],\n [58, 70],\n [58, 72],\n [58, 75],\n [59, 74],\n [59, 76],\n [59, 80],\n [60, 62],\n [60, 67],\n [60, 76],\n [61, 67],\n [61, 72],\n [61, 76],\n [61, 77],\n [61, 84],\n [62, 77],\n [62, 82],\n [63, 79],\n [63, 81],\n [64, 77],\n [64, 84],\n [65, 73],\n [65, 79],\n [65, 84],\n [66, 69],\n [66, 72],\n [66, 80],\n [66, 84],\n [67, 73],\n [68, 69],\n [68, 71],\n [68, 74],\n [68, 78],\n [69, 73],\n [69, 78],\n [69, 81],\n [70, 84],\n [71, 81],\n [71, 82],\n [72, 75],\n [72, 76],\n [72, 78],\n [72, 82],\n [73, 81],\n [73, 83],\n [73, 84],\n [74, 77],\n [74, 82],\n [74, 83],\n [75, 76],\n [76, 79],\n [76, 82],\n [77, 81],\n [78, 81],\n [78, 84]]"
     },
     "execution_count": 51,
     "metadata": {},
     "output_type": "execute_result"
    }
   ],
   "source": [
    "df = pd.read_excel('assignment.xlsx',sheet_name='3-2')\n",
    "filtered_rows = df[df.iloc[:, 0] == 'e']\n",
    "edge = list(map(list, filtered_rows.iloc[:, [1, 2]].values.tolist()))\n",
    "for vertex in edge:\n",
    "    vertex[0]=int(vertex[0])\n",
    "    vertex[1]=int(vertex[1])\n",
    "edge"
   ],
   "metadata": {
    "collapsed": false,
    "ExecuteTime": {
     "end_time": "2024-04-15T22:53:32.213089Z",
     "start_time": "2024-04-15T22:53:32.144138Z"
    }
   },
   "id": "2889673a5fe8471e",
   "execution_count": 51
  },
  {
   "cell_type": "code",
   "outputs": [
    {
     "data": {
      "text/plain": "[0,\n 1,\n 2,\n 3,\n 4,\n 5,\n 6,\n 7,\n 8,\n 9,\n 10,\n 11,\n 12,\n 13,\n 14,\n 15,\n 16,\n 17,\n 18,\n 19,\n 20,\n 21,\n 22,\n 23,\n 24,\n 25,\n 26,\n 27,\n 28,\n 29,\n 30,\n 31,\n 32,\n 33,\n 34,\n 35,\n 36,\n 37,\n 38,\n 39,\n 40,\n 41,\n 42,\n 43,\n 44,\n 45,\n 46,\n 47,\n 48,\n 49,\n 50,\n 51,\n 52,\n 53,\n 54,\n 55,\n 56,\n 57,\n 58,\n 59,\n 60,\n 61,\n 62,\n 63,\n 64,\n 65,\n 66,\n 67,\n 68,\n 69,\n 70,\n 71,\n 72,\n 73,\n 74,\n 75,\n 76,\n 77,\n 78,\n 79,\n 80,\n 81,\n 82,\n 83,\n 84]"
     },
     "execution_count": 52,
     "metadata": {},
     "output_type": "execute_result"
    }
   ],
   "source": [
    "nodes = []\n",
    "for vertex in edge:\n",
    "    if int(vertex[0]) not in nodes:\n",
    "        nodes.append(int(vertex[0]))\n",
    "    if int(vertex[1]) not in nodes:\n",
    "        nodes.append(int(vertex[1]))\n",
    "nodes.sort()\n",
    "nodes"
   ],
   "metadata": {
    "collapsed": false,
    "ExecuteTime": {
     "end_time": "2024-04-15T22:53:32.225203Z",
     "start_time": "2024-04-15T22:53:32.215091Z"
    }
   },
   "id": "f7ab92099705ee39",
   "execution_count": 52
  },
  {
   "cell_type": "code",
   "outputs": [
    {
     "data": {
      "text/plain": "[0,\n 1,\n 2,\n 3,\n 4,\n 5,\n 6,\n 7,\n 8,\n 9,\n 10,\n 11,\n 12,\n 13,\n 14,\n 15,\n 16,\n 17,\n 18,\n 19,\n 20,\n 21,\n 22,\n 23,\n 24,\n 25,\n 26,\n 27,\n 28,\n 29,\n 30,\n 31,\n 32,\n 33,\n 34,\n 35,\n 36,\n 37,\n 38,\n 39,\n 40,\n 41,\n 42,\n 43,\n 44,\n 45,\n 46,\n 47,\n 48,\n 49,\n 50,\n 51,\n 52,\n 53,\n 54,\n 55,\n 56,\n 57,\n 58,\n 59,\n 60,\n 61,\n 62,\n 63,\n 64,\n 65,\n 66,\n 67,\n 68,\n 69,\n 70,\n 71,\n 72,\n 73,\n 74,\n 75,\n 76,\n 77,\n 78,\n 79,\n 80,\n 81,\n 82,\n 83,\n 84]"
     },
     "execution_count": 53,
     "metadata": {},
     "output_type": "execute_result"
    }
   ],
   "source": [
    "color = nodes.copy()\n",
    "color"
   ],
   "metadata": {
    "collapsed": false,
    "ExecuteTime": {
     "end_time": "2024-04-15T22:53:32.234167Z",
     "start_time": "2024-04-15T22:53:32.227203Z"
    }
   },
   "id": "8872304d73bbec7a",
   "execution_count": 53
  },
  {
   "cell_type": "code",
   "outputs": [],
   "source": [
    "prob = pulp.LpProblem(\"Minimize_chromatic_number\", pulp.LpMinimize)"
   ],
   "metadata": {
    "collapsed": false,
    "ExecuteTime": {
     "end_time": "2024-04-15T22:53:32.243878Z",
     "start_time": "2024-04-15T22:53:32.236167Z"
    }
   },
   "id": "fdbeb4d909125953",
   "execution_count": 54
  },
  {
   "cell_type": "code",
   "outputs": [],
   "source": [
    "x = pulp.LpVariable.dicts('x',(nodes,color),0,1,cat=pulp.LpInteger)"
   ],
   "metadata": {
    "collapsed": false,
    "ExecuteTime": {
     "end_time": "2024-04-15T22:53:32.273658Z",
     "start_time": "2024-04-15T22:53:32.245888Z"
    }
   },
   "id": "c4528b582169082d",
   "execution_count": 55
  },
  {
   "cell_type": "code",
   "outputs": [],
   "source": [
    "prob +=pulp.lpSum(j*x[u][j] for u in nodes for j in color)"
   ],
   "metadata": {
    "collapsed": false,
    "ExecuteTime": {
     "end_time": "2024-04-15T22:53:32.371560Z",
     "start_time": "2024-04-15T22:53:32.320507Z"
    }
   },
   "id": "3af204f52b4c478e",
   "execution_count": 56
  },
  {
   "cell_type": "code",
   "outputs": [],
   "source": [
    "#each node has one colour\n",
    "for u in nodes:\n",
    "    prob +=pulp.lpSum(x[u][j] for j in color) == 1"
   ],
   "metadata": {
    "collapsed": false,
    "ExecuteTime": {
     "end_time": "2024-04-15T22:53:32.394002Z",
     "start_time": "2024-04-15T22:53:32.373570Z"
    }
   },
   "id": "5260e5779ce6a2da",
   "execution_count": 57
  },
  {
   "cell_type": "code",
   "outputs": [],
   "source": [
    "#nearby nodes has different colour\n",
    "for [u,v] in edge:\n",
    "    for j in color:\n",
    "        prob +=x[u][j] + x[v][j] <= 1"
   ],
   "metadata": {
    "collapsed": false,
    "ExecuteTime": {
     "end_time": "2024-04-15T22:53:33.141287Z",
     "start_time": "2024-04-15T22:53:32.396Z"
    }
   },
   "id": "15c20c83f891c703",
   "execution_count": 58
  },
  {
   "cell_type": "code",
   "outputs": [],
   "source": [
    "#use smaller j first:\n",
    "for j in range(0,84):\n",
    "    t=j+1\n",
    "    prob +=pulp.lpSum(x[u][j] for u in nodes) >= pulp.lpSum(x[u][t] for u in nodes)"
   ],
   "metadata": {
    "collapsed": false,
    "ExecuteTime": {
     "end_time": "2024-04-15T22:53:33.188118Z",
     "start_time": "2024-04-15T22:53:33.142299Z"
    }
   },
   "id": "5768f15bf67d047b",
   "execution_count": 59
  },
  {
   "cell_type": "code",
   "outputs": [],
   "source": [
    "prob.solve()\n",
    "print (\"Status:\", pulp.LpStatus[prob.status])"
   ],
   "metadata": {
    "collapsed": false,
    "is_executing": true,
    "ExecuteTime": {
     "start_time": "2024-04-15T22:53:33.190117Z"
    }
   },
   "id": "7551d47371f057a3",
   "execution_count": null
  },
  {
   "cell_type": "code",
   "outputs": [],
   "source": [
    "print (\"Optimal Solution\")\n",
    "resultin = []\n",
    "result = []\n",
    "for i in nodes:\n",
    "\tfor j in color:\n",
    "\t\tif x[i][j].value() == 1 and j not in resultin:\n",
    "\t\t\tresultin.append(j)\n",
    "for i in nodes:\n",
    "\tfor j in color:\n",
    "\t\tif x[i][j].value() == 1:\n",
    "\t\t\tresult.append([i,j])\n",
    "\n",
    "resultin.sort()\n",
    "print(result)\n",
    "print('The chromatic_number is', len(resultin))"
   ],
   "metadata": {
    "collapsed": false,
    "is_executing": true
   },
   "id": "b6f32a51eac529a0",
   "execution_count": null
  },
  {
   "cell_type": "code",
   "outputs": [],
   "source": [
    "for [u,v] in edge:\n",
    "    for j in color:\n",
    "        print(x[u][j], x[v][j], x[u][j].value()+x[v][j].value())"
   ],
   "metadata": {
    "collapsed": false,
    "is_executing": true
   },
   "id": "76b2e55b418eb013",
   "execution_count": null
  },
  {
   "cell_type": "code",
   "outputs": [],
   "source": [
    "for u in nodes:\n",
    "    sum=0\n",
    "    print(u)\n",
    "    for j in color:\n",
    "        sum+=x[u][j].value()\n",
    "    print(sum)"
   ],
   "metadata": {
    "collapsed": false,
    "is_executing": true
   },
   "id": "cb73947ba3065e81",
   "execution_count": null
  },
  {
   "cell_type": "code",
   "outputs": [],
   "source": [],
   "metadata": {
    "collapsed": false,
    "is_executing": true
   },
   "id": "551708799c6afa90",
   "execution_count": null
  }
 ],
 "metadata": {
  "kernelspec": {
   "display_name": "Python 3",
   "language": "python",
   "name": "python3"
  },
  "language_info": {
   "codemirror_mode": {
    "name": "ipython",
    "version": 2
   },
   "file_extension": ".py",
   "mimetype": "text/x-python",
   "name": "python",
   "nbconvert_exporter": "python",
   "pygments_lexer": "ipython2",
   "version": "2.7.6"
  }
 },
 "nbformat": 4,
 "nbformat_minor": 5
}
