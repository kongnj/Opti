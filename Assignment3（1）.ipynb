{
 "cells": [
  {
   "cell_type": "code",
   "execution_count": 3,
   "id": "initial_id",
   "metadata": {
    "collapsed": true,
    "ExecuteTime": {
     "end_time": "2024-04-13T12:32:11.214570Z",
     "start_time": "2024-04-13T12:32:11.164199Z"
    }
   },
   "outputs": [],
   "source": [
    "import pulp\n",
    "import numpy as np\n",
    "import matplotlib_inline as plt"
   ]
  },
  {
   "cell_type": "code",
   "outputs": [],
   "source": [
    "prob = pulp.LpProblem(\"Find_ChromaticNumber\", pulp.LpMinimize)"
   ],
   "metadata": {
    "collapsed": false,
    "ExecuteTime": {
     "end_time": "2024-04-13T12:32:11.503190Z",
     "start_time": "2024-04-13T12:32:11.494952Z"
    }
   },
   "id": "812e98f452ec9b77",
   "execution_count": 4
  },
  {
   "cell_type": "code",
   "outputs": [
    {
     "name": "stdout",
     "output_type": "stream",
     "text": [
      "Nodes: ['a', 'b', 'c', 'd', 'e']\n",
      "undirected edges [('a', 'b'), ('b', 'c'), ('c', 'd'), ('d', 'e'), ('e', 'a'), ('d', 'b'), ('e', 'c'), ('a', 'c')]\n"
     ]
    }
   ],
   "source": [
    "def generate_random_undirected_graph(num_nodes, num_edges):\n",
    "    # check the number of nodes and edges\n",
    "    if num_edges < num_nodes or num_edges > num_nodes * (num_nodes - 1) // 2:\n",
    "        raise ValueError(\"Number of edges must be at least num_nodes and no more than num_nodes * (num_nodes - 1) // 2.\")\n",
    "\n",
    "    # product nodes\n",
    "    nodes = [chr(i) for i in range(97, 97 + num_nodes)]\n",
    "\n",
    "    # create a cycle to ensure the strong connection\n",
    "    cycle_edges = [(nodes[i], nodes[(i + 1) % num_nodes]) for i in range(num_nodes)]\n",
    "    \n",
    "    # produce other possible edge\n",
    "    possible_edges = [(nodes[i], nodes[j]) for i in range(num_nodes) for j in range(num_nodes) if i != j and (nodes[j], nodes[i]) not in cycle_edges]\n",
    "\n",
    "    # remove the duplicated edge and self cycle\n",
    "    selected_edges = cycle_edges\n",
    "    remaining_edges_count = num_edges - len(cycle_edges)\n",
    "    while remaining_edges_count > 0:\n",
    "        np.random.shuffle(possible_edges)\n",
    "        new_edge = possible_edges[0]\n",
    "        if new_edge not in selected_edges and (new_edge[1], new_edge[0]) not in selected_edges:\n",
    "            selected_edges = selected_edges + [new_edge]\n",
    "            remaining_edges_count -= 1\n",
    "\n",
    "    return nodes, selected_edges\n",
    "\n",
    "# 使用该函数生成一个随机有向图\n",
    "num_nodes = 5# 节点数量\n",
    "num_edges = 8# 总边数，至少等于节点数\n",
    "nodes, selected_edges = generate_random_undirected_graph(num_nodes, num_edges)\n",
    "\n",
    "\n",
    "print(\"Nodes:\", nodes)\n",
    "print(\"undirected edges\", selected_edges)"
   ],
   "metadata": {
    "collapsed": false,
    "ExecuteTime": {
     "end_time": "2024-04-13T13:25:40.554395Z",
     "start_time": "2024-04-13T13:25:40.511379Z"
    }
   },
   "id": "8872304d73bbec7a",
   "execution_count": 9
  },
  {
   "cell_type": "code",
   "outputs": [],
   "source": [],
   "metadata": {
    "collapsed": false
   },
   "id": "fdbeb4d909125953"
  }
 ],
 "metadata": {
  "kernelspec": {
   "display_name": "Python 3",
   "language": "python",
   "name": "python3"
  },
  "language_info": {
   "codemirror_mode": {
    "name": "ipython",
    "version": 2
   },
   "file_extension": ".py",
   "mimetype": "text/x-python",
   "name": "python",
   "nbconvert_exporter": "python",
   "pygments_lexer": "ipython2",
   "version": "2.7.6"
  }
 },
 "nbformat": 4,
 "nbformat_minor": 5
}
