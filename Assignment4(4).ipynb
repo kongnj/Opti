{
 "cells": [
  {
   "cell_type": "code",
   "execution_count": 1,
   "id": "initial_id",
   "metadata": {
    "collapsed": true,
    "ExecuteTime": {
     "end_time": "2024-04-14T06:11:33.386832Z",
     "start_time": "2024-04-14T06:11:32.306082Z"
    }
   },
   "outputs": [],
   "source": [
    "import pulp\n",
    "import numpy as np\n",
    "import matplotlib_inline as plt"
   ]
  },
  {
   "cell_type": "code",
   "outputs": [],
   "source": [
    "prob = pulp.LpProblem(\"Minimize_Cost\", pulp.LpMinimize)\n",
    "prob2 = pulp.LpProblem(\"Minimize_Cost\", pulp.LpMinimize)\n",
    "prob3 = pulp.LpProblem(\"Minimize_Cost\", pulp.LpMinimize)"
   ],
   "metadata": {
    "collapsed": false,
    "ExecuteTime": {
     "end_time": "2024-04-14T06:11:33.393273Z",
     "start_time": "2024-04-14T06:11:33.387834Z"
    }
   },
   "id": "877afaddd8481875",
   "execution_count": 2
  },
  {
   "cell_type": "code",
   "outputs": [
    {
     "name": "stdout",
     "output_type": "stream",
     "text": [
      "Nodes: ['a', 'b', 'c', 'd', 'e', 'f', 'g', 'h', 'i', 'j']\n",
      "Directed edges with costs: {('a', 'b'): 0.38, ('b', 'c'): 0.73, ('c', 'd'): 0.03, ('d', 'e'): 0.28, ('e', 'f'): 0.66, ('f', 'g'): 0.26, ('g', 'h'): 0.0, ('h', 'i'): 0.57, ('i', 'j'): 0.72, ('j', 'a'): 0.98, ('j', 'c'): 0.18, ('j', 'g'): 0.8, ('e', 'j'): 0.92, ('a', 'e'): 0.15, ('h', 'f'): 0.8, ('f', 'd'): 0.13, ('j', 'd'): 0.05, ('b', 'e'): 0.68, ('d', 'g'): 0.42, ('a', 'g'): 0.07, ('i', 'c'): 0.23, ('d', 'a'): 0.62, ('h', 'd'): 0.01, ('g', 'e'): 0.9, ('g', 'b'): 0.18, ('f', 'i'): 0.61, ('c', 'e'): 0.17, ('c', 'a'): 0.48, ('i', 'b'): 0.36, ('f', 'j'): 0.33, ('h', 'j'): 0.02, ('i', 'e'): 0.38, ('b', 'j'): 0.74, ('i', 'g'): 0.66, ('b', 'f'): 0.77, ('c', 'h'): 0.94, ('h', 'e'): 1.0, ('a', 'h'): 0.59, ('d', 'b'): 0.19, ('d', 'i'): 0.57, ('f', 'c'): 0.72, ('b', 'h'): 0.02, ('a', 'f'): 0.81, ('g', 'c'): 0.41, ('a', 'i'): 0.01}\n"
     ]
    }
   ],
   "source": [
    "import numpy as np\n",
    "\n",
    "def generate_random_directed_graph(num_nodes, num_edges, cost_range=(0, 100)):\n",
    "    # check the number of nodes and edges\n",
    "    if num_edges < num_nodes or num_edges > num_nodes * (num_nodes - 1) // 2:\n",
    "        raise ValueError(\"Number of edges must be at least num_nodes and no more than num_nodes * (num_nodes - 1) // 2.\")\n",
    "\n",
    "    # product nodes\n",
    "    nodes = [chr(i) for i in range(97, 97 + num_nodes)]\n",
    "\n",
    "    # create a cycle to ensure the strong connection\n",
    "    cycle_edges = [(nodes[i], nodes[(i + 1) % num_nodes]) for i in range(num_nodes)]\n",
    "    \n",
    "    # produce other possible edge\n",
    "    possible_edges = [(nodes[i], nodes[j]) for i in range(num_nodes) for j in range(num_nodes) if i != j and (nodes[j], nodes[i]) not in cycle_edges and (nodes[i], nodes[j]) not in cycle_edges]\n",
    "\n",
    "    # remove the duplicated edge and self cycle\n",
    "    selected_edges = cycle_edges\n",
    "    remaining_edges_count = num_edges - len(cycle_edges)\n",
    "    while remaining_edges_count > 0:\n",
    "        np.random.shuffle(possible_edges)\n",
    "        new_edge = possible_edges[0]\n",
    "        if new_edge not in selected_edges and (new_edge[1], new_edge[0]) not in selected_edges:\n",
    "            selected_edges = selected_edges + [new_edge]\n",
    "            remaining_edges_count -= 1\n",
    "    \n",
    "    # produce edges with costs\n",
    "    edges_with_costs = {edge: np.random.randint(cost_range[0], cost_range[1] + 1) for edge in selected_edges}\n",
    "\n",
    "    return nodes, edges_with_costs\n",
    "\n",
    "# 使用该函数生成一个随机有向图\n",
    "num_nodes = 10# 节点数量\n",
    "num_edges = 45# 总边数，至少等于节点数\n",
    "nodes, edges_with_costs = generate_random_directed_graph(num_nodes, num_edges)\n",
    "for keys in edges_with_costs:\n",
    "    edges_with_costs[keys] = float(edges_with_costs[keys]/100)\n",
    "\n",
    "print(\"Nodes:\", nodes)\n",
    "print(\"Directed edges with costs:\", edges_with_costs)"
   ],
   "metadata": {
    "collapsed": false,
    "ExecuteTime": {
     "end_time": "2024-04-14T06:11:35.287300Z",
     "start_time": "2024-04-14T06:11:35.240814Z"
    }
   },
   "id": "97f79c3fbc105da3",
   "execution_count": 3
  },
  {
   "cell_type": "code",
   "outputs": [],
   "source": [
    "'''\n",
    "nodes = ['a','b','c','d','e','f','g']\n",
    "edges_with_costs ={\n",
    "    ('a','b'):3,('a','d'):6,('c','a'):2,('b','e'):7,('b','c'):4,\n",
    "    ('d','b'):5,('c','d'):2,('c','e'):4,('g','c'):1,('d','f'):5,\n",
    "    ('d','g'):6,('e','g'):3,('e','f'):6,('f','g'):8,('f','a'):4}\n",
    "'''\n",
    "#check no duplicated edge and self cycle\n",
    "for (u, v) in edges_with_costs:\n",
    "    if (v, u) in edges_with_costs:\n",
    "        print([u,v])"
   ],
   "metadata": {
    "collapsed": false,
    "ExecuteTime": {
     "end_time": "2024-04-14T06:13:02.795084Z",
     "start_time": "2024-04-14T06:13:02.787213Z"
    }
   },
   "id": "c4f4e6353ce2beeb",
   "execution_count": 22
  },
  {
   "cell_type": "code",
   "outputs": [
    {
     "data": {
      "text/plain": "'a'"
     },
     "execution_count": 5,
     "metadata": {},
     "output_type": "execute_result"
    }
   ],
   "source": [
    "sp = input('Please select the root: ')\n",
    "sp"
   ],
   "metadata": {
    "collapsed": false,
    "ExecuteTime": {
     "end_time": "2024-04-14T06:11:44.719728Z",
     "start_time": "2024-04-14T06:11:42.470285Z"
    }
   },
   "id": "9ddee95e667fd22",
   "execution_count": 5
  },
  {
   "cell_type": "code",
   "outputs": [],
   "source": [
    "import pulp\n",
    "x = pulp.LpVariable.dicts('x',(nodes,nodes),0,1,cat=pulp.LpInteger)\n",
    "y = pulp.LpVariable.dicts('y',(nodes,nodes),0,1,cat=pulp.LpInteger)\n",
    "z = pulp.LpVariable.dicts('z',(nodes,nodes),0,1,cat=pulp.LpInteger)"
   ],
   "metadata": {
    "collapsed": false,
    "ExecuteTime": {
     "end_time": "2024-04-14T06:11:48.025387Z",
     "start_time": "2024-04-14T06:11:48.019028Z"
    }
   },
   "id": "5d17f985aa260f7d",
   "execution_count": 6
  },
  {
   "cell_type": "code",
   "outputs": [],
   "source": [
    "prob +=pulp.lpSum(edges_with_costs[u,v] * x[u][v] for u, v in edges_with_costs)\n",
    "prob2 +=pulp.lpSum(edges_with_costs[u,v] * y[u][v] for u, v in edges_with_costs)\n",
    "prob3 +=pulp.lpSum(edges_with_costs[u,v] * z[u][v] for u, v in edges_with_costs)"
   ],
   "metadata": {
    "collapsed": false,
    "ExecuteTime": {
     "end_time": "2024-04-14T06:11:48.455099Z",
     "start_time": "2024-04-14T06:11:48.447246Z"
    }
   },
   "id": "5e08c93bd1a5a3fd",
   "execution_count": 7
  },
  {
   "cell_type": "code",
   "outputs": [],
   "source": [
    "for v in nodes:\n",
    "    if v != sp:\n",
    "        prob +=pulp.lpSum(x[u][v] for u in nodes if (u,v) in edges_with_costs) == 1\n",
    "    prob3 +=pulp.lpSum(z[u][v] for u in nodes if (u,v) in edges_with_costs) >= 1\n",
    "\n",
    "for u in nodes:\n",
    "    if u != sp:\n",
    "        prob2 +=pulp.lpSum(y[u][v] for v in nodes if (u,v) in edges_with_costs) == 1\n",
    "    prob3 +=pulp.lpSum(z[u][v] for v in nodes if (u,v) in edges_with_costs) >= 1"
   ],
   "metadata": {
    "collapsed": false,
    "ExecuteTime": {
     "end_time": "2024-04-14T06:11:48.947438Z",
     "start_time": "2024-04-14T06:11:48.940038Z"
    }
   },
   "id": "d7f0e26280bb24ca",
   "execution_count": 8
  },
  {
   "cell_type": "code",
   "outputs": [],
   "source": [
    "prob += pulp.lpSum(x[u][sp] for u in nodes if (u,sp) in edges_with_costs) == 0\n",
    "prob += pulp.lpSum(x[sp][v] for v in nodes if (sp,v) in edges_with_costs)>= 1\n",
    "\n",
    "prob2 += pulp.lpSum(y[u][sp] for u in nodes if (u,sp) in edges_with_costs) >=1\n",
    "prob2 += pulp.lpSum(y[sp][v] for v in nodes if (sp,v) in edges_with_costs) ==0"
   ],
   "metadata": {
    "collapsed": false,
    "ExecuteTime": {
     "end_time": "2024-04-14T06:11:49.430020Z",
     "start_time": "2024-04-14T06:11:49.422806Z"
    }
   },
   "id": "8a0729445a943f16",
   "execution_count": 9
  },
  {
   "cell_type": "code",
   "outputs": [],
   "source": [
    "from pulp import *\n",
    "n = len(nodes)\n",
    "subsets = [tuple(c) for c in allcombinations(nodes,n-1)]\n",
    "subset = []\n",
    "for s in subsets:\n",
    "    if sp in s:\n",
    "        subset.append(s)"
   ],
   "metadata": {
    "collapsed": false,
    "ExecuteTime": {
     "end_time": "2024-04-14T06:11:49.940445Z",
     "start_time": "2024-04-14T06:11:49.934999Z"
    }
   },
   "id": "b8f180f13862271c",
   "execution_count": 10
  },
  {
   "cell_type": "code",
   "outputs": [],
   "source": [
    "for s in subset:\n",
    "    sc = list(set(nodes)-set(s)) # complement of subset s\n",
    "    summation = 0.0\n",
    "    for u in s:\n",
    "        for v in sc:\n",
    "            if (u, v) in edges_with_costs: # Check if the (u, v) tuple is a valid key in edges_with_costs\n",
    "                summation += x[u][v]\n",
    "    prob += summation >= 1\n",
    "    summation2 = 0.0\n",
    "    for u in sc:\n",
    "        for v in s:\n",
    "            if (u, v) in edges_with_costs: # Check if the (u, v) tuple is a valid key in edges_with_costs\n",
    "                summation2 += y[u][v]\n",
    "    prob2 += summation2 >= 1\n",
    "    \n",
    "for s in subsets:\n",
    "    sc = list(set(nodes) - set(s))  # complement of subset s\n",
    "    summation3 = 0.0\n",
    "    for u in s:\n",
    "        for v in sc:\n",
    "            if (u, v) in edges_with_costs:  # Check if the (u, v) tuple is a valid key in edges_with_costs\n",
    "                summation3 += z[u][v]\n",
    "    prob3 += summation3 >= 1  "
   ],
   "metadata": {
    "collapsed": false,
    "ExecuteTime": {
     "end_time": "2024-04-14T06:11:50.450091Z",
     "start_time": "2024-04-14T06:11:50.436423Z"
    }
   },
   "id": "1aa2965c85a9bc70",
   "execution_count": 11
  },
  {
   "cell_type": "code",
   "outputs": [
    {
     "name": "stdout",
     "output_type": "stream",
     "text": [
      "Status: Optimal\n",
      "Status: Optimal\n",
      "Status: Optimal\n"
     ]
    }
   ],
   "source": [
    "prob.solve()\n",
    "print (\"Status:\", LpStatus[prob.status])\n",
    "prob2.solve()\n",
    "print (\"Status:\", LpStatus[prob2.status])\n",
    "prob3.solve()\n",
    "print (\"Status:\", LpStatus[prob3.status])"
   ],
   "metadata": {
    "collapsed": false,
    "ExecuteTime": {
     "end_time": "2024-04-14T06:11:51.325229Z",
     "start_time": "2024-04-14T06:11:51.024195Z"
    }
   },
   "id": "4b5f7c8dd20778b4",
   "execution_count": 12
  },
  {
   "cell_type": "code",
   "outputs": [
    {
     "name": "stdout",
     "output_type": "stream",
     "text": [
      "Optimal Solution for out\n"
     ]
    },
    {
     "data": {
      "text/plain": "[('a', 'b'), ('b', 'c'), ('c', 'd'), ('c', 'e'), ('d', 'f'), ('e', 'g')]"
     },
     "execution_count": 13,
     "metadata": {},
     "output_type": "execute_result"
    }
   ],
   "source": [
    "print (\"Optimal Solution for out\")\n",
    "resultout = []\n",
    "for u in nodes:\n",
    "\tfor v in nodes:\n",
    "\t\tif x[u][v].value() == 1:\n",
    "\t\t\tresultout.append((u,v))\n",
    "resultout"
   ],
   "metadata": {
    "collapsed": false,
    "ExecuteTime": {
     "end_time": "2024-04-14T06:11:51.685732Z",
     "start_time": "2024-04-14T06:11:51.675627Z"
    }
   },
   "id": "3cebb5dfa44dae8e",
   "execution_count": 13
  },
  {
   "cell_type": "code",
   "outputs": [
    {
     "data": {
      "text/plain": "21.0"
     },
     "execution_count": 14,
     "metadata": {},
     "output_type": "execute_result"
    }
   ],
   "source": [
    "costout = 0.0\n",
    "for e in resultout:\n",
    "    costout+= edges_with_costs[e]\n",
    "costout"
   ],
   "metadata": {
    "collapsed": false,
    "ExecuteTime": {
     "end_time": "2024-04-14T06:11:54.048191Z",
     "start_time": "2024-04-14T06:11:54.040853Z"
    }
   },
   "id": "28b9585da32c7961",
   "execution_count": 14
  },
  {
   "cell_type": "code",
   "outputs": [
    {
     "name": "stdout",
     "output_type": "stream",
     "text": [
      "Optimal Solution for in\n"
     ]
    },
    {
     "data": {
      "text/plain": "[('b', 'c'), ('c', 'a'), ('d', 'b'), ('e', 'g'), ('f', 'a'), ('g', 'c')]"
     },
     "execution_count": 15,
     "metadata": {},
     "output_type": "execute_result"
    }
   ],
   "source": [
    "print (\"Optimal Solution for in\")\n",
    "resultin = []\n",
    "for u in nodes:\n",
    "\tfor v in nodes:\n",
    "\t\tif y[u][v].value() == 1:\n",
    "\t\t    resultin.append((u,v))\n",
    "resultin"
   ],
   "metadata": {
    "collapsed": false,
    "ExecuteTime": {
     "end_time": "2024-04-14T06:11:54.745993Z",
     "start_time": "2024-04-14T06:11:54.735960Z"
    }
   },
   "id": "a6dc625865284425",
   "execution_count": 15
  },
  {
   "cell_type": "code",
   "outputs": [
    {
     "data": {
      "text/plain": "19.0"
     },
     "execution_count": 16,
     "metadata": {},
     "output_type": "execute_result"
    }
   ],
   "source": [
    "costin = 0.0\n",
    "for e in resultin:\n",
    "    costin+= edges_with_costs[e]\n",
    "costin"
   ],
   "metadata": {
    "collapsed": false,
    "ExecuteTime": {
     "end_time": "2024-04-14T06:11:55.650637Z",
     "start_time": "2024-04-14T06:11:55.644031Z"
    }
   },
   "id": "6e160a7c709dcc4e",
   "execution_count": 16
  },
  {
   "cell_type": "code",
   "outputs": [
    {
     "name": "stdout",
     "output_type": "stream",
     "text": [
      "Optimal Solution for strongly connected subgraph\n"
     ]
    },
    {
     "data": {
      "text/plain": "[('a', 'b'),\n ('b', 'e'),\n ('c', 'd'),\n ('d', 'f'),\n ('e', 'g'),\n ('f', 'a'),\n ('g', 'c')]"
     },
     "execution_count": 17,
     "metadata": {},
     "output_type": "execute_result"
    }
   ],
   "source": [
    "print (\"Optimal Solution for strongly connected subgraph\")\n",
    "resultall = []\n",
    "for u in nodes:\n",
    "\tfor v in nodes:\n",
    "\t\tif z[u][v].value() == 1:\n",
    "\t\t\tresultall.append((u,v))\n",
    "resultall"
   ],
   "metadata": {
    "collapsed": false,
    "ExecuteTime": {
     "end_time": "2024-04-14T06:11:56.520196Z",
     "start_time": "2024-04-14T06:11:56.508857Z"
    }
   },
   "id": "6c649a86bd4eec55",
   "execution_count": 17
  },
  {
   "cell_type": "code",
   "outputs": [
    {
     "data": {
      "text/plain": "25.0"
     },
     "execution_count": 18,
     "metadata": {},
     "output_type": "execute_result"
    }
   ],
   "source": [
    "costall = 0.0\n",
    "for e in resultall:\n",
    "    costall+= edges_with_costs[e]\n",
    "costall"
   ],
   "metadata": {
    "collapsed": false,
    "ExecuteTime": {
     "end_time": "2024-04-14T06:11:57.241105Z",
     "start_time": "2024-04-14T06:11:57.231121Z"
    }
   },
   "id": "60ab6466d2e21cde",
   "execution_count": 18
  },
  {
   "cell_type": "code",
   "outputs": [
    {
     "name": "stdout",
     "output_type": "stream",
     "text": [
      "Combine solution for out and in\n"
     ]
    },
    {
     "data": {
      "text/plain": "[('a', 'b'),\n ('b', 'c'),\n ('c', 'a'),\n ('c', 'd'),\n ('c', 'e'),\n ('d', 'b'),\n ('d', 'f'),\n ('e', 'g'),\n ('f', 'a'),\n ('g', 'c')]"
     },
     "execution_count": 19,
     "metadata": {},
     "output_type": "execute_result"
    }
   ],
   "source": [
    "print (\"Combine solution for out and in\")\n",
    "result=[]\n",
    "for u in nodes:\n",
    "\tfor v in nodes:\n",
    "\t\tif x[u][v].value() == 1:\n",
    "\t\t\tresult.append((u,v))\n",
    "\t\telif y[u][v].value() == 1:\n",
    "\t\t\tresult.append((u,v))\n",
    "            \n",
    "result"
   ],
   "metadata": {
    "collapsed": false,
    "ExecuteTime": {
     "end_time": "2024-04-14T06:11:57.903436Z",
     "start_time": "2024-04-14T06:11:57.887211Z"
    }
   },
   "id": "2168dbd9ed8107e9",
   "execution_count": 19
  },
  {
   "cell_type": "code",
   "outputs": [
    {
     "data": {
      "text/plain": "33.0"
     },
     "execution_count": 20,
     "metadata": {},
     "output_type": "execute_result"
    }
   ],
   "source": [
    "costcom = 0.0\n",
    "for e in result:\n",
    "    costcom+= edges_with_costs[e]\n",
    "costcom"
   ],
   "metadata": {
    "collapsed": false,
    "ExecuteTime": {
     "end_time": "2024-04-14T06:11:58.760509Z",
     "start_time": "2024-04-14T06:11:58.751527Z"
    }
   },
   "id": "c0f66f0fe04dee2d",
   "execution_count": 20
  },
  {
   "cell_type": "code",
   "outputs": [
    {
     "name": "stdout",
     "output_type": "stream",
     "text": [
      "Compare solution combine of out/in and for strongly connected subgraph\n",
      "result for strongly connected subgraph [('a', 'b'), ('b', 'e'), ('c', 'd'), ('d', 'f'), ('e', 'g'), ('f', 'a'), ('g', 'c')]\n",
      "result for combine of out/in: [('a', 'b'), ('b', 'c'), ('c', 'a'), ('c', 'd'), ('c', 'e'), ('d', 'b'), ('d', 'f'), ('e', 'g'), ('f', 'a'), ('g', 'c')]\n",
      "Two result are same: False\n"
     ]
    }
   ],
   "source": [
    "print(\"Compare solution combine of out/in and for strongly connected subgraph\")\n",
    "print(\"result for strongly connected subgraph\",resultall)\n",
    "print(\"result for combine of out/in:\", result)\n",
    "print(\"Two result are same:\", resultall==result)"
   ],
   "metadata": {
    "collapsed": false,
    "ExecuteTime": {
     "end_time": "2024-04-14T06:11:59.532621Z",
     "start_time": "2024-04-14T06:11:59.527211Z"
    }
   },
   "id": "30a0e40ac04688bc",
   "execution_count": 21
  },
  {
   "cell_type": "code",
   "outputs": [],
   "source": [],
   "metadata": {
    "collapsed": false,
    "ExecuteTime": {
     "end_time": "2024-04-14T06:12:00.234563Z",
     "start_time": "2024-04-14T06:12:00.231132Z"
    }
   },
   "id": "1746d7d09305cc11",
   "execution_count": 21
  }
 ],
 "metadata": {
  "kernelspec": {
   "display_name": "Python 3",
   "language": "python",
   "name": "python3"
  },
  "language_info": {
   "codemirror_mode": {
    "name": "ipython",
    "version": 2
   },
   "file_extension": ".py",
   "mimetype": "text/x-python",
   "name": "python",
   "nbconvert_exporter": "python",
   "pygments_lexer": "ipython2",
   "version": "2.7.6"
  }
 },
 "nbformat": 4,
 "nbformat_minor": 5
}
