{
 "cells": [
  {
   "cell_type": "code",
   "execution_count": 86,
   "id": "initial_id",
   "metadata": {
    "collapsed": true,
    "ExecuteTime": {
     "end_time": "2024-04-13T09:42:58.619952Z",
     "start_time": "2024-04-13T09:42:58.615548Z"
    }
   },
   "outputs": [],
   "source": [
    "import pulp\n",
    "import matplotlib_inline as plt"
   ]
  },
  {
   "cell_type": "code",
   "outputs": [],
   "source": [
    "prob = pulp.LpProblem(\"Minimize_Cost\", pulp.LpMinimize)\n",
    "prob2 = pulp.LpProblem(\"Minimize_Cost\", pulp.LpMinimize)\n",
    "prob3 = pulp.LpProblem(\"Minimize_Cost\", pulp.LpMinimize)"
   ],
   "metadata": {
    "collapsed": false,
    "ExecuteTime": {
     "end_time": "2024-04-13T09:42:59.137907Z",
     "start_time": "2024-04-13T09:42:59.132915Z"
    }
   },
   "id": "877afaddd8481875",
   "execution_count": 87
  },
  {
   "cell_type": "code",
   "outputs": [
    {
     "name": "stdout",
     "output_type": "stream",
     "text": [
      "Nodes: ['a', 'b', 'c', 'd', 'e', 'f', 'g', 'h', 'i', 'j']\n",
      "Directed edges with costs: {('a', 'b'): 1, ('b', 'c'): 5, ('c', 'd'): 6, ('d', 'e'): 4, ('e', 'f'): 1, ('f', 'g'): 2, ('g', 'h'): 7, ('h', 'i'): 5, ('i', 'j'): 6, ('j', 'a'): 8, ('d', 'b'): 1, ('j', 'f'): 7, ('e', 'g'): 1, ('j', 'c'): 1, ('a', 'd'): 2, ('i', 'e'): 5, ('j', 'd'): 7, ('c', 'a'): 1, ('f', 'a'): 5, ('b', 'h'): 6, ('g', 'b'): 3, ('b', 'g'): 3, ('f', 'c'): 1, ('f', 'b'): 10, ('e', 'j'): 8, ('e', 'c'): 2, ('b', 'f'): 6, ('h', 'f'): 4, ('j', 'e'): 8, ('h', 'd'): 9, ('d', 'g'): 9, ('h', 'e'): 9, ('i', 'b'): 3, ('c', 'f'): 7, ('a', 'e'): 6, ('j', 'g'): 9, ('h', 'c'): 7, ('g', 'e'): 7, ('g', 'd'): 8}\n"
     ]
    }
   ],
   "source": [
    "import numpy as np\n",
    "\n",
    "def generate_random_directed_graph(num_nodes, num_edges, cost_range=(1, 10)):\n",
    "    # check the number of nodes and edges\n",
    "    if num_edges < num_nodes or num_edges > num_nodes * (num_nodes - 1) // 2:\n",
    "        raise ValueError(\"Number of edges must be at least num_nodes and no more than num_nodes * (num_nodes - 1) // 2.\")\n",
    "\n",
    "    # product nodes include the r\n",
    "    nodes = [chr(i) for i in range(97, 97 + num_nodes)]\n",
    "\n",
    "    # create a cycle to ensure the strong connection\n",
    "    cycle_edges = [(nodes[i], nodes[(i + 1) % num_nodes]) for i in range(num_nodes)]\n",
    "    \n",
    "    # produce other possible edge\n",
    "    possible_edges = [(nodes[i], nodes[j]) for i in range(num_nodes) for j in range(num_nodes) if i != j and (nodes[j], nodes[i]) not in cycle_edges]\n",
    "\n",
    "    # remove the duplicated edge\n",
    "    np.random.shuffle(possible_edges)\n",
    "    remaining_edges_count = num_edges - len(cycle_edges)\n",
    "    selected_edges = cycle_edges + possible_edges[:remaining_edges_count]\n",
    "    \n",
    "    # produce edges with costs\n",
    "    edges_with_costs = {edge: np.random.randint(cost_range[0], cost_range[1] + 1) for edge in selected_edges}\n",
    "\n",
    "    return nodes, edges_with_costs\n",
    "\n",
    "# 使用该函数生成一个随机有向图\n",
    "num_nodes = 10# 节点数量\n",
    "num_edges = 45# 总边数，至少等于节点数\n",
    "nodes, edges_with_costs = generate_random_directed_graph(num_nodes, num_edges)\n",
    "#for keys in edges_with_costs:\n",
    "    #edges_with_costs[keys] = float(edges_with_costs[keys]/100)\n",
    "\n",
    "print(\"Nodes:\", nodes)\n",
    "print(\"Directed edges with costs:\", edges_with_costs)"
   ],
   "metadata": {
    "collapsed": false,
    "ExecuteTime": {
     "end_time": "2024-04-13T09:42:59.674138Z",
     "start_time": "2024-04-13T09:42:59.662708Z"
    }
   },
   "id": "97f79c3fbc105da3",
   "execution_count": 88
  },
  {
   "cell_type": "code",
   "outputs": [
    {
     "data": {
      "text/plain": "'a'"
     },
     "execution_count": 89,
     "metadata": {},
     "output_type": "execute_result"
    }
   ],
   "source": [
    "sp = input('Please select the root: ')\n",
    "sp"
   ],
   "metadata": {
    "collapsed": false,
    "ExecuteTime": {
     "end_time": "2024-04-13T09:43:01.926592Z",
     "start_time": "2024-04-13T09:43:00.683469Z"
    }
   },
   "id": "9ddee95e667fd22",
   "execution_count": 89
  },
  {
   "cell_type": "code",
   "outputs": [],
   "source": [
    "import pulp\n",
    "x = pulp.LpVariable.dicts('x',(nodes,nodes),0,1,cat=pulp.LpInteger)\n",
    "y = pulp.LpVariable.dicts('y',(nodes,nodes),0,1,cat=pulp.LpInteger)\n",
    "z = pulp.LpVariable.dicts('z',(nodes,nodes),0,1,cat=pulp.LpInteger)"
   ],
   "metadata": {
    "collapsed": false,
    "ExecuteTime": {
     "end_time": "2024-04-13T09:43:04.751717Z",
     "start_time": "2024-04-13T09:43:04.743540Z"
    }
   },
   "id": "5d17f985aa260f7d",
   "execution_count": 90
  },
  {
   "cell_type": "code",
   "outputs": [],
   "source": [
    "prob +=pulp.lpSum(edges_with_costs[u,v] * x[u][v] for u, v in edges_with_costs)\n",
    "prob2 +=pulp.lpSum(edges_with_costs[u,v] * y[u][v] for u, v in edges_with_costs)\n",
    "prob3 +=pulp.lpSum(edges_with_costs[u,v] * z[u][v] for u, v in edges_with_costs)"
   ],
   "metadata": {
    "collapsed": false,
    "ExecuteTime": {
     "end_time": "2024-04-13T09:43:05.427719Z",
     "start_time": "2024-04-13T09:43:05.419347Z"
    }
   },
   "id": "5e08c93bd1a5a3fd",
   "execution_count": 91
  },
  {
   "cell_type": "code",
   "outputs": [],
   "source": [
    "for v in nodes:\n",
    "    if v != sp:\n",
    "        prob +=pulp.lpSum(x[u][v] for u in nodes if (u,v) in edges_with_costs) == 1\n",
    "    prob3 +=pulp.lpSum(z[u][v] for u in nodes if (u,v) in edges_with_costs) >= 1\n",
    "\n",
    "for u in nodes:\n",
    "    if u != sp:\n",
    "        prob2 +=pulp.lpSum(y[u][v] for v in nodes if (u,v) in edges_with_costs) == 1\n",
    "    prob3 +=pulp.lpSum(z[u][v] for v in nodes if (u,v) in edges_with_costs) >= 1"
   ],
   "metadata": {
    "collapsed": false,
    "ExecuteTime": {
     "end_time": "2024-04-13T09:43:06.437099Z",
     "start_time": "2024-04-13T09:43:06.428531Z"
    }
   },
   "id": "d7f0e26280bb24ca",
   "execution_count": 92
  },
  {
   "cell_type": "code",
   "outputs": [],
   "source": [
    "prob += pulp.lpSum(x[u][sp] for u in nodes if (u,sp) in edges_with_costs) == 0\n",
    "prob += pulp.lpSum(x[sp][v] for v in nodes if (sp,v) in edges_with_costs)>= 1\n",
    "\n",
    "prob2 += pulp.lpSum(y[u][sp] for u in nodes if (u,sp) in edges_with_costs) >=1\n",
    "prob2 += pulp.lpSum(y[sp][v] for v in nodes if (sp,v) in edges_with_costs) ==0"
   ],
   "metadata": {
    "collapsed": false,
    "ExecuteTime": {
     "end_time": "2024-04-13T09:43:08.734705Z",
     "start_time": "2024-04-13T09:43:08.729847Z"
    }
   },
   "id": "8a0729445a943f16",
   "execution_count": 93
  },
  {
   "cell_type": "code",
   "outputs": [],
   "source": [
    "from pulp import *\n",
    "n = len(nodes)\n",
    "subsets = [tuple(c) for c in allcombinations(nodes,n-1)]\n",
    "subset = []\n",
    "for s in subsets:\n",
    "    if sp in s:\n",
    "        subset.append(s)"
   ],
   "metadata": {
    "collapsed": false,
    "ExecuteTime": {
     "end_time": "2024-04-13T09:43:09.465875Z",
     "start_time": "2024-04-13T09:43:09.457959Z"
    }
   },
   "id": "b8f180f13862271c",
   "execution_count": 94
  },
  {
   "cell_type": "code",
   "outputs": [],
   "source": [
    "for s in subset:\n",
    "    sc = list(set(nodes)-set(s)) # complement of subset s\n",
    "    summation = 0.0\n",
    "    for u in s:\n",
    "        for v in sc:\n",
    "            if (u, v) in edges_with_costs: # Check if the (u, v) tuple is a valid key in edges_with_costs\n",
    "                summation += x[u][v]\n",
    "    prob += summation >= 1\n",
    "    summation2 = 0.0\n",
    "    for u in sc:\n",
    "        for v in s:\n",
    "            if (u, v) in edges_with_costs: # Check if the (u, v) tuple is a valid key in edges_with_costs\n",
    "                summation2 += y[u][v]\n",
    "    prob2 += summation2 >= 1\n",
    "    \n",
    "for s in subsets:\n",
    "    sc = list(set(nodes) - set(s))  # complement of subset s\n",
    "    summation3 = 0.0\n",
    "    for u in s:\n",
    "        for v in sc:\n",
    "            if (u, v) in edges_with_costs:  # Check if the (u, v) tuple is a valid key in edges_with_costs\n",
    "                summation3 += z[u][v]\n",
    "    prob3 += summation3 >= 1  "
   ],
   "metadata": {
    "collapsed": false,
    "ExecuteTime": {
     "end_time": "2024-04-13T09:43:10.538083Z",
     "start_time": "2024-04-13T09:43:10.453222Z"
    }
   },
   "id": "1aa2965c85a9bc70",
   "execution_count": 95
  },
  {
   "cell_type": "code",
   "outputs": [
    {
     "name": "stdout",
     "output_type": "stream",
     "text": [
      "Status: Optimal\n",
      "Status: Optimal\n",
      "Status: Optimal\n"
     ]
    }
   ],
   "source": [
    "prob.solve()\n",
    "print (\"Status:\", LpStatus[prob.status])\n",
    "prob2.solve()\n",
    "print (\"Status:\", LpStatus[prob2.status])\n",
    "prob3.solve()\n",
    "print (\"Status:\", LpStatus[prob3.status])"
   ],
   "metadata": {
    "collapsed": false,
    "ExecuteTime": {
     "end_time": "2024-04-13T09:43:11.458090Z",
     "start_time": "2024-04-13T09:43:11.264993Z"
    }
   },
   "id": "4b5f7c8dd20778b4",
   "execution_count": 96
  },
  {
   "cell_type": "code",
   "outputs": [
    {
     "name": "stdout",
     "output_type": "stream",
     "text": [
      "Optimal Solution for out\n"
     ]
    },
    {
     "data": {
      "text/plain": "[('a', 'b'),\n ('a', 'd'),\n ('b', 'h'),\n ('d', 'e'),\n ('e', 'f'),\n ('e', 'g'),\n ('h', 'i'),\n ('i', 'j'),\n ('j', 'c')]"
     },
     "execution_count": 104,
     "metadata": {},
     "output_type": "execute_result"
    }
   ],
   "source": [
    "print (\"Optimal Solution for out\")\n",
    "resultout = []\n",
    "for u in nodes:\n",
    "\tfor v in nodes:\n",
    "\t\tif x[u][v].value() == 1:\n",
    "\t\t\tresultout.append((u,v))\n",
    "resultout"
   ],
   "metadata": {
    "collapsed": false,
    "ExecuteTime": {
     "end_time": "2024-04-13T09:45:14.998975Z",
     "start_time": "2024-04-13T09:45:14.991280Z"
    }
   },
   "id": "3cebb5dfa44dae8e",
   "execution_count": 104
  },
  {
   "cell_type": "code",
   "outputs": [
    {
     "data": {
      "text/plain": "27.0"
     },
     "execution_count": 108,
     "metadata": {},
     "output_type": "execute_result"
    }
   ],
   "source": [
    "costout = 0.0\n",
    "for e in resultout:\n",
    "    costout+= edges_with_costs[e]\n",
    "costout"
   ],
   "metadata": {
    "collapsed": false,
    "ExecuteTime": {
     "end_time": "2024-04-13T09:46:51.388006Z",
     "start_time": "2024-04-13T09:46:51.379943Z"
    }
   },
   "id": "28b9585da32c7961",
   "execution_count": 108
  },
  {
   "cell_type": "code",
   "outputs": [],
   "source": [
    "print (\"Optimal Solution for in\")\n",
    "resultin = []\n",
    "for u in nodes:\n",
    "\tfor v in nodes:\n",
    "\t\tif y[u][v].value() == 1:\n",
    "\t\t    resultin.append((u,v))\n",
    "resultin"
   ],
   "metadata": {
    "collapsed": false
   },
   "id": "a6dc625865284425",
   "execution_count": null
  },
  {
   "cell_type": "code",
   "outputs": [
    {
     "data": {
      "text/plain": "20.0"
     },
     "execution_count": 110,
     "metadata": {},
     "output_type": "execute_result"
    }
   ],
   "source": [
    "costin = 0.0\n",
    "for e in resultin:\n",
    "    costin+= edges_with_costs[e]\n",
    "costin"
   ],
   "metadata": {
    "collapsed": false,
    "ExecuteTime": {
     "end_time": "2024-04-13T09:47:40.929838Z",
     "start_time": "2024-04-13T09:47:40.920856Z"
    }
   },
   "id": "6e160a7c709dcc4e",
   "execution_count": 110
  },
  {
   "cell_type": "code",
   "outputs": [
    {
     "name": "stdout",
     "output_type": "stream",
     "text": [
      "Optimal Solution for strongly connected subgraph\n"
     ]
    },
    {
     "data": {
      "text/plain": "[('a', 'd'),\n ('b', 'h'),\n ('c', 'a'),\n ('d', 'e'),\n ('e', 'f'),\n ('e', 'g'),\n ('f', 'c'),\n ('g', 'b'),\n ('h', 'i'),\n ('i', 'j'),\n ('j', 'c')]"
     },
     "execution_count": 111,
     "metadata": {},
     "output_type": "execute_result"
    }
   ],
   "source": [
    "print (\"Optimal Solution for strongly connected subgraph\")\n",
    "resultall = []\n",
    "for u in nodes:\n",
    "\tfor v in nodes:\n",
    "\t\tif z[u][v].value() == 1:\n",
    "\t\t\tresultall.append((u,v))\n",
    "resultall"
   ],
   "metadata": {
    "collapsed": false,
    "ExecuteTime": {
     "end_time": "2024-04-13T09:48:19.236127Z",
     "start_time": "2024-04-13T09:48:19.223596Z"
    }
   },
   "id": "6c649a86bd4eec55",
   "execution_count": 111
  },
  {
   "cell_type": "code",
   "outputs": [
    {
     "data": {
      "text/plain": "31.0"
     },
     "execution_count": 113,
     "metadata": {},
     "output_type": "execute_result"
    }
   ],
   "source": [
    "costall = 0.0\n",
    "for e in resultall:\n",
    "    costall+= edges_with_costs[e]\n",
    "costall"
   ],
   "metadata": {
    "collapsed": false,
    "ExecuteTime": {
     "end_time": "2024-04-13T09:48:32.620171Z",
     "start_time": "2024-04-13T09:48:32.613444Z"
    }
   },
   "id": "60ab6466d2e21cde",
   "execution_count": 113
  },
  {
   "cell_type": "code",
   "outputs": [
    {
     "name": "stdout",
     "output_type": "stream",
     "text": [
      "Combine solution for out and in\n"
     ]
    },
    {
     "data": {
      "text/plain": "[('a', 'b'),\n ('a', 'd'),\n ('b', 'c'),\n ('b', 'h'),\n ('c', 'a'),\n ('d', 'b'),\n ('d', 'e'),\n ('e', 'f'),\n ('e', 'g'),\n ('f', 'c'),\n ('g', 'b'),\n ('h', 'f'),\n ('h', 'i'),\n ('i', 'b'),\n ('i', 'j'),\n ('j', 'c')]"
     },
     "execution_count": 114,
     "metadata": {},
     "output_type": "execute_result"
    }
   ],
   "source": [
    "print (\"Combine solution for out and in\")\n",
    "result=[]\n",
    "for u in nodes:\n",
    "\tfor v in nodes:\n",
    "\t\tif x[u][v].value() == 1:\n",
    "\t\t\tresult.append((u,v))\n",
    "\t\telif y[u][v].value() == 1:\n",
    "\t\t\tresult.append((u,v))\n",
    "            \n",
    "result"
   ],
   "metadata": {
    "collapsed": false,
    "ExecuteTime": {
     "end_time": "2024-04-13T09:49:10.396908Z",
     "start_time": "2024-04-13T09:49:10.388693Z"
    }
   },
   "id": "2168dbd9ed8107e9",
   "execution_count": 114
  },
  {
   "cell_type": "code",
   "outputs": [
    {
     "data": {
      "text/plain": "20.0"
     },
     "execution_count": 115,
     "metadata": {},
     "output_type": "execute_result"
    }
   ],
   "source": [
    "costcom = 0.0\n",
    "for e in result:\n",
    "    costcom+= edges_with_costs[e]\n",
    "costcom"
   ],
   "metadata": {
    "collapsed": false,
    "ExecuteTime": {
     "end_time": "2024-04-13T09:49:13.970059Z",
     "start_time": "2024-04-13T09:49:13.962509Z"
    }
   },
   "id": "c0f66f0fe04dee2d",
   "execution_count": 115
  },
  {
   "cell_type": "code",
   "outputs": [
    {
     "name": "stdout",
     "output_type": "stream",
     "text": [
      "Compare solution combine of out/in and for strongly connected subgraph\n",
      "result for strongly connected subgraph [('a', 'd'), ('b', 'h'), ('c', 'a'), ('d', 'e'), ('e', 'f'), ('e', 'g'), ('f', 'c'), ('g', 'b'), ('h', 'i'), ('i', 'j'), ('j', 'c')]\n",
      "result for combine of out/in: [('a', 'b'), ('a', 'd'), ('b', 'c'), ('b', 'h'), ('c', 'a'), ('d', 'b'), ('d', 'e'), ('e', 'f'), ('e', 'g'), ('f', 'c'), ('g', 'b'), ('h', 'f'), ('h', 'i'), ('i', 'b'), ('i', 'j'), ('j', 'c')]\n",
      "Two result are same: False\n"
     ]
    }
   ],
   "source": [
    "print(\"Compare solution combine of out/in and for strongly connected subgraph\")\n",
    "print(\"result for strongly connected subgraph\",resultall)\n",
    "print(\"result for combine of out/in:\", result)\n",
    "print(\"Two result are same:\", resultall==result)"
   ],
   "metadata": {
    "collapsed": false,
    "ExecuteTime": {
     "end_time": "2024-04-13T09:49:18.865661Z",
     "start_time": "2024-04-13T09:49:18.859460Z"
    }
   },
   "id": "30a0e40ac04688bc",
   "execution_count": 116
  },
  {
   "cell_type": "code",
   "outputs": [],
   "source": [],
   "metadata": {
    "collapsed": false
   },
   "id": "1746d7d09305cc11"
  }
 ],
 "metadata": {
  "kernelspec": {
   "display_name": "Python 3",
   "language": "python",
   "name": "python3"
  },
  "language_info": {
   "codemirror_mode": {
    "name": "ipython",
    "version": 2
   },
   "file_extension": ".py",
   "mimetype": "text/x-python",
   "name": "python",
   "nbconvert_exporter": "python",
   "pygments_lexer": "ipython2",
   "version": "2.7.6"
  }
 },
 "nbformat": 4,
 "nbformat_minor": 5
}
