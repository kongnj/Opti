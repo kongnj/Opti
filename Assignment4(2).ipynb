{
 "cells": [
  {
   "cell_type": "code",
   "execution_count": 7,
   "id": "initial_id",
   "metadata": {
    "collapsed": true,
    "ExecuteTime": {
     "end_time": "2024-04-12T06:04:08.683978600Z",
     "start_time": "2024-04-12T06:04:08.670221500Z"
    }
   },
   "outputs": [],
   "source": [
    "import pulp\n",
    "import numpy as np\n",
    "import matplotlib_inline as plt"
   ]
  },
  {
   "cell_type": "code",
   "outputs": [],
   "source": [
    "prob = pulp.LpProblem(\"Minimize_Cost\", pulp.LpMinimize)"
   ],
   "metadata": {
    "collapsed": false,
    "ExecuteTime": {
     "end_time": "2024-04-12T06:04:08.713064700Z",
     "start_time": "2024-04-12T06:04:08.680119600Z"
    }
   },
   "id": "e6ff9b8b5ec7b1b0",
   "execution_count": 8
  },
  {
   "cell_type": "code",
   "outputs": [],
   "source": [
    "nodes = ['a','b','c','d','r']\n",
    "edges_with_costs ={\n",
    "    ('a','b'):3,('c','a'):1,('r','a'):9,('b','c'):8,\n",
    "    ('b','r'):4,('d','b'):6,('r','c'):2,\n",
    "    ('c','d'):7,('d','c'):5\n",
    "}"
   ],
   "metadata": {
    "collapsed": false,
    "ExecuteTime": {
     "end_time": "2024-04-12T06:04:08.714160200Z",
     "start_time": "2024-04-12T06:04:08.690420400Z"
    }
   },
   "id": "7f0c5c87b453101f",
   "execution_count": 9
  },
  {
   "cell_type": "code",
   "outputs": [],
   "source": [
    "import pulp\n",
    "x = pulp.LpVariable.dicts('x',(nodes,nodes),0,1,cat=pulp.LpInteger)"
   ],
   "metadata": {
    "collapsed": false,
    "ExecuteTime": {
     "end_time": "2024-04-12T06:04:08.714160200Z",
     "start_time": "2024-04-12T06:04:08.698718400Z"
    }
   },
   "id": "af9e7a1db1219a6",
   "execution_count": 10
  },
  {
   "cell_type": "code",
   "outputs": [],
   "source": [
    "prob +=pulp.lpSum(edges_with_costs[u,v] * x[u][v] for u, v in edges_with_costs)"
   ],
   "metadata": {
    "collapsed": false,
    "ExecuteTime": {
     "end_time": "2024-04-12T06:04:08.729454100Z",
     "start_time": "2024-04-12T06:04:08.708737600Z"
    }
   },
   "id": "bf8d4eb8245efb65",
   "execution_count": 11
  },
  {
   "cell_type": "code",
   "outputs": [],
   "source": [
    "for v in nodes:\n",
    "    prob +=pulp.lpSum(x[u][v] for u in nodes if (u,v) in edges_with_costs) >= 1"
   ],
   "metadata": {
    "collapsed": false,
    "ExecuteTime": {
     "end_time": "2024-04-12T06:03:38.435024600Z",
     "start_time": "2024-04-12T06:03:38.425504700Z"
    }
   },
   "id": "3484892c5dd339e6",
   "execution_count": 6
  },
  {
   "cell_type": "code",
   "outputs": [],
   "source": [
    "for u in nodes:\n",
    "    prob +=pulp.lpSum(x[u][v] for v in nodes if (u,v) in edges_with_costs) >= 1"
   ],
   "metadata": {
    "collapsed": false,
    "ExecuteTime": {
     "end_time": "2024-04-12T06:05:37.524427300Z",
     "start_time": "2024-04-12T06:05:37.504387700Z"
    }
   },
   "id": "18db1d5f3100f2fb",
   "execution_count": 12
  },
  {
   "cell_type": "code",
   "outputs": [],
   "source": [],
   "metadata": {
    "collapsed": false
   },
   "id": "1bfaa5ccb7f72ea5"
  }
 ],
 "metadata": {
  "kernelspec": {
   "display_name": "Python 3",
   "language": "python",
   "name": "python3"
  },
  "language_info": {
   "codemirror_mode": {
    "name": "ipython",
    "version": 2
   },
   "file_extension": ".py",
   "mimetype": "text/x-python",
   "name": "python",
   "nbconvert_exporter": "python",
   "pygments_lexer": "ipython2",
   "version": "2.7.6"
  }
 },
 "nbformat": 4,
 "nbformat_minor": 5
}
