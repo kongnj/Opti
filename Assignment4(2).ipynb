{
 "cells": [
  {
   "cell_type": "code",
   "execution_count": 1,
   "id": "initial_id",
   "metadata": {
    "collapsed": true,
    "ExecuteTime": {
     "end_time": "2024-04-13T09:52:09.524074Z",
     "start_time": "2024-04-13T09:52:08.354571Z"
    }
   },
   "outputs": [],
   "source": [
    "import pulp\n",
    "import numpy as np\n",
    "import matplotlib_inline as plt"
   ]
  },
  {
   "cell_type": "code",
   "outputs": [],
   "source": [
    "prob = pulp.LpProblem(\"Minimize_Cost\", pulp.LpMinimize)"
   ],
   "metadata": {
    "collapsed": false,
    "ExecuteTime": {
     "end_time": "2024-04-13T09:52:09.555383Z",
     "start_time": "2024-04-13T09:52:09.545691Z"
    }
   },
   "id": "e6ff9b8b5ec7b1b0",
   "execution_count": 2
  },
  {
   "cell_type": "code",
   "outputs": [],
   "source": [
    "nodes = ['a','b','c','d','r']\n",
    "edges_with_costs ={\n",
    "    ('a','b'):3,('c','a'):1,('r','a'):9,('b','c'):8,\n",
    "    ('b','r'):4,('d','b'):6,('r','c'):2,\n",
    "    ('c','d'):7,('d','c'):5\n",
    "}"
   ],
   "metadata": {
    "collapsed": false,
    "ExecuteTime": {
     "end_time": "2024-04-13T09:52:09.567276Z",
     "start_time": "2024-04-13T09:52:09.560371Z"
    }
   },
   "id": "7f0c5c87b453101f",
   "execution_count": 3
  },
  {
   "cell_type": "code",
   "outputs": [],
   "source": [
    "import pulp\n",
    "x = pulp.LpVariable.dicts('x',(nodes,nodes),0,1,cat=pulp.LpInteger)"
   ],
   "metadata": {
    "collapsed": false,
    "ExecuteTime": {
     "end_time": "2024-04-13T09:52:09.579152Z",
     "start_time": "2024-04-13T09:52:09.569276Z"
    }
   },
   "id": "af9e7a1db1219a6",
   "execution_count": 4
  },
  {
   "cell_type": "code",
   "outputs": [],
   "source": [
    "prob +=pulp.lpSum(edges_with_costs[u,v] * x[u][v] for u, v in edges_with_costs)"
   ],
   "metadata": {
    "collapsed": false,
    "ExecuteTime": {
     "end_time": "2024-04-13T09:52:09.588451Z",
     "start_time": "2024-04-13T09:52:09.582158Z"
    }
   },
   "id": "bf8d4eb8245efb65",
   "execution_count": 5
  },
  {
   "cell_type": "code",
   "outputs": [],
   "source": [
    "for v in nodes:\n",
    "    prob +=pulp.lpSum(x[u][v] for u in nodes if (u,v) in edges_with_costs) >= 1"
   ],
   "metadata": {
    "collapsed": false,
    "ExecuteTime": {
     "end_time": "2024-04-13T09:52:09.607007Z",
     "start_time": "2024-04-13T09:52:09.596280Z"
    }
   },
   "id": "3484892c5dd339e6",
   "execution_count": 6
  },
  {
   "cell_type": "code",
   "outputs": [],
   "source": [
    "for u in nodes:\n",
    "    prob +=pulp.lpSum(x[u][v] for v in nodes if (u,v) in edges_with_costs) >= 1"
   ],
   "metadata": {
    "collapsed": false,
    "ExecuteTime": {
     "end_time": "2024-04-13T09:52:09.620653Z",
     "start_time": "2024-04-13T09:52:09.613992Z"
    }
   },
   "id": "18db1d5f3100f2fb",
   "execution_count": 7
  },
  {
   "cell_type": "code",
   "outputs": [],
   "source": [
    "from pulp import *\n",
    "n = len(nodes)\n",
    "subset = [tuple(c) for c in allcombinations(nodes,n-1)]"
   ],
   "metadata": {
    "collapsed": false,
    "ExecuteTime": {
     "end_time": "2024-04-13T09:52:09.972665Z",
     "start_time": "2024-04-13T09:52:09.967108Z"
    }
   },
   "id": "1bfaa5ccb7f72ea5",
   "execution_count": 8
  },
  {
   "cell_type": "code",
   "outputs": [],
   "source": [
    "for s in subset:\n",
    "    sc = list(set(nodes) - set(s))  # complement of subset s\n",
    "    summation = 0.0\n",
    "    for u in s:\n",
    "        for v in sc:\n",
    "            if (u, v) in edges_with_costs:  # Check if the (u, v) tuple is a valid key in edges_with_costs\n",
    "                summation += x[u][v]\n",
    "    prob += summation >= 1  \n"
   ],
   "metadata": {
    "collapsed": false,
    "ExecuteTime": {
     "end_time": "2024-04-13T09:52:10.466932Z",
     "start_time": "2024-04-13T09:52:10.459851Z"
    }
   },
   "id": "adec2f292303c067",
   "execution_count": 9
  },
  {
   "cell_type": "code",
   "outputs": [
    {
     "name": "stdout",
     "output_type": "stream",
     "text": [
      "Status: Optimal\n"
     ]
    }
   ],
   "source": [
    "prob.solve()\n",
    "print (\"Status:\", LpStatus[prob.status])"
   ],
   "metadata": {
    "collapsed": false,
    "ExecuteTime": {
     "end_time": "2024-04-13T09:52:10.983887Z",
     "start_time": "2024-04-13T09:52:10.949239Z"
    }
   },
   "id": "dcf009f07a93f2ac",
   "execution_count": 10
  },
  {
   "cell_type": "code",
   "outputs": [
    {
     "name": "stdout",
     "output_type": "stream",
     "text": [
      "Optimal Solution\n"
     ]
    },
    {
     "data": {
      "text/plain": "[('a', 'b'), ('b', 'r'), ('c', 'a'), ('c', 'd'), ('d', 'c'), ('r', 'c')]"
     },
     "execution_count": 12,
     "metadata": {},
     "output_type": "execute_result"
    }
   ],
   "source": [
    "print (\"Optimal Solution\")\n",
    "result = []\n",
    "for i in nodes:\n",
    "\tfor j in nodes:\n",
    "\t\tif x[i][j].value() == 1:\n",
    "\t\t\tresult.append((i,j))\n",
    "result"
   ],
   "metadata": {
    "collapsed": false,
    "ExecuteTime": {
     "end_time": "2024-04-13T09:52:48.721549Z",
     "start_time": "2024-04-13T09:52:48.710170Z"
    }
   },
   "id": "c0c1644124fb819d",
   "execution_count": 12
  },
  {
   "cell_type": "code",
   "outputs": [
    {
     "data": {
      "text/plain": "22.0"
     },
     "execution_count": 13,
     "metadata": {},
     "output_type": "execute_result"
    }
   ],
   "source": [
    "cost = 0.0\n",
    "for e in result:\n",
    "    cost+= edges_with_costs[e]\n",
    "cost"
   ],
   "metadata": {
    "collapsed": false,
    "ExecuteTime": {
     "end_time": "2024-04-13T09:53:04.331310Z",
     "start_time": "2024-04-13T09:53:04.323349Z"
    }
   },
   "id": "17c34ef8ec3aabb7",
   "execution_count": 13
  },
  {
   "cell_type": "code",
   "outputs": [],
   "source": [],
   "metadata": {
    "collapsed": false
   },
   "id": "fc5c80a451421758"
  }
 ],
 "metadata": {
  "kernelspec": {
   "display_name": "Python 3",
   "language": "python",
   "name": "python3"
  },
  "language_info": {
   "codemirror_mode": {
    "name": "ipython",
    "version": 2
   },
   "file_extension": ".py",
   "mimetype": "text/x-python",
   "name": "python",
   "nbconvert_exporter": "python",
   "pygments_lexer": "ipython2",
   "version": "2.7.6"
  }
 },
 "nbformat": 4,
 "nbformat_minor": 5
}
