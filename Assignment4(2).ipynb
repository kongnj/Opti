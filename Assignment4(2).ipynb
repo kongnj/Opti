{
 "cells": [
  {
   "cell_type": "code",
   "execution_count": 25,
   "id": "initial_id",
   "metadata": {
    "collapsed": true,
    "ExecuteTime": {
     "end_time": "2024-04-12T06:20:49.455561600Z",
     "start_time": "2024-04-12T06:20:49.445842Z"
    }
   },
   "outputs": [],
   "source": [
    "import pulp\n",
    "import numpy as np\n",
    "import matplotlib_inline as plt"
   ]
  },
  {
   "cell_type": "code",
   "outputs": [],
   "source": [
    "prob = pulp.LpProblem(\"Minimize_Cost\", pulp.LpMinimize)"
   ],
   "metadata": {
    "collapsed": false,
    "ExecuteTime": {
     "end_time": "2024-04-12T06:20:49.497741800Z",
     "start_time": "2024-04-12T06:20:49.455561600Z"
    }
   },
   "id": "e6ff9b8b5ec7b1b0",
   "execution_count": 26
  },
  {
   "cell_type": "code",
   "outputs": [],
   "source": [
    "nodes = ['a','b','c','d','r']\n",
    "edges_with_costs ={\n",
    "    ('a','b'):3,('c','a'):1,('r','a'):9,('b','c'):8,\n",
    "    ('b','r'):4,('d','b'):6,('r','c'):2,\n",
    "    ('c','d'):7,('d','c'):5\n",
    "}"
   ],
   "metadata": {
    "collapsed": false,
    "ExecuteTime": {
     "end_time": "2024-04-12T06:20:49.498882600Z",
     "start_time": "2024-04-12T06:20:49.468376Z"
    }
   },
   "id": "7f0c5c87b453101f",
   "execution_count": 27
  },
  {
   "cell_type": "code",
   "outputs": [],
   "source": [
    "import pulp\n",
    "x = pulp.LpVariable.dicts('x',(nodes,nodes),0,1,cat=pulp.LpInteger)"
   ],
   "metadata": {
    "collapsed": false,
    "ExecuteTime": {
     "end_time": "2024-04-12T06:20:49.499897900Z",
     "start_time": "2024-04-12T06:20:49.476809100Z"
    }
   },
   "id": "af9e7a1db1219a6",
   "execution_count": 28
  },
  {
   "cell_type": "code",
   "outputs": [],
   "source": [
    "prob +=pulp.lpSum(edges_with_costs[u,v] * x[u][v] for u, v in edges_with_costs)"
   ],
   "metadata": {
    "collapsed": false,
    "ExecuteTime": {
     "end_time": "2024-04-12T06:20:49.517600300Z",
     "start_time": "2024-04-12T06:20:49.505817800Z"
    }
   },
   "id": "bf8d4eb8245efb65",
   "execution_count": 29
  },
  {
   "cell_type": "code",
   "outputs": [],
   "source": [
    "for v in nodes:\n",
    "    prob +=pulp.lpSum(x[u][v] for u in nodes if (u,v) in edges_with_costs) >= 1"
   ],
   "metadata": {
    "collapsed": false,
    "ExecuteTime": {
     "end_time": "2024-04-12T06:20:49.535993800Z",
     "start_time": "2024-04-12T06:20:49.526088Z"
    }
   },
   "id": "3484892c5dd339e6",
   "execution_count": 30
  },
  {
   "cell_type": "code",
   "outputs": [],
   "source": [
    "for u in nodes:\n",
    "    prob +=pulp.lpSum(x[u][v] for v in nodes if (u,v) in edges_with_costs) >= 1"
   ],
   "metadata": {
    "collapsed": false,
    "ExecuteTime": {
     "end_time": "2024-04-12T06:20:49.550379200Z",
     "start_time": "2024-04-12T06:20:49.533932500Z"
    }
   },
   "id": "18db1d5f3100f2fb",
   "execution_count": 31
  },
  {
   "cell_type": "code",
   "outputs": [],
   "source": [
    "from pulp import *\n",
    "n = len(nodes)\n",
    "subset = [tuple(c) for c in allcombinations(nodes,n-1)]"
   ],
   "metadata": {
    "collapsed": false,
    "ExecuteTime": {
     "end_time": "2024-04-12T06:20:49.550379200Z",
     "start_time": "2024-04-12T06:20:49.542604600Z"
    }
   },
   "id": "1bfaa5ccb7f72ea5",
   "execution_count": 32
  },
  {
   "cell_type": "code",
   "outputs": [],
   "source": [
    "for s in subset:\n",
    "    sc = list(set(nodes) - set(s))  # complement of subset s\n",
    "    summation = 0.0\n",
    "    for u in s:\n",
    "        for v in sc:\n",
    "            if (u, v) in edges_with_costs:  # Check if the (u, v) tuple is a valid key in edges_with_costs\n",
    "                summation += x[u][v]\n",
    "    prob += summation >= 1  \n"
   ],
   "metadata": {
    "collapsed": false,
    "ExecuteTime": {
     "end_time": "2024-04-12T06:20:49.565987600Z",
     "start_time": "2024-04-12T06:20:49.551442200Z"
    }
   },
   "id": "adec2f292303c067",
   "execution_count": 33
  },
  {
   "cell_type": "code",
   "outputs": [
    {
     "name": "stdout",
     "output_type": "stream",
     "text": [
      "Status: Optimal\n"
     ]
    }
   ],
   "source": [
    "prob.solve()\n",
    "print (\"Status:\", LpStatus[prob.status])"
   ],
   "metadata": {
    "collapsed": false,
    "ExecuteTime": {
     "end_time": "2024-04-12T06:20:52.627440700Z",
     "start_time": "2024-04-12T06:20:49.559639300Z"
    }
   },
   "id": "dcf009f07a93f2ac",
   "execution_count": 34
  },
  {
   "cell_type": "code",
   "outputs": [
    {
     "name": "stdout",
     "output_type": "stream",
     "text": [
      "Optimal Solution\n",
      "(a,b)\n",
      "(b,r)\n",
      "(c,a)\n",
      "(c,d)\n",
      "(d,c)\n",
      "(r,c)\n"
     ]
    }
   ],
   "source": [
    "print (\"Optimal Solution\")\n",
    "for i in nodes:\n",
    "\tfor j in nodes:\n",
    "\t\tif x[i][j].value() == 1:\n",
    "\t\t\tprint (\"(%s,%s)\"%(i,j),)"
   ],
   "metadata": {
    "collapsed": false,
    "ExecuteTime": {
     "end_time": "2024-04-12T06:20:52.628523Z",
     "start_time": "2024-04-12T06:20:52.624292300Z"
    }
   },
   "id": "c0c1644124fb819d",
   "execution_count": 35
  },
  {
   "cell_type": "code",
   "outputs": [],
   "source": [],
   "metadata": {
    "collapsed": false,
    "ExecuteTime": {
     "end_time": "2024-04-12T06:20:52.637037900Z",
     "start_time": "2024-04-12T06:20:52.631696800Z"
    }
   },
   "id": "17c34ef8ec3aabb7",
   "execution_count": 35
  }
 ],
 "metadata": {
  "kernelspec": {
   "display_name": "Python 3",
   "language": "python",
   "name": "python3"
  },
  "language_info": {
   "codemirror_mode": {
    "name": "ipython",
    "version": 2
   },
   "file_extension": ".py",
   "mimetype": "text/x-python",
   "name": "python",
   "nbconvert_exporter": "python",
   "pygments_lexer": "ipython2",
   "version": "2.7.6"
  }
 },
 "nbformat": 4,
 "nbformat_minor": 5
}
