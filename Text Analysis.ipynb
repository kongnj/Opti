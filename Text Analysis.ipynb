{
 "cells": [
  {
   "cell_type": "code",
   "execution_count": 5,
   "id": "initial_id",
   "metadata": {
    "collapsed": true,
    "ExecuteTime": {
     "end_time": "2024-05-23T13:10:36.831200Z",
     "start_time": "2024-05-23T13:10:34.417905Z"
    }
   },
   "outputs": [
    {
     "name": "stdout",
     "output_type": "stream",
     "text": [
      "Requirement already satisfied: nltk in c:\\users\\user\\appdata\\local\\programs\\python\\python312\\lib\\site-packages (3.8.1)\n",
      "Requirement already satisfied: click in c:\\users\\user\\appdata\\local\\programs\\python\\python312\\lib\\site-packages (from nltk) (8.1.7)\n",
      "Requirement already satisfied: joblib in c:\\users\\user\\appdata\\local\\programs\\python\\python312\\lib\\site-packages (from nltk) (1.4.0)\n",
      "Requirement already satisfied: regex>=2021.8.3 in c:\\users\\user\\appdata\\local\\programs\\python\\python312\\lib\\site-packages (from nltk) (2023.12.25)\n",
      "Requirement already satisfied: tqdm in c:\\users\\user\\appdata\\local\\programs\\python\\python312\\lib\\site-packages (from nltk) (4.66.2)\n",
      "Requirement already satisfied: colorama in c:\\users\\user\\appdata\\local\\programs\\python\\python312\\lib\\site-packages (from click->nltk) (0.4.6)\n",
      "Note: you may need to restart the kernel to use updated packages.\n"
     ]
    }
   ],
   "source": [
    "pip install nltk"
   ]
  },
  {
   "cell_type": "code",
   "outputs": [
    {
     "name": "stdout",
     "output_type": "stream",
     "text": [
      "Requirement already satisfied: textblob in c:\\users\\user\\appdata\\local\\programs\\python\\python312\\lib\\site-packages (0.18.0.post0)\n",
      "Requirement already satisfied: nltk>=3.8 in c:\\users\\user\\appdata\\local\\programs\\python\\python312\\lib\\site-packages (from textblob) (3.8.1)\n",
      "Requirement already satisfied: click in c:\\users\\user\\appdata\\local\\programs\\python\\python312\\lib\\site-packages (from nltk>=3.8->textblob) (8.1.7)\n",
      "Requirement already satisfied: joblib in c:\\users\\user\\appdata\\local\\programs\\python\\python312\\lib\\site-packages (from nltk>=3.8->textblob) (1.4.0)\n",
      "Requirement already satisfied: regex>=2021.8.3 in c:\\users\\user\\appdata\\local\\programs\\python\\python312\\lib\\site-packages (from nltk>=3.8->textblob) (2023.12.25)\n",
      "Requirement already satisfied: tqdm in c:\\users\\user\\appdata\\local\\programs\\python\\python312\\lib\\site-packages (from nltk>=3.8->textblob) (4.66.2)\n",
      "Requirement already satisfied: colorama in c:\\users\\user\\appdata\\local\\programs\\python\\python312\\lib\\site-packages (from click->nltk>=3.8->textblob) (0.4.6)\n",
      "Note: you may need to restart the kernel to use updated packages.\n"
     ]
    }
   ],
   "source": [
    "pip install textblob"
   ],
   "metadata": {
    "collapsed": false,
    "ExecuteTime": {
     "end_time": "2024-05-23T13:11:12.909738Z",
     "start_time": "2024-05-23T13:11:10.529555Z"
    }
   },
   "id": "16a5777ae2866ced",
   "execution_count": 7
  },
  {
   "cell_type": "code",
   "outputs": [
    {
     "name": "stdout",
     "output_type": "stream",
     "text": [
      "Requirement already satisfied: wordcloud in c:\\users\\user\\appdata\\local\\programs\\python\\python312\\lib\\site-packages (1.9.3)\n",
      "Requirement already satisfied: numpy>=1.6.1 in c:\\users\\user\\appdata\\local\\programs\\python\\python312\\lib\\site-packages (from wordcloud) (2.0.0rc1)\n",
      "Requirement already satisfied: pillow in c:\\users\\user\\appdata\\local\\programs\\python\\python312\\lib\\site-packages (from wordcloud) (10.3.0)\n",
      "Requirement already satisfied: matplotlib in c:\\users\\user\\appdata\\local\\programs\\python\\python312\\lib\\site-packages (from wordcloud) (3.9.0rc2)\n",
      "Requirement already satisfied: contourpy>=1.0.1 in c:\\users\\user\\appdata\\local\\programs\\python\\python312\\lib\\site-packages (from matplotlib->wordcloud) (1.2.1)\n",
      "Requirement already satisfied: cycler>=0.10 in c:\\users\\user\\appdata\\local\\programs\\python\\python312\\lib\\site-packages (from matplotlib->wordcloud) (0.12.1)\n",
      "Requirement already satisfied: fonttools>=4.22.0 in c:\\users\\user\\appdata\\local\\programs\\python\\python312\\lib\\site-packages (from matplotlib->wordcloud) (4.51.0)\n",
      "Requirement already satisfied: kiwisolver>=1.3.1 in c:\\users\\user\\appdata\\local\\programs\\python\\python312\\lib\\site-packages (from matplotlib->wordcloud) (1.4.5)\n",
      "Requirement already satisfied: packaging>=20.0 in c:\\users\\user\\appdata\\local\\programs\\python\\python312\\lib\\site-packages (from matplotlib->wordcloud) (24.0)\n",
      "Requirement already satisfied: pyparsing>=2.3.1 in c:\\users\\user\\appdata\\local\\programs\\python\\python312\\lib\\site-packages (from matplotlib->wordcloud) (3.1.2)\n",
      "Requirement already satisfied: python-dateutil>=2.7 in c:\\users\\user\\appdata\\local\\programs\\python\\python312\\lib\\site-packages (from matplotlib->wordcloud) (2.9.0.post0)\n",
      "Requirement already satisfied: six>=1.5 in c:\\users\\user\\appdata\\local\\programs\\python\\python312\\lib\\site-packages (from python-dateutil>=2.7->matplotlib->wordcloud) (1.16.0)\n",
      "Note: you may need to restart the kernel to use updated packages.\n"
     ]
    }
   ],
   "source": [
    "pip install wordcloud"
   ],
   "metadata": {
    "collapsed": false,
    "ExecuteTime": {
     "end_time": "2024-05-24T10:30:33.977958Z",
     "start_time": "2024-05-24T10:30:30.132065Z"
    }
   },
   "id": "e4a0f57c3046f9db",
   "execution_count": 1
  },
  {
   "cell_type": "code",
   "outputs": [
    {
     "name": "stdout",
     "output_type": "stream",
     "text": [
      "Requirement already satisfied: scikit-learn in c:\\users\\user\\appdata\\local\\programs\\python\\python312\\lib\\site-packages (1.4.2)Note: you may need to restart the kernel to use updated packages.\n",
      "\n",
      "Requirement already satisfied: numpy>=1.19.5 in c:\\users\\user\\appdata\\local\\programs\\python\\python312\\lib\\site-packages (from scikit-learn) (2.0.0rc1)\n",
      "Requirement already satisfied: scipy>=1.6.0 in c:\\users\\user\\appdata\\local\\programs\\python\\python312\\lib\\site-packages (from scikit-learn) (1.13.0)\n",
      "Requirement already satisfied: joblib>=1.2.0 in c:\\users\\user\\appdata\\local\\programs\\python\\python312\\lib\\site-packages (from scikit-learn) (1.4.0)\n",
      "Requirement already satisfied: threadpoolctl>=2.0.0 in c:\\users\\user\\appdata\\local\\programs\\python\\python312\\lib\\site-packages (from scikit-learn) (3.5.0)\n"
     ]
    }
   ],
   "source": [
    "pip install scikit-learn"
   ],
   "metadata": {
    "collapsed": false,
    "ExecuteTime": {
     "end_time": "2024-05-24T10:31:09.253684Z",
     "start_time": "2024-05-24T10:31:04.364713Z"
    }
   },
   "id": "b1a6388a586664f6",
   "execution_count": 2
  },
  {
   "cell_type": "code",
   "outputs": [
    {
     "name": "stderr",
     "output_type": "stream",
     "text": [
      "[nltk_data] Downloading package punkt to\n",
      "[nltk_data]     C:\\Users\\User\\AppData\\Roaming\\nltk_data...\n",
      "[nltk_data]   Package punkt is already up-to-date!\n",
      "[nltk_data] Downloading package wordnet to\n",
      "[nltk_data]     C:\\Users\\User\\AppData\\Roaming\\nltk_data...\n",
      "[nltk_data]   Package wordnet is already up-to-date!\n",
      "[nltk_data] Downloading package stopwords to\n",
      "[nltk_data]     C:\\Users\\User\\AppData\\Roaming\\nltk_data...\n",
      "[nltk_data]   Package stopwords is already up-to-date!\n",
      "[nltk_data] Downloading package averaged_perceptron_tagger to\n",
      "[nltk_data]     C:\\Users\\User\\AppData\\Roaming\\nltk_data...\n",
      "[nltk_data]   Package averaged_perceptron_tagger is already up-to-\n",
      "[nltk_data]       date!\n",
      "[nltk_data] Downloading package maxent_ne_chunker to\n",
      "[nltk_data]     C:\\Users\\User\\AppData\\Roaming\\nltk_data...\n",
      "[nltk_data]   Package maxent_ne_chunker is already up-to-date!\n",
      "[nltk_data] Downloading package words to\n",
      "[nltk_data]     C:\\Users\\User\\AppData\\Roaming\\nltk_data...\n",
      "[nltk_data]   Package words is already up-to-date!\n"
     ]
    },
    {
     "data": {
      "text/plain": "True"
     },
     "execution_count": 8,
     "metadata": {},
     "output_type": "execute_result"
    }
   ],
   "source": [
    "import nltk\n",
    "nltk.download('punkt')\n",
    "nltk.download('wordnet')\n",
    "nltk.download('stopwords')\n",
    "nltk.download('averaged_perceptron_tagger')\n",
    "nltk.download('maxent_ne_chunker')\n",
    "nltk.download('words')"
   ],
   "metadata": {
    "collapsed": false,
    "ExecuteTime": {
     "end_time": "2024-05-23T13:11:26.291931Z",
     "start_time": "2024-05-23T13:11:23.653456Z"
    }
   },
   "id": "468b6f8dce7f5dce",
   "execution_count": 8
  },
  {
   "cell_type": "code",
   "outputs": [
    {
     "name": "stdout",
     "output_type": "stream",
     "text": [
      "['Hello', ',', 'how', 'are', 'you', '?', 'Fine', ',', 'Thank', 'you', ',', 'and', 'you', '?', 'I', \"'m\", 'fine', 'too', '.']\n"
     ]
    }
   ],
   "source": [
    "#分词\n",
    "from nltk.tokenize import word_tokenize\n",
    "text = \"Hello, how are you? Fine, Thank you, and you? I'm fine too.\"\n",
    "tokens = word_tokenize(text)\n",
    "print(tokens)"
   ],
   "metadata": {
    "collapsed": false,
    "ExecuteTime": {
     "end_time": "2024-05-24T01:10:33.647361Z",
     "start_time": "2024-05-24T01:10:28.189287Z"
    }
   },
   "id": "962bec2f871f2022",
   "execution_count": 1
  },
  {
   "cell_type": "code",
   "outputs": [
    {
     "name": "stdout",
     "output_type": "stream",
     "text": [
      "['Hello', 'how', 'are', 'you', 'Fine', 'Thank', 'you', 'and', 'you', 'I', 'm', 'fine', 'too']\n"
     ]
    }
   ],
   "source": [
    "#可设定规则的分词\n",
    "from nltk.tokenize import RegexpTokenizer\n",
    "tokenizer = RegexpTokenizer(r'\\w+') #括号里是设定的规则\n",
    "tokens = tokenizer.tokenize(text)\n",
    "print(tokens)"
   ],
   "metadata": {
    "collapsed": false,
    "ExecuteTime": {
     "end_time": "2024-05-24T01:10:40.673269Z",
     "start_time": "2024-05-24T01:10:40.666436Z"
    }
   },
   "id": "52ae88ca81fb3d35",
   "execution_count": 2
  },
  {
   "cell_type": "code",
   "outputs": [
    {
     "name": "stdout",
     "output_type": "stream",
     "text": [
      "['Hello, how are you?', 'Fine, Thank you, and you?', \"I'm fine too.\"]\n"
     ]
    }
   ],
   "source": [
    "#按句子分句\n",
    "from nltk.tokenize import sent_tokenize\n",
    "text = \"Hello, how are you? Fine, Thank you, and you? I'm fine too.\"\n",
    "sentences = sent_tokenize(text)\n",
    "print(sentences)"
   ],
   "metadata": {
    "collapsed": false,
    "ExecuteTime": {
     "end_time": "2024-05-24T01:10:42.563436Z",
     "start_time": "2024-05-24T01:10:42.556281Z"
    }
   },
   "id": "925cfdd4bb3058db",
   "execution_count": 3
  },
  {
   "cell_type": "code",
   "outputs": [
    {
     "name": "stdout",
     "output_type": "stream",
     "text": [
      "0.4444444444444444\n"
     ]
    }
   ],
   "source": [
    "#判断语义相似度\n",
    "from nltk.corpus import wordnet\n",
    "word1 = wordnet.synset('mother.n.01')  #n.01表示名词，v.01表示动词，a.01表示形容词\n",
    "word2 = wordnet.synset('cat.n.01')\n",
    "similarity = word1.wup_similarity(word2)\n",
    "print(similarity)"
   ],
   "metadata": {
    "collapsed": false,
    "ExecuteTime": {
     "end_time": "2024-05-24T01:10:45.941119Z",
     "start_time": "2024-05-24T01:10:44.377162Z"
    }
   },
   "id": "6386536c6e6fbb6e",
   "execution_count": 4
  },
  {
   "cell_type": "code",
   "outputs": [
    {
     "name": "stdout",
     "output_type": "stream",
     "text": [
      "['how', 'are', 'you', 'you', 'and', 'you', 'I', 'm', 'too']\n"
     ]
    }
   ],
   "source": [
    "#无意义的常用词汇\n",
    "from nltk.corpus import stopwords\n",
    "stop_words = set(stopwords.words('english'))\n",
    "words = [word for word in tokens if word.lower() in stop_words]\n",
    "print(words)"
   ],
   "metadata": {
    "collapsed": false,
    "ExecuteTime": {
     "end_time": "2024-05-24T01:10:51.271388Z",
     "start_time": "2024-05-24T01:10:51.252709Z"
    }
   },
   "id": "aac13302f09826d4",
   "execution_count": 5
  },
  {
   "cell_type": "code",
   "outputs": [
    {
     "name": "stdout",
     "output_type": "stream",
     "text": [
      "[('Hello', 'NNP'), ('how', 'WRB'), ('are', 'VBP'), ('you', 'PRP'), ('Fine', 'NNP'), ('Thank', 'NNP'), ('you', 'PRP'), ('and', 'CC'), ('you', 'PRP'), ('I', 'PRP'), ('m', 'VBP'), ('fine', 'JJ'), ('too', 'RB')]\n"
     ]
    }
   ],
   "source": [
    "#词性标注\n",
    "from nltk import pos_tag\n",
    "tagged = pos_tag(tokens)\n",
    "print(tagged)"
   ],
   "metadata": {
    "collapsed": false,
    "ExecuteTime": {
     "end_time": "2024-05-24T01:10:59.079265Z",
     "start_time": "2024-05-24T01:10:58.952428Z"
    }
   },
   "id": "1cfa404f53c9afb7",
   "execution_count": 6
  },
  {
   "cell_type": "code",
   "outputs": [
    {
     "name": "stdout",
     "output_type": "stream",
     "text": [
      "(S\n",
      "  (GPE Hello/NNP)\n",
      "  how/WRB\n",
      "  are/VBP\n",
      "  you/PRP\n",
      "  (PERSON Fine/NNP Thank/NNP)\n",
      "  you/PRP\n",
      "  and/CC\n",
      "  you/PRP\n",
      "  I/PRP\n",
      "  m/VBP\n",
      "  fine/JJ\n",
      "  too/RB)\n"
     ]
    }
   ],
   "source": [
    "#命名实体识别\n",
    "from nltk import ne_chunk\n",
    "named_entities = ne_chunk(tagged)\n",
    "print(named_entities)"
   ],
   "metadata": {
    "collapsed": false,
    "ExecuteTime": {
     "end_time": "2024-05-24T01:11:02.215867Z",
     "start_time": "2024-05-24T01:11:02.057367Z"
    }
   },
   "id": "36b3c03e6b38e3f8",
   "execution_count": 7
  },
  {
   "cell_type": "code",
   "outputs": [
    {
     "name": "stdout",
     "output_type": "stream",
     "text": [
      "['hello', 'how', 'are', 'you', 'fine', 'thank', 'you', 'and', 'you', 'i', 'm', 'fine', 'too']\n",
      "['Hello', 'how', 'are', 'you', 'Fine', 'Thank', 'you', 'and', 'you', 'I', 'm', 'fine', 'too']\n"
     ]
    }
   ],
   "source": [
    "from nltk.stem import PorterStemmer, WordNetLemmatizer\n",
    "\n",
    "# 词干提取\n",
    "stemmer = PorterStemmer()\n",
    "stemmed = [stemmer.stem(word) for word in tokens]\n",
    "print(stemmed)\n",
    "\n",
    "# 词形还原\n",
    "lemmatizer = WordNetLemmatizer()\n",
    "lemmatized = [lemmatizer.lemmatize(word) for word in tokens]\n",
    "print(lemmatized) "
   ],
   "metadata": {
    "collapsed": false,
    "ExecuteTime": {
     "end_time": "2024-05-24T01:11:05.470222Z",
     "start_time": "2024-05-24T01:11:05.463160Z"
    }
   },
   "id": "b7e90d04d289d994",
   "execution_count": 8
  },
  {
   "cell_type": "code",
   "outputs": [],
   "source": [
    "from textblob import TextBlob\n",
    "text = \"Natural Language Processing with TextBlob is fun and easy to use. I like to learn TextBolb\"\n",
    "blob = TextBlob(text)"
   ],
   "metadata": {
    "collapsed": false,
    "ExecuteTime": {
     "end_time": "2024-05-24T01:12:16.162309Z",
     "start_time": "2024-05-24T01:12:16.090034Z"
    }
   },
   "id": "f95e354a10d15f5a",
   "execution_count": 9
  },
  {
   "cell_type": "code",
   "outputs": [
    {
     "name": "stdout",
     "output_type": "stream",
     "text": [
      "['Natural', 'Language', 'Processing', 'with', 'TextBlob', 'is', 'fun', 'and', 'easy', 'to', 'use', 'I', 'like', 'to', 'learn', 'TextBolb']\n"
     ]
    }
   ],
   "source": [
    "# 分词\n",
    "words = blob.words\n",
    "print(words)"
   ],
   "metadata": {
    "collapsed": false,
    "ExecuteTime": {
     "end_time": "2024-05-24T01:12:17.011936Z",
     "start_time": "2024-05-24T01:12:17.002421Z"
    }
   },
   "id": "3cf2b63561dbf535",
   "execution_count": 10
  },
  {
   "cell_type": "code",
   "outputs": [
    {
     "name": "stdout",
     "output_type": "stream",
     "text": [
      "[Sentence(\"Natural Language Processing with TextBlob is fun and easy to use.\"), Sentence(\"I like to learn TextBolb\")]\n"
     ]
    }
   ],
   "source": [
    "# 句子切分\n",
    "sentences = blob.sentences\n",
    "print(sentences)"
   ],
   "metadata": {
    "collapsed": false,
    "ExecuteTime": {
     "end_time": "2024-05-24T01:12:21.007739Z",
     "start_time": "2024-05-24T01:12:21.001727Z"
    }
   },
   "id": "62fdc0ab929ae695",
   "execution_count": 11
  },
  {
   "cell_type": "code",
   "outputs": [
    {
     "name": "stdout",
     "output_type": "stream",
     "text": [
      "[('Natural', 'JJ'), ('Language', 'NNP'), ('Processing', 'NNP'), ('with', 'IN'), ('TextBlob', 'NNP'), ('is', 'VBZ'), ('fun', 'JJ'), ('and', 'CC'), ('easy', 'JJ'), ('to', 'TO'), ('use', 'VB'), ('I', 'PRP'), ('like', 'VBP'), ('to', 'TO'), ('learn', 'VB'), ('TextBolb', 'NNP')]\n"
     ]
    }
   ],
   "source": [
    "#词性标注\n",
    "pos_tags = blob.tags\n",
    "print(pos_tags)"
   ],
   "metadata": {
    "collapsed": false,
    "ExecuteTime": {
     "end_time": "2024-05-24T01:12:24.760552Z",
     "start_time": "2024-05-24T01:12:24.750742Z"
    }
   },
   "id": "83bd244189f3e50e",
   "execution_count": 12
  },
  {
   "cell_type": "code",
   "outputs": [
    {
     "name": "stdout",
     "output_type": "stream",
     "text": [
      "Sentiment(polarity=0.2777777777777778, subjectivity=0.47777777777777786)\n"
     ]
    }
   ],
   "source": [
    "#情感分析\n",
    "sentiment = blob.sentiment\n",
    "print(sentiment)"
   ],
   "metadata": {
    "collapsed": false,
    "ExecuteTime": {
     "end_time": "2024-05-24T01:12:27.567656Z",
     "start_time": "2024-05-24T01:12:27.493470Z"
    }
   },
   "id": "8f64a61ddcd911dc",
   "execution_count": 13
  },
  {
   "cell_type": "code",
   "outputs": [
    {
     "name": "stdout",
     "output_type": "stream",
     "text": [
      "I have good spelling\n"
     ]
    }
   ],
   "source": [
    "#拼写纠正\n",
    "blob_with_typo = TextBlob(\"I havv goood speling\")\n",
    "corrected_blob = blob_with_typo.correct()\n",
    "print(corrected_blob)"
   ],
   "metadata": {
    "collapsed": false,
    "ExecuteTime": {
     "end_time": "2024-05-24T01:13:03.584881Z",
     "start_time": "2024-05-24T01:13:03.517933Z"
    }
   },
   "id": "19d3ec53349471cb",
   "execution_count": 14
  },
  {
   "cell_type": "code",
   "outputs": [
    {
     "name": "stdout",
     "output_type": "stream",
     "text": [
      "['natur', 'languag', 'process', 'with', 'textblob', 'is', 'fun', 'and', 'easi', 'to', 'use', 'i', 'like', 'to', 'learn', 'textbolb']\n",
      "['Natural', 'Language', 'Processing', 'with', 'TextBlob', 'is', 'fun', 'and', 'easy', 'to', 'use', 'I', 'like', 'to', 'learn', 'TextBolb']\n"
     ]
    }
   ],
   "source": [
    "# 词干提取\n",
    "stems = [word.stem() for word in blob.words]\n",
    "print(stems) \n",
    "\n",
    "# 词形还原\n",
    "lemmas = [word.lemmatize() for word in blob.words]\n",
    "print(lemmas)"
   ],
   "metadata": {
    "collapsed": false,
    "ExecuteTime": {
     "end_time": "2024-05-24T01:13:07.370907Z",
     "start_time": "2024-05-24T01:13:07.364769Z"
    }
   },
   "id": "f93adb24aa121214",
   "execution_count": 15
  },
  {
   "cell_type": "code",
   "outputs": [],
   "source": [
    "from wordcloud import WordCloud\n",
    "import matplotlib.pyplot as plt"
   ],
   "metadata": {
    "collapsed": false,
    "ExecuteTime": {
     "end_time": "2024-05-24T01:13:12.141113Z",
     "start_time": "2024-05-24T01:13:10.854423Z"
    }
   },
   "id": "c16fe223b61feb3c",
   "execution_count": 16
  },
  {
   "cell_type": "code",
   "outputs": [
    {
     "data": {
      "text/plain": "<Figure size 640x480 with 1 Axes>",
      "image/png": "[encoded data removed]"
     },
     "metadata": {},
     "output_type": "display_data"
    }
   ],
   "source": [
    "text = \"Natural Language Processing with TextBlob is fun and easy to use. I like to learn TextBolb\"\n",
    "wordcloud = WordCloud(max_font_size=50, max_words=100, background_color=\"white\").generate(text)\n",
    "\n",
    "plt.figure()\n",
    "plt.imshow(wordcloud, interpolation=\"bilinear\")\n",
    "plt.axis(\"off\")\n",
    "plt.show()"
   ],
   "metadata": {
    "collapsed": false,
    "ExecuteTime": {
     "end_time": "2024-05-24T01:21:48.588636Z",
     "start_time": "2024-05-24T01:21:48.399063Z"
    }
   },
   "id": "b5a40c40bba56d7a",
   "execution_count": 20
  },
  {
   "cell_type": "code",
   "outputs": [],
   "source": [
    "#贝叶斯分型器\n",
    "from nltk.classify import NaiveBayesClassifier\n",
    "import random\n",
    "from nltk.corpus import names\n",
    "#分割数据集,比如600个数据，你要400个做train,200个做test\n",
    "featuresets = '你要的数据集'\n",
    "train_set, test_set = featuresets[201:], featuresets[:201]\n",
    "classifier = NaiveBayesClassifier.train(train_set)\n",
    "#显示最有效5个数据\n",
    "classifier.show_most_informative_features(5)\n",
    "#接下来就是自己的machine learning代码了\n"
   ],
   "metadata": {
    "collapsed": false
   },
   "id": "cdf3b9242ec0ab2a",
   "execution_count": null
  },
  {
   "cell_type": "code",
   "outputs": [
    {
     "name": "stdout",
     "output_type": "stream",
     "text": [
      "Original Data:\n",
      " [[ 1.  2.  3.]\n",
      " [ 4.  5.  6.]\n",
      " [ 7.  8.  9.]\n",
      " [10. 11. 12.]]\n",
      "Standardized Data:\n",
      " [[-1.34164079 -1.34164079 -1.34164079]\n",
      " [-0.4472136  -0.4472136  -0.4472136 ]\n",
      " [ 0.4472136   0.4472136   0.4472136 ]\n",
      " [ 1.34164079  1.34164079  1.34164079]]\n"
     ]
    }
   ],
   "source": [
    "from sklearn.preprocessing import StandardScaler\n",
    "import numpy as np\n",
    "# 数据标准化, 数据转换为均值为0，标准差为1的标准正态分布\n",
    "data = np.array([\n",
    "    [1.0, 2.0, 3.0],\n",
    "    [4.0, 5.0, 6.0],\n",
    "    [7.0, 8.0, 9.0],\n",
    "    [10.0, 11.0, 12.0]\n",
    "])\n",
    "print(\"Original Data:\\n\", data)\n",
    "scaler = StandardScaler()\n",
    "scaled_data = scaler.fit_transform(data)\n",
    "'''\n",
    "fit_transform 方法首先拟合数据（计算均值和标准差），然后对数据进行标准化转换。\n",
    "fit 方法只计算均值和标准差，但不进行转换。\n",
    "transform 方法使用之前计算的均值和标准差对数据进行标准化。\n",
    "'''\n",
    "print(\"Standardized Data:\\n\", scaled_data)"
   ],
   "metadata": {
    "collapsed": false,
    "ExecuteTime": {
     "end_time": "2024-05-24T10:35:54.600861Z",
     "start_time": "2024-05-24T10:35:54.589365Z"
    }
   },
   "id": "2e4b7721c733b25b",
   "execution_count": 5
  },
  {
   "cell_type": "code",
   "outputs": [
    {
     "name": "stdout",
     "output_type": "stream",
     "text": [
      "One-Hot Encoded Data:\n",
      " [[0. 0. 1. 0. 0. 1.]\n",
      " [1. 0. 0. 1. 0. 0.]\n",
      " [0. 1. 0. 0. 1. 0.]\n",
      " [1. 0. 0. 0. 0. 1.]]\n",
      "Feature Names:\n",
      " ['color_blue' 'color_green' 'color_red' 'size_large' 'size_medium'\n",
      " 'size_small']\n"
     ]
    }
   ],
   "source": [
    "#把种类变换成数字，创造Dummy Variable\n",
    "from sklearn.preprocessing import OneHotEncoder\n",
    "data = np.array([\n",
    "    ['red', 'small'],\n",
    "    ['blue', 'large'],\n",
    "    ['green', 'medium'],\n",
    "    ['blue', 'small']\n",
    "])\n",
    "encoder = OneHotEncoder(sparse_output=False)\n",
    "encoded_data = encoder.fit_transform(data)\n",
    "print(\"One-Hot Encoded Data:\\n\", encoded_data)\n",
    "feature_names = encoder.get_feature_names_out(['color', 'size'])\n",
    "print(\"Feature Names:\\n\", feature_names)"
   ],
   "metadata": {
    "collapsed": false,
    "ExecuteTime": {
     "end_time": "2024-05-24T10:44:19.747788Z",
     "start_time": "2024-05-24T10:44:19.738562Z"
    }
   },
   "id": "54564d045579a229",
   "execution_count": 15
  },
  {
   "cell_type": "code",
   "outputs": [],
   "source": [
    "#这个需要具体的数据集，然后分成一个训练组，一个测试组，没具体数据时run了没用\n",
    "from sklearn.datasets import load_iris\n",
    "iris = load_iris()\n",
    "x, y = iris.data, iris.target\n",
    "\n",
    "from sklearn.model_selection import train_test_split\n",
    "X_train, X_test, y_train, y_test = train_test_split(x, y, test_size=0.2, random_state=42)\n",
    "\n",
    "from sklearn.ensemble import RandomForestClassifier\n",
    "clf = RandomForestClassifier()\n",
    "clf.fit(X_train, y_train)\n",
    "\n",
    "from sklearn.metrics import accuracy_score\n",
    "y_pred = clf.predict(X_test)\n",
    "print(\"Accuracy:\", accuracy_score(y_test, y_pred))"
   ],
   "metadata": {
    "collapsed": false
   },
   "id": "a4a68227605bc875"
  },
  {
   "cell_type": "code",
   "outputs": [],
   "source": [
    "#线性回归，也是要有数据集\n",
    "from sklearn.datasets import load_boston\n",
    "boston = load_boston()\n",
    "x, y = boston.data, boston.target\n",
    "from sklearn.model_selection import train_test_split\n",
    "X_train, X_test, y_train, y_test = train_test_split(x, y, test_size=0.2, random_state=42)\n",
    "from sklearn.linear_model import LinearRegression\n",
    "from sklearn.metrics import mean_squared_error\n",
    "reg = LinearRegression()\n",
    "reg.fit(X_train, y_train)\n",
    "y_pred = reg.predict(X_test)\n",
    "print(\"Mean Squared Error:\", mean_squared_error(y_test, y_pred))"
   ],
   "metadata": {
    "collapsed": false
   },
   "id": "6fac3d99edf4d23"
  },
  {
   "cell_type": "code",
   "outputs": [],
   "source": [],
   "metadata": {
    "collapsed": false
   },
   "id": "cc2c7930340a2f8b"
  }
 ],
 "metadata": {
  "kernelspec": {
   "display_name": "Python 3",
   "language": "python",
   "name": "python3"
  },
  "language_info": {
   "codemirror_mode": {
    "name": "ipython",
    "version": 2
   },
   "file_extension": ".py",
   "mimetype": "text/x-python",
   "name": "python",
   "nbconvert_exporter": "python",
   "pygments_lexer": "ipython2",
   "version": "2.7.6"
  }
 },
 "nbformat": 4,
 "nbformat_minor": 5
}
