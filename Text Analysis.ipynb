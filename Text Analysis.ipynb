{
 "cells": [
  {
   "cell_type": "code",
   "execution_count": 5,
   "id": "initial_id",
   "metadata": {
    "collapsed": true,
    "ExecuteTime": {
     "end_time": "2024-05-23T13:10:36.831200Z",
     "start_time": "2024-05-23T13:10:34.417905Z"
    }
   },
   "outputs": [
    {
     "name": "stdout",
     "output_type": "stream",
     "text": [
      "Requirement already satisfied: nltk in c:\\users\\user\\appdata\\local\\programs\\python\\python312\\lib\\site-packages (3.8.1)\n",
      "Requirement already satisfied: click in c:\\users\\user\\appdata\\local\\programs\\python\\python312\\lib\\site-packages (from nltk) (8.1.7)\n",
      "Requirement already satisfied: joblib in c:\\users\\user\\appdata\\local\\programs\\python\\python312\\lib\\site-packages (from nltk) (1.4.0)\n",
      "Requirement already satisfied: regex>=2021.8.3 in c:\\users\\user\\appdata\\local\\programs\\python\\python312\\lib\\site-packages (from nltk) (2023.12.25)\n",
      "Requirement already satisfied: tqdm in c:\\users\\user\\appdata\\local\\programs\\python\\python312\\lib\\site-packages (from nltk) (4.66.2)\n",
      "Requirement already satisfied: colorama in c:\\users\\user\\appdata\\local\\programs\\python\\python312\\lib\\site-packages (from click->nltk) (0.4.6)\n",
      "Note: you may need to restart the kernel to use updated packages.\n"
     ]
    }
   ],
   "source": [
    "pip install nltk"
   ]
  },
  {
   "cell_type": "code",
   "outputs": [
    {
     "name": "stdout",
     "output_type": "stream",
     "text": [
      "Requirement already satisfied: textblob in c:\\users\\user\\appdata\\local\\programs\\python\\python312\\lib\\site-packages (0.18.0.post0)\n",
      "Requirement already satisfied: nltk>=3.8 in c:\\users\\user\\appdata\\local\\programs\\python\\python312\\lib\\site-packages (from textblob) (3.8.1)\n",
      "Requirement already satisfied: click in c:\\users\\user\\appdata\\local\\programs\\python\\python312\\lib\\site-packages (from nltk>=3.8->textblob) (8.1.7)\n",
      "Requirement already satisfied: joblib in c:\\users\\user\\appdata\\local\\programs\\python\\python312\\lib\\site-packages (from nltk>=3.8->textblob) (1.4.0)\n",
      "Requirement already satisfied: regex>=2021.8.3 in c:\\users\\user\\appdata\\local\\programs\\python\\python312\\lib\\site-packages (from nltk>=3.8->textblob) (2023.12.25)\n",
      "Requirement already satisfied: tqdm in c:\\users\\user\\appdata\\local\\programs\\python\\python312\\lib\\site-packages (from nltk>=3.8->textblob) (4.66.2)\n",
      "Requirement already satisfied: colorama in c:\\users\\user\\appdata\\local\\programs\\python\\python312\\lib\\site-packages (from click->nltk>=3.8->textblob) (0.4.6)\n",
      "Note: you may need to restart the kernel to use updated packages.\n"
     ]
    }
   ],
   "source": [
    "pip install textblob"
   ],
   "metadata": {
    "collapsed": false,
    "ExecuteTime": {
     "end_time": "2024-05-23T13:11:12.909738Z",
     "start_time": "2024-05-23T13:11:10.529555Z"
    }
   },
   "id": "16a5777ae2866ced",
   "execution_count": 7
  },
  {
   "cell_type": "code",
   "outputs": [
    {
     "name": "stderr",
     "output_type": "stream",
     "text": [
      "[nltk_data] Downloading package punkt to\n",
      "[nltk_data]     C:\\Users\\User\\AppData\\Roaming\\nltk_data...\n",
      "[nltk_data]   Package punkt is already up-to-date!\n",
      "[nltk_data] Downloading package wordnet to\n",
      "[nltk_data]     C:\\Users\\User\\AppData\\Roaming\\nltk_data...\n",
      "[nltk_data]   Package wordnet is already up-to-date!\n",
      "[nltk_data] Downloading package stopwords to\n",
      "[nltk_data]     C:\\Users\\User\\AppData\\Roaming\\nltk_data...\n",
      "[nltk_data]   Package stopwords is already up-to-date!\n",
      "[nltk_data] Downloading package averaged_perceptron_tagger to\n",
      "[nltk_data]     C:\\Users\\User\\AppData\\Roaming\\nltk_data...\n",
      "[nltk_data]   Package averaged_perceptron_tagger is already up-to-\n",
      "[nltk_data]       date!\n",
      "[nltk_data] Downloading package maxent_ne_chunker to\n",
      "[nltk_data]     C:\\Users\\User\\AppData\\Roaming\\nltk_data...\n",
      "[nltk_data]   Package maxent_ne_chunker is already up-to-date!\n",
      "[nltk_data] Downloading package words to\n",
      "[nltk_data]     C:\\Users\\User\\AppData\\Roaming\\nltk_data...\n",
      "[nltk_data]   Package words is already up-to-date!\n"
     ]
    },
    {
     "data": {
      "text/plain": "True"
     },
     "execution_count": 8,
     "metadata": {},
     "output_type": "execute_result"
    }
   ],
   "source": [
    "import nltk\n",
    "nltk.download('punkt')\n",
    "nltk.download('wordnet')\n",
    "nltk.download('stopwords')\n",
    "nltk.download('averaged_perceptron_tagger')\n",
    "nltk.download('maxent_ne_chunker')\n",
    "nltk.download('words')"
   ],
   "metadata": {
    "collapsed": false,
    "ExecuteTime": {
     "end_time": "2024-05-23T13:11:26.291931Z",
     "start_time": "2024-05-23T13:11:23.653456Z"
    }
   },
   "id": "468b6f8dce7f5dce",
   "execution_count": 8
  },
  {
   "cell_type": "code",
   "outputs": [
    {
     "name": "stdout",
     "output_type": "stream",
     "text": [
      "['Hello', ',', 'how', 'are', 'you', '?']\n"
     ]
    }
   ],
   "source": [
    "#分词\n",
    "from nltk.tokenize import word_tokenize\n",
    "text = \"Hello, how are you?\"\n",
    "tokens = word_tokenize(text)\n",
    "print(tokens)"
   ],
   "metadata": {
    "collapsed": false,
    "ExecuteTime": {
     "end_time": "2024-05-23T13:12:00.408974Z",
     "start_time": "2024-05-23T13:12:00.388773Z"
    }
   },
   "id": "6386536c6e6fbb6e",
   "execution_count": 9
  },
  {
   "cell_type": "code",
   "outputs": [
    {
     "name": "stdout",
     "output_type": "stream",
     "text": [
      "['how', 'are', 'you']\n"
     ]
    }
   ],
   "source": [
    "#无意义的常用词汇\n",
    "from nltk.corpus import stopwords\n",
    "stop_words = set(stopwords.words('english'))\n",
    "words = [word for word in tokens if word.lower() in stop_words]\n",
    "print(words)"
   ],
   "metadata": {
    "collapsed": false,
    "ExecuteTime": {
     "end_time": "2024-05-23T13:12:53.190966Z",
     "start_time": "2024-05-23T13:12:53.180711Z"
    }
   },
   "id": "aac13302f09826d4",
   "execution_count": 10
  },
  {
   "cell_type": "code",
   "outputs": [
    {
     "name": "stdout",
     "output_type": "stream",
     "text": [
      "[('Hello', 'NNP'), (',', ','), ('how', 'WRB'), ('are', 'VBP'), ('you', 'PRP'), ('?', '.')]\n"
     ]
    }
   ],
   "source": [
    "#词性标注\n",
    "from nltk import pos_tag\n",
    "tagged = pos_tag(tokens)\n",
    "print(tagged)"
   ],
   "metadata": {
    "collapsed": false,
    "ExecuteTime": {
     "end_time": "2024-05-23T13:13:23.369263Z",
     "start_time": "2024-05-23T13:13:23.239737Z"
    }
   },
   "id": "1cfa404f53c9afb7",
   "execution_count": 11
  },
  {
   "cell_type": "code",
   "outputs": [
    {
     "name": "stdout",
     "output_type": "stream",
     "text": [
      "(S (GPE Hello/NNP) ,/, how/WRB are/VBP you/PRP ?/.)\n"
     ]
    }
   ],
   "source": [
    "#词性标注\n",
    "from nltk import ne_chunk\n",
    "named_entities = ne_chunk(tagged)\n",
    "print(named_entities)"
   ],
   "metadata": {
    "collapsed": false,
    "ExecuteTime": {
     "end_time": "2024-05-23T13:13:35.112529Z",
     "start_time": "2024-05-23T13:13:34.969892Z"
    }
   },
   "id": "36b3c03e6b38e3f8",
   "execution_count": 12
  },
  {
   "cell_type": "code",
   "outputs": [
    {
     "name": "stdout",
     "output_type": "stream",
     "text": [
      "['hello', ',', 'how', 'are', 'you', '?']\n",
      "['Hello', ',', 'how', 'are', 'you', '?']\n"
     ]
    }
   ],
   "source": [
    "from nltk.stem import PorterStemmer, WordNetLemmatizer\n",
    "\n",
    "# 词干提取\n",
    "stemmer = PorterStemmer()\n",
    "stemmed = [stemmer.stem(word) for word in tokens]\n",
    "print(stemmed)\n",
    "\n",
    "# 词形还原\n",
    "lemmatizer = WordNetLemmatizer()\n",
    "lemmatized = [lemmatizer.lemmatize(word) for word in tokens]\n",
    "print(lemmatized) "
   ],
   "metadata": {
    "collapsed": false,
    "ExecuteTime": {
     "end_time": "2024-05-23T13:15:59.214901Z",
     "start_time": "2024-05-23T13:15:59.207175Z"
    }
   },
   "id": "b7e90d04d289d994",
   "execution_count": 25
  },
  {
   "cell_type": "code",
   "outputs": [],
   "source": [
    "from textblob import TextBlob\n",
    "text = \"Natural Language Processing with TextBlob is fun and easy to use. I like to learn TextBolb\"\n",
    "blob = TextBlob(text)"
   ],
   "metadata": {
    "collapsed": false,
    "ExecuteTime": {
     "end_time": "2024-05-23T13:17:07.041072Z",
     "start_time": "2024-05-23T13:17:07.036263Z"
    }
   },
   "id": "f95e354a10d15f5a",
   "execution_count": 26
  },
  {
   "cell_type": "code",
   "outputs": [
    {
     "name": "stdout",
     "output_type": "stream",
     "text": [
      "['Natural', 'Language', 'Processing', 'with', 'TextBlob', 'is', 'fun', 'and', 'easy', 'to', 'use', 'I', 'like', 'to', 'learn', 'TextBolb']\n"
     ]
    }
   ],
   "source": [
    "# 分词\n",
    "words = blob.words\n",
    "print(words)"
   ],
   "metadata": {
    "collapsed": false,
    "ExecuteTime": {
     "end_time": "2024-05-23T13:17:07.803812Z",
     "start_time": "2024-05-23T13:17:07.796366Z"
    }
   },
   "id": "3cf2b63561dbf535",
   "execution_count": 27
  },
  {
   "cell_type": "code",
   "outputs": [
    {
     "name": "stdout",
     "output_type": "stream",
     "text": [
      "[Sentence(\"Natural Language Processing with TextBlob is fun and easy to use.\"), Sentence(\"I like to learn TextBolb\")]\n"
     ]
    }
   ],
   "source": [
    "# 句子切分\n",
    "sentences = blob.sentences\n",
    "print(sentences)"
   ],
   "metadata": {
    "collapsed": false,
    "ExecuteTime": {
     "end_time": "2024-05-23T13:17:08.577336Z",
     "start_time": "2024-05-23T13:17:08.571934Z"
    }
   },
   "id": "62fdc0ab929ae695",
   "execution_count": 28
  },
  {
   "cell_type": "code",
   "outputs": [
    {
     "name": "stdout",
     "output_type": "stream",
     "text": [
      "[('Natural', 'JJ'), ('Language', 'NNP'), ('Processing', 'NNP'), ('with', 'IN'), ('TextBlob', 'NNP'), ('is', 'VBZ'), ('fun', 'JJ'), ('and', 'CC'), ('easy', 'JJ'), ('to', 'TO'), ('use', 'VB'), ('I', 'PRP'), ('like', 'VBP'), ('to', 'TO'), ('learn', 'VB'), ('TextBolb', 'NNP')]\n"
     ]
    }
   ],
   "source": [
    "#词性标注\n",
    "pos_tags = blob.tags\n",
    "print(pos_tags)"
   ],
   "metadata": {
    "collapsed": false,
    "ExecuteTime": {
     "end_time": "2024-05-23T13:17:09.252417Z",
     "start_time": "2024-05-23T13:17:09.243527Z"
    }
   },
   "id": "83bd244189f3e50e",
   "execution_count": 29
  },
  {
   "cell_type": "code",
   "outputs": [
    {
     "name": "stdout",
     "output_type": "stream",
     "text": [
      "Sentiment(polarity=0.2777777777777778, subjectivity=0.47777777777777786)\n"
     ]
    }
   ],
   "source": [
    "#情感分析\n",
    "sentiment = blob.sentiment\n",
    "print(sentiment)"
   ],
   "metadata": {
    "collapsed": false,
    "ExecuteTime": {
     "end_time": "2024-05-23T13:17:10.118238Z",
     "start_time": "2024-05-23T13:17:10.110994Z"
    }
   },
   "id": "8f64a61ddcd911dc",
   "execution_count": 30
  },
  {
   "cell_type": "code",
   "outputs": [
    {
     "name": "stdout",
     "output_type": "stream",
     "text": [
      "I have good spelling\n"
     ]
    }
   ],
   "source": [
    "#拼写纠正\n",
    "blob_with_typo = TextBlob(\"I havv goood speling\")\n",
    "corrected_blob = blob_with_typo.correct()\n",
    "print(corrected_blob)"
   ],
   "metadata": {
    "collapsed": false,
    "ExecuteTime": {
     "end_time": "2024-05-23T13:17:11.216560Z",
     "start_time": "2024-05-23T13:17:11.207610Z"
    }
   },
   "id": "19d3ec53349471cb",
   "execution_count": 31
  },
  {
   "cell_type": "code",
   "outputs": [
    {
     "name": "stdout",
     "output_type": "stream",
     "text": [
      "['natur', 'languag', 'process', 'with', 'textblob', 'is', 'fun', 'and', 'easi', 'to', 'use', 'i', 'like', 'to', 'learn', 'textbolb']\n",
      "['Natural', 'Language', 'Processing', 'with', 'TextBlob', 'is', 'fun', 'and', 'easy', 'to', 'use', 'I', 'like', 'to', 'learn', 'TextBolb']\n"
     ]
    }
   ],
   "source": [
    "# 词干提取\n",
    "stems = [word.stem() for word in blob.words]\n",
    "print(stems) \n",
    "\n",
    "# 词形还原\n",
    "lemmas = [word.lemmatize() for word in blob.words]\n",
    "print(lemmas)"
   ],
   "metadata": {
    "collapsed": false,
    "ExecuteTime": {
     "end_time": "2024-05-23T13:17:11.911448Z",
     "start_time": "2024-05-23T13:17:11.905076Z"
    }
   },
   "id": "f93adb24aa121214",
   "execution_count": 32
  },
  {
   "cell_type": "code",
   "outputs": [],
   "source": [],
   "metadata": {
    "collapsed": false
   },
   "id": "c16fe223b61feb3c"
  }
 ],
 "metadata": {
  "kernelspec": {
   "display_name": "Python 3",
   "language": "python",
   "name": "python3"
  },
  "language_info": {
   "codemirror_mode": {
    "name": "ipython",
    "version": 2
   },
   "file_extension": ".py",
   "mimetype": "text/x-python",
   "name": "python",
   "nbconvert_exporter": "python",
   "pygments_lexer": "ipython2",
   "version": "2.7.6"
  }
 },
 "nbformat": 4,
 "nbformat_minor": 5
}
