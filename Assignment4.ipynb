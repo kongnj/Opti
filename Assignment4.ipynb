{
 "cells": [
  {
   "cell_type": "code",
   "execution_count": 23,
   "id": "initial_id",
   "metadata": {
    "collapsed": true,
    "ExecuteTime": {
     "end_time": "2024-04-12T05:53:51.908606400Z",
     "start_time": "2024-04-12T05:53:51.863995100Z"
    }
   },
   "outputs": [],
   "source": [
    "import pulp\n",
    "import numpy as np\n",
    "import matplotlib_inline as plt"
   ]
  },
  {
   "cell_type": "code",
   "outputs": [],
   "source": [
    "prob = pulp.LpProblem(\"Minimize_Cost\", pulp.LpMinimize)"
   ],
   "metadata": {
    "collapsed": false,
    "ExecuteTime": {
     "end_time": "2024-04-12T05:53:51.909683Z",
     "start_time": "2024-04-12T05:53:51.876002100Z"
    }
   },
   "id": "e035f961667895c8",
   "execution_count": 24
  },
  {
   "cell_type": "code",
   "outputs": [],
   "source": [
    "nodes = ['a','b','c','d','r']\n",
    "edges_with_costs ={\n",
    "    ('a','b'):3,('c','a'):1,('r','a'):9,('b','c'):8,\n",
    "    ('b','r'):4,('d','b'):6,('r','c'):2,\n",
    "    ('c','d'):7,('d','c'):5\n",
    "}"
   ],
   "metadata": {
    "collapsed": false,
    "ExecuteTime": {
     "end_time": "2024-04-12T05:53:51.909683Z",
     "start_time": "2024-04-12T05:53:51.883456200Z"
    }
   },
   "id": "b212ad3d3d33e753",
   "execution_count": 25
  },
  {
   "cell_type": "code",
   "outputs": [],
   "source": [
    "import pulp\n",
    "x = pulp.LpVariable.dicts('x',(nodes,nodes),0,1,cat=pulp.LpInteger)"
   ],
   "metadata": {
    "collapsed": false,
    "ExecuteTime": {
     "end_time": "2024-04-12T05:53:51.928592600Z",
     "start_time": "2024-04-12T05:53:51.892444100Z"
    }
   },
   "id": "1c13dbdfe723617e",
   "execution_count": 26
  },
  {
   "cell_type": "code",
   "outputs": [],
   "source": [
    "prob +=pulp.lpSum(edges_with_costs[u,v] * x[u][v] for u, v in edges_with_costs)"
   ],
   "metadata": {
    "collapsed": false,
    "ExecuteTime": {
     "end_time": "2024-04-12T05:53:51.929688500Z",
     "start_time": "2024-04-12T05:53:51.901656100Z"
    }
   },
   "id": "a5958771a4b49912",
   "execution_count": 27
  },
  {
   "cell_type": "code",
   "outputs": [
    {
     "data": {
      "text/plain": "Minimize_Cost:\nMINIMIZE\n3*x_a_b + 8*x_b_c + 4*x_b_r + 1*x_c_a + 7*x_c_d + 6*x_d_b + 5*x_d_c + 9*x_r_a + 2*x_r_c + 0\nSUBJECT TO\n_C1: x_c_a + x_r_a = 1\n\n_C2: x_a_b + x_d_b = 1\n\n_C3: x_b_c + x_d_c + x_r_c = 1\n\n_C4: x_c_d = 1\n\nVARIABLES\n0 <= x_a_b <= 1 Integer\n0 <= x_b_c <= 1 Integer\n0 <= x_b_r <= 1 Integer\n0 <= x_c_a <= 1 Integer\n0 <= x_c_d <= 1 Integer\n0 <= x_d_b <= 1 Integer\n0 <= x_d_c <= 1 Integer\n0 <= x_r_a <= 1 Integer\n0 <= x_r_c <= 1 Integer"
     },
     "execution_count": 28,
     "metadata": {},
     "output_type": "execute_result"
    }
   ],
   "source": [
    "for v in nodes:\n",
    "    if v != 'r':\n",
    "        prob +=pulp.lpSum(x[u][v] for u in nodes if (u,v) in edges_with_costs) == 1\n",
    "        #prob +=pulp.lpSum(x[u,v] for u in nodes if (v,u) in edges_with_costs) == 1"
   ],
   "metadata": {
    "collapsed": false,
    "ExecuteTime": {
     "end_time": "2024-04-12T05:53:51.930732600Z",
     "start_time": "2024-04-12T05:53:51.915236700Z"
    }
   },
   "id": "35bbabe2c16527db",
   "execution_count": 28
  },
  {
   "cell_type": "code",
   "outputs": [
    {
     "data": {
      "text/plain": "Minimize_Cost:\nMINIMIZE\n3*x_a_b + 8*x_b_c + 4*x_b_r + 1*x_c_a + 7*x_c_d + 6*x_d_b + 5*x_d_c + 9*x_r_a + 2*x_r_c + 0\nSUBJECT TO\n_C1: x_c_a + x_r_a = 1\n\n_C2: x_a_b + x_d_b = 1\n\n_C3: x_b_c + x_d_c + x_r_c = 1\n\n_C4: x_c_d = 1\n\n_C5: x_b_r = 0\n\n_C6: x_r_a + x_r_c >= 1\n\nVARIABLES\n0 <= x_a_b <= 1 Integer\n0 <= x_b_c <= 1 Integer\n0 <= x_b_r <= 1 Integer\n0 <= x_c_a <= 1 Integer\n0 <= x_c_d <= 1 Integer\n0 <= x_d_b <= 1 Integer\n0 <= x_d_c <= 1 Integer\n0 <= x_r_a <= 1 Integer\n0 <= x_r_c <= 1 Integer"
     },
     "execution_count": 30,
     "metadata": {},
     "output_type": "execute_result"
    }
   ],
   "source": [
    "prob += pulp.lpSum(x[u]['r'] for u in nodes if (u,'r') in edges_with_costs) == 0\n",
    "prob += pulp.lpSum(x['r'][v] for v in nodes if ('r',v) in edges_with_costs)>= 1"
   ],
   "metadata": {
    "collapsed": false,
    "ExecuteTime": {
     "end_time": "2024-04-12T05:54:45.521245100Z",
     "start_time": "2024-04-12T05:54:45.502604700Z"
    }
   },
   "id": "e75db451e0b4aef2",
   "execution_count": 30
  },
  {
   "cell_type": "code",
   "outputs": [
    {
     "data": {
      "text/plain": "[('r',),\n ('a', 'r'),\n ('b', 'r'),\n ('c', 'r'),\n ('d', 'r'),\n ('a', 'b', 'r'),\n ('a', 'c', 'r'),\n ('a', 'd', 'r'),\n ('b', 'c', 'r'),\n ('b', 'd', 'r'),\n ('c', 'd', 'r'),\n ('a', 'b', 'c', 'r'),\n ('a', 'b', 'd', 'r'),\n ('a', 'c', 'd', 'r'),\n ('b', 'c', 'd', 'r')]"
     },
     "execution_count": 31,
     "metadata": {},
     "output_type": "execute_result"
    }
   ],
   "source": [
    "from pulp import *\n",
    "n = len(nodes)\n",
    "subsets = [tuple(c) for c in allcombinations(nodes,n-1)]\n",
    "subset = []\n",
    "for s in subsets:\n",
    "    if 'r' in s:\n",
    "        subset.append(s)\n",
    "subset"
   ],
   "metadata": {
    "collapsed": false,
    "ExecuteTime": {
     "end_time": "2024-04-12T05:55:25.610251900Z",
     "start_time": "2024-04-12T05:55:25.592576600Z"
    }
   },
   "id": "b0543842553d9d01",
   "execution_count": 31
  },
  {
   "cell_type": "code",
   "outputs": [
    {
     "data": {
      "text/plain": "Minimize_Cost:\nMINIMIZE\n3*x_a_b + 8*x_b_c + 4*x_b_r + 1*x_c_a + 7*x_c_d + 6*x_d_b + 5*x_d_c + 9*x_r_a + 2*x_r_c + 0\nSUBJECT TO\n_C1: x_c_a + x_r_a = 1\n\n_C2: x_a_b + x_d_b = 1\n\n_C3: x_b_c + x_d_c + x_r_c = 1\n\n_C4: x_c_d = 1\n\n_C5: x_b_r = 0\n\n_C6: x_r_a + x_r_c >= 1\n\n_C7: x_r_a + x_r_c >= 1\n\n_C8: x_a_b + x_r_c >= 1\n\n_C9: x_b_c + x_r_a + x_r_c >= 1\n\n_C10: x_c_a + x_c_d + x_r_a >= 1\n\n_C11: x_d_b + x_d_c + x_r_a + x_r_c >= 1\n\n_C12: x_b_c + x_r_c >= 1\n\n_C13: x_a_b + x_c_d >= 1\n\n_C14: x_a_b + x_d_b + x_d_c + x_r_c >= 1\n\n_C15: x_c_a + x_c_d + x_r_a >= 1\n\n_C16: x_b_c + x_d_c + x_r_a + x_r_c >= 1\n\n_C17: x_c_a + x_d_b + x_r_a >= 1\n\n_C18: x_c_d >= 1\n\n_C19: x_b_c + x_d_c + x_r_c >= 1\n\n_C20: x_a_b + x_d_b >= 1\n\n_C21: x_c_a + x_r_a >= 1\n\nVARIABLES\n0 <= x_a_b <= 1 Integer\n0 <= x_b_c <= 1 Integer\n0 <= x_b_r <= 1 Integer\n0 <= x_c_a <= 1 Integer\n0 <= x_c_d <= 1 Integer\n0 <= x_d_b <= 1 Integer\n0 <= x_d_c <= 1 Integer\n0 <= x_r_a <= 1 Integer\n0 <= x_r_c <= 1 Integer"
     },
     "execution_count": 32,
     "metadata": {},
     "output_type": "execute_result"
    }
   ],
   "source": [
    "for s in subset:\n",
    "    sc = list(set(nodes)-set(s)) # complement of subset s\n",
    "    summation = 0.0\n",
    "    for u in s:\n",
    "        for v in sc:\n",
    "            if (u, v) in edges_with_costs: # Check if the (u, v) tuple is a valid key in edges_with_costs\n",
    "                summation += x[u][v]\n",
    "    prob += summation >= 1  \n"
   ],
   "metadata": {
    "collapsed": false,
    "ExecuteTime": {
     "end_time": "2024-04-12T05:55:50.566124600Z",
     "start_time": "2024-04-12T05:55:50.551515800Z"
    }
   },
   "id": "47d3c01cfa8cb411",
   "execution_count": 32
  },
  {
   "cell_type": "code",
   "outputs": [
    {
     "name": "stdout",
     "output_type": "stream",
     "text": [
      "Status: Optimal\n"
     ]
    }
   ],
   "source": [
    "prob.solve()\n",
    "print (\"Status:\", LpStatus[prob.status])"
   ],
   "metadata": {
    "collapsed": false,
    "ExecuteTime": {
     "end_time": "2024-04-12T05:56:16.602173700Z",
     "start_time": "2024-04-12T05:56:13.506499100Z"
    }
   },
   "id": "cea707102861f72",
   "execution_count": 33
  },
  {
   "cell_type": "code",
   "outputs": [
    {
     "name": "stdout",
     "output_type": "stream",
     "text": [
      "Optimal Solution\n",
      "(a,b)\n",
      "(c,a)\n",
      "(c,d)\n",
      "(r,c)\n"
     ]
    }
   ],
   "source": [
    "print (\"Optimal Solution\")\n",
    "for i in nodes:\n",
    "\tfor j in nodes:\n",
    "\t\tif x[i][j].value() == 1:\n",
    "\t\t\tprint (\"(%s,%s)\"%(i,j),)"
   ],
   "metadata": {
    "collapsed": false,
    "ExecuteTime": {
     "end_time": "2024-04-12T05:56:55.677032600Z",
     "start_time": "2024-04-12T05:56:55.666208900Z"
    }
   },
   "id": "ff74efe7255b9c8a",
   "execution_count": 34
  },
  {
   "cell_type": "code",
   "outputs": [],
   "source": [],
   "metadata": {
    "collapsed": false
   },
   "id": "d06af639cd0e054c"
  }
 ],
 "metadata": {
  "kernelspec": {
   "display_name": "Python 3",
   "language": "python",
   "name": "python3"
  },
  "language_info": {
   "codemirror_mode": {
    "name": "ipython",
    "version": 2
   },
   "file_extension": ".py",
   "mimetype": "text/x-python",
   "name": "python",
   "nbconvert_exporter": "python",
   "pygments_lexer": "ipython2",
   "version": "2.7.6"
  }
 },
 "nbformat": 4,
 "nbformat_minor": 5
}
