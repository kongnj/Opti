{
 "cells": [
  {
   "cell_type": "code",
   "execution_count": 1,
   "id": "initial_id",
   "metadata": {
    "collapsed": true,
    "ExecuteTime": {
     "end_time": "2024-04-14T06:09:17.865695Z",
     "start_time": "2024-04-14T06:09:16.250994Z"
    }
   },
   "outputs": [],
   "source": [
    "import pulp\n",
    "import numpy as np\n",
    "import matplotlib_inline as plt"
   ]
  },
  {
   "cell_type": "code",
   "outputs": [],
   "source": [
    "prob = pulp.LpProblem(\"Minimize_Cost\", pulp.LpMinimize)"
   ],
   "metadata": {
    "collapsed": false,
    "ExecuteTime": {
     "end_time": "2024-04-14T06:09:17.880679Z",
     "start_time": "2024-04-14T06:09:17.869691Z"
    }
   },
   "id": "e035f961667895c8",
   "execution_count": 2
  },
  {
   "cell_type": "code",
   "outputs": [],
   "source": [
    "nodes = ['a','b','c','d','r']\n",
    "edges_with_costs ={\n",
    "    ('a','b'):3,('c','a'):1,('r','a'):9,('b','c'):8,\n",
    "    ('b','r'):4,('d','b'):6,('r','c'):2,\n",
    "    ('c','d'):7,('d','r'):5\n",
    "}"
   ],
   "metadata": {
    "collapsed": false,
    "ExecuteTime": {
     "end_time": "2024-04-14T06:09:17.891883Z",
     "start_time": "2024-04-14T06:09:17.883685Z"
    }
   },
   "id": "b212ad3d3d33e753",
   "execution_count": 3
  },
  {
   "cell_type": "code",
   "outputs": [],
   "source": [
    "import pulp\n",
    "x = pulp.LpVariable.dicts('x',(nodes,nodes),0,1,cat=pulp.LpInteger)"
   ],
   "metadata": {
    "collapsed": false,
    "ExecuteTime": {
     "end_time": "2024-04-14T06:09:17.904834Z",
     "start_time": "2024-04-14T06:09:17.895894Z"
    }
   },
   "id": "1c13dbdfe723617e",
   "execution_count": 4
  },
  {
   "cell_type": "code",
   "outputs": [],
   "source": [
    "prob +=pulp.lpSum(edges_with_costs[u,v] * x[u][v] for u, v in edges_with_costs)"
   ],
   "metadata": {
    "collapsed": false,
    "ExecuteTime": {
     "end_time": "2024-04-14T06:09:17.964015Z",
     "start_time": "2024-04-14T06:09:17.909104Z"
    }
   },
   "id": "a5958771a4b49912",
   "execution_count": 5
  },
  {
   "cell_type": "code",
   "outputs": [],
   "source": [
    "for v in nodes:\n",
    "    if v != 'r':\n",
    "        prob +=pulp.lpSum(x[u][v] for u in nodes if (u,v) in edges_with_costs) == 1\n",
    "        #prob +=pulp.lpSum(x[u,v] for u in nodes if (v,u) in edges_with_costs) == 1"
   ],
   "metadata": {
    "collapsed": false,
    "ExecuteTime": {
     "end_time": "2024-04-14T06:09:17.983297Z",
     "start_time": "2024-04-14T06:09:17.970325Z"
    }
   },
   "id": "35bbabe2c16527db",
   "execution_count": 6
  },
  {
   "cell_type": "code",
   "outputs": [],
   "source": [
    "prob += pulp.lpSum(x[u]['r'] for u in nodes if (u,'r') in edges_with_costs) == 0\n",
    "prob += pulp.lpSum(x['r'][v] for v in nodes if ('r',v) in edges_with_costs)>= 1"
   ],
   "metadata": {
    "collapsed": false,
    "ExecuteTime": {
     "end_time": "2024-04-14T06:09:18.001726Z",
     "start_time": "2024-04-14T06:09:17.988335Z"
    }
   },
   "id": "e75db451e0b4aef2",
   "execution_count": 7
  },
  {
   "cell_type": "code",
   "outputs": [
    {
     "data": {
      "text/plain": "[('r',),\n ('a', 'r'),\n ('b', 'r'),\n ('c', 'r'),\n ('d', 'r'),\n ('a', 'b', 'r'),\n ('a', 'c', 'r'),\n ('a', 'd', 'r'),\n ('b', 'c', 'r'),\n ('b', 'd', 'r'),\n ('c', 'd', 'r'),\n ('a', 'b', 'c', 'r'),\n ('a', 'b', 'd', 'r'),\n ('a', 'c', 'd', 'r'),\n ('b', 'c', 'd', 'r')]"
     },
     "execution_count": 8,
     "metadata": {},
     "output_type": "execute_result"
    }
   ],
   "source": [
    "from pulp import *\n",
    "n = len(nodes)\n",
    "subsets = [tuple(c) for c in allcombinations(nodes,n-1)]\n",
    "subset = []\n",
    "for s in subsets:\n",
    "    if 'r' in s:\n",
    "        subset.append(s)\n",
    "subset"
   ],
   "metadata": {
    "collapsed": false,
    "ExecuteTime": {
     "end_time": "2024-04-14T06:09:18.143928Z",
     "start_time": "2024-04-14T06:09:18.128977Z"
    }
   },
   "id": "b0543842553d9d01",
   "execution_count": 8
  },
  {
   "cell_type": "code",
   "outputs": [],
   "source": [
    "for s in subset:\n",
    "    sc = list(set(nodes)-set(s)) # complement of subset s\n",
    "    summation = 0.0\n",
    "    for u in s:\n",
    "        for v in sc:\n",
    "            if (u, v) in edges_with_costs: # Check if the (u, v) tuple is a valid key in edges_with_costs\n",
    "                summation += x[u][v]\n",
    "    prob += summation >= 1  \n"
   ],
   "metadata": {
    "collapsed": false,
    "ExecuteTime": {
     "end_time": "2024-04-14T06:09:19.286296Z",
     "start_time": "2024-04-14T06:09:19.274887Z"
    }
   },
   "id": "47d3c01cfa8cb411",
   "execution_count": 9
  },
  {
   "cell_type": "code",
   "outputs": [
    {
     "name": "stdout",
     "output_type": "stream",
     "text": [
      "Status: Optimal\n"
     ]
    }
   ],
   "source": [
    "prob.solve()\n",
    "print (\"Status:\", LpStatus[prob.status])"
   ],
   "metadata": {
    "collapsed": false,
    "ExecuteTime": {
     "end_time": "2024-04-14T06:09:30.735090Z",
     "start_time": "2024-04-14T06:09:19.938976Z"
    }
   },
   "id": "cea707102861f72",
   "execution_count": 10
  },
  {
   "cell_type": "code",
   "outputs": [
    {
     "name": "stdout",
     "output_type": "stream",
     "text": [
      "Optimal Solution\n"
     ]
    },
    {
     "data": {
      "text/plain": "[('a', 'b'), ('c', 'a'), ('c', 'd'), ('r', 'c')]"
     },
     "execution_count": 11,
     "metadata": {},
     "output_type": "execute_result"
    }
   ],
   "source": [
    "print (\"Optimal Solution\")\n",
    "resultin = []\n",
    "for i in nodes:\n",
    "\tfor j in nodes:\n",
    "\t\tif x[i][j].value() == 1:\n",
    "\t\t\tresultin.append((i,j))\n",
    "resultin"
   ],
   "metadata": {
    "collapsed": false,
    "ExecuteTime": {
     "end_time": "2024-04-14T06:09:30.747035Z",
     "start_time": "2024-04-14T06:09:30.737088Z"
    }
   },
   "id": "ff74efe7255b9c8a",
   "execution_count": 11
  },
  {
   "cell_type": "code",
   "outputs": [
    {
     "data": {
      "text/plain": "13.0"
     },
     "execution_count": 12,
     "metadata": {},
     "output_type": "execute_result"
    }
   ],
   "source": [
    "costin = 0.0\n",
    "for e in resultin:\n",
    "    costin+= edges_with_costs[e]\n",
    "costin"
   ],
   "metadata": {
    "collapsed": false,
    "ExecuteTime": {
     "end_time": "2024-04-14T06:09:30.761774Z",
     "start_time": "2024-04-14T06:09:30.749033Z"
    }
   },
   "id": "d06af639cd0e054c",
   "execution_count": 12
  },
  {
   "cell_type": "code",
   "outputs": [],
   "source": [],
   "metadata": {
    "collapsed": false
   },
   "id": "6ad60cace6ec4b5b"
  }
 ],
 "metadata": {
  "kernelspec": {
   "display_name": "Python 3",
   "language": "python",
   "name": "python3"
  },
  "language_info": {
   "codemirror_mode": {
    "name": "ipython",
    "version": 2
   },
   "file_extension": ".py",
   "mimetype": "text/x-python",
   "name": "python",
   "nbconvert_exporter": "python",
   "pygments_lexer": "ipython2",
   "version": "2.7.6"
  }
 },
 "nbformat": 4,
 "nbformat_minor": 5
}
