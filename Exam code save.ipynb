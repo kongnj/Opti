{
 "cells": [
  {
   "cell_type": "markdown",
   "source": [
    "Q1"
   ],
   "metadata": {
    "collapsed": false
   },
   "id": "49bd15e2b90994b8"
  },
  {
   "cell_type": "markdown",
   "source": [],
   "metadata": {
    "collapsed": false
   },
   "id": "19c7c4021326cec3"
  },
  {
   "cell_type": "code",
   "execution_count": 4,
   "outputs": [
    {
     "name": "stdout",
     "output_type": "stream",
     "text": [
      "30\n"
     ]
    }
   ],
   "source": [
    "def sum_squares(lst):\n",
    "    \"\"\"Return the sum of squares of numbers in lst.\"\"\"\n",
    "    total = 0  # Proper initialization of the accumulator variable\n",
    "    for number in lst:  # Use each 'number' directly from the list\n",
    "        total += number**2  # Squaring the 'number' and adding to total\n",
    "    print(total)  # Printing the value of total instead of the string \"sum\"\n",
    "\n",
    "# Example of using the function\n",
    "numbers = [1, 2, 3, 4]\n",
    "sum_squares(numbers)"
   ],
   "metadata": {
    "collapsed": false,
    "ExecuteTime": {
     "end_time": "2024-05-03T05:50:42.137551Z",
     "start_time": "2024-05-03T05:50:42.127834Z"
    }
   },
   "id": "7c1d6c37baf9993"
  },
  {
   "cell_type": "markdown",
   "source": [
    "Q2\n",
    "def mystery(t):\n",
    "    f = open(t)\n",
    "    s=0\n",
    "    for i in f.readlines():\n",
    "        a = i.strip().split(’,’)    \n",
    "        s += a[0]\n",
    "    return(s)\n",
    "\n",
    "The function mystery takes a filename as an argument, reads the file, and calculates the sum of the first value in each comma-separated line. It opens the file, reads each line, strips whitespace, splits the line by commas, and adds the first element of the resulting list to a running total\n",
    "# strip() removes the spaces at the beginning and the end of the string.\n",
    "# strip() removes all exclamation marks ! from both ends of the string. text.strip('!')"
   ],
   "metadata": {
    "collapsed": false
   },
   "id": "79d0415018702d1d"
  },
  {
   "cell_type": "markdown",
   "source": [
    "Q3\n",
    "Write a Python function that takes the name of a file as an input string and returns a 2-\n",
    "element-tuple containing the maximum and minimum values in column 0 (zero) of a CSV file\n",
    "(the leMmost column). You may assume that all the data in the column can be interpreted as\n",
    "integers.\n"
   ],
   "metadata": {
    "collapsed": false
   },
   "id": "32a6a72f5579a2f1"
  },
  {
   "cell_type": "code",
   "execution_count": 36,
   "outputs": [],
   "source": [
    "def find_min_max_in_file(filename):\n",
    "    import csv\n",
    "    min_val = None\n",
    "    max_val = None\n",
    "    with open(filename,'r',encoding='utf-8') as file:\n",
    "        reader = csv.reader(file)\n",
    "        headers = next(reader)\n",
    "        for row in reader:\n",
    "            if row:\n",
    "                value = int(row[0])\n",
    "                if min_val is None or value < min_val:\n",
    "                    min_val = value\n",
    "                if max_val is None or value > max_val:\n",
    "                    max_val = value\n",
    "                    \n",
    "    return (min_val,max_val)"
   ],
   "metadata": {
    "collapsed": false,
    "ExecuteTime": {
     "end_time": "2024-05-03T06:29:59.934170Z",
     "start_time": "2024-05-03T06:29:59.927021Z"
    }
   },
   "id": "69c4e552c6f0b1b6"
  },
  {
   "cell_type": "code",
   "outputs": [
    {
     "name": "stdout",
     "output_type": "stream",
     "text": [
      "(25, 829)\n"
     ]
    }
   ],
   "source": [
    "print(find_min_max_in_file('assignment.csv'))"
   ],
   "metadata": {
    "collapsed": false,
    "ExecuteTime": {
     "end_time": "2024-05-03T05:53:56.060241Z",
     "start_time": "2024-05-03T05:53:56.055751Z"
    }
   },
   "id": "d87fef5ddaaa54f0",
   "execution_count": 15
  },
  {
   "cell_type": "markdown",
   "source": [
    "Q4\n",
    "Write a Python function that will take a list of integers and return a count of the number of\n",
    "odd numbers in the list. You may assume the input is a non-empty list of integers."
   ],
   "metadata": {
    "collapsed": false
   },
   "id": "4b9a717c75f32310"
  },
  {
   "cell_type": "code",
   "execution_count": null,
   "outputs": [],
   "source": [
    "def count_odds(numbers):\n",
    "    odd_count = 0\n",
    "    for number in numbers:\n",
    "        if number % 2 != 0:\n",
    "            odd_count += 1\n",
    "    return odd_count"
   ],
   "metadata": {
    "collapsed": false
   },
   "id": "aadff07fe180842f"
  },
  {
   "cell_type": "code",
   "execution_count": null,
   "outputs": [],
   "source": [
    "#Q5\n",
    "class Player:\n",
    "    # footwork speed\n",
    "    SPEED = ['fast', 'medium', 'slow']\n",
    "    def __init__(self, height, speed, smash_power):\n",
    "    # in cm\n",
    "        self.height = height\n",
    "    # scale of 1 (slow) to 10 (hard)\n",
    "        self.smash_power = smash_power\n",
    "    # one of the elements of SPEED\n",
    "        if speed in Player.SPEED:\n",
    "            self.speed = speed\n",
    "        else:\n",
    "            self.speed = Player.SPEED[-1]"
   ],
   "metadata": {
    "collapsed": false
   },
   "id": "f4271e4e3cfbfa25"
  },
  {
   "cell_type": "markdown",
   "source": [
    "Q5.a\n",
    "Define a method for the class called is singles player that returns True if the player is tall\n",
    "(more than 180cm) and has fast footwork, and False otherwise."
   ],
   "metadata": {
    "collapsed": false
   },
   "id": "d37b13d384f38d78"
  },
  {
   "cell_type": "code",
   "execution_count": null,
   "outputs": [],
   "source": [
    "def single(self):\n",
    "    if self.speed == 'fast' and self.height >= 180:\n",
    "        return True\n",
    "    else:\n",
    "        return False "
   ],
   "metadata": {
    "collapsed": false
   },
   "id": "90e248752215a3e2"
  },
  {
   "cell_type": "markdown",
   "source": [
    "Q5.b\n",
    "Write Python code to create a list called ps that contains 2 Player objects."
   ],
   "metadata": {
    "collapsed": false
   },
   "id": "f232eff7b4a2ade6"
  },
  {
   "cell_type": "code",
   "execution_count": null,
   "outputs": [],
   "source": [
    "player1 = Player(180,'fast',8)\n",
    "player2 = Player(175,'medium',7)"
   ],
   "metadata": {
    "collapsed": false
   },
   "id": "e58f36d82bd4a757"
  },
  {
   "cell_type": "code",
   "execution_count": null,
   "outputs": [],
   "source": [
    "ps = [player1,player2]\n",
    "\n",
    "for player in ps: \n",
    "    print()"
   ],
   "metadata": {
    "collapsed": false
   },
   "id": "e30f8d12c5275959"
  },
  {
   "cell_type": "code",
   "execution_count": 16,
   "outputs": [],
   "source": [
    "#Q6\n",
    "def sorty_mcsortface(lst):\n",
    "    new_lst = []\n",
    "    for element in lst:\n",
    "        for i in range(len(new_lst)):\n",
    "            if new_lst[i] > element:\n",
    "                break\n",
    "    new_lst = new_lst[:i] + [element] + new_lst[i:]\n",
    "    return new_lst"
   ],
   "metadata": {
    "collapsed": false,
    "ExecuteTime": {
     "end_time": "2024-05-03T05:57:54.654693Z",
     "start_time": "2024-05-03T05:57:54.646305Z"
    }
   },
   "id": "18080a70069719ce"
  },
  {
   "cell_type": "markdown",
   "source": [
    "(0+1+....n-1)= n^2 /2\n",
    "对比 insertion，由于每一次的迭代在嵌套迭代里面都会重复一遍原本的list，但是这里的new_list,是从break 开始最开始的时候是没有任何东西的，也就是在下面整体相加并没有合并在一起所以这一步记为0，但是又因为到最后一步是n-1, 整体相加"
   ],
   "metadata": {
    "collapsed": false
   },
   "id": "6970badf1eb90118"
  },
  {
   "cell_type": "code",
   "execution_count": 22,
   "outputs": [
    {
     "name": "stdout",
     "output_type": "stream",
     "text": [
      "[101, 253]\n"
     ]
    }
   ],
   "source": [
    "#Q7\n",
    "class Ball:\n",
    "    def __init__(self):\n",
    "        self.position = [101,254]\n",
    "    def process(self, msg):\n",
    "        error = False\n",
    "        dx,dy = (0,0)\n",
    "        if msg.startswith(\"UP\"):\n",
    "            dx,dy = (0, -1)\n",
    "        elif msg.startswith(\"DOWN\"):\n",
    "            dx,dy = (0, +1)\n",
    "        elif msg.startswith(\"LEFT\"):\n",
    "            dx,dy = (-1, 0)\n",
    "        elif msg.startswith(\"RIGHT\"):\n",
    "            dx,dy = (+1, 0)\n",
    "        elif msg.startswith(\"SAY\"):\n",
    "            print(\"{}\\n\".format(msg[3:-3]))\n",
    "        else:\n",
    "            error = True\n",
    "        if error:\n",
    "            return(\"ERROR\")\n",
    "        else:\n",
    "            self.position[0] += dx\n",
    "            self.position[1] += dy\n",
    "            return(\"OK\")\n",
    "ball = Ball()\n",
    "ball.process(\"UP EOM\")\n",
    "print(ball.position)"
   ],
   "metadata": {
    "collapsed": false,
    "ExecuteTime": {
     "end_time": "2024-05-03T06:04:46.451200Z",
     "start_time": "2024-05-03T06:04:46.442937Z"
    }
   },
   "id": "16e476334a686aa0"
  },
  {
   "cell_type": "code",
   "outputs": [
    {
     "name": "stdout",
     "output_type": "stream",
     "text": [
      "I Love Exams\n",
      "\n",
      "OK\n"
     ]
    }
   ],
   "source": [
    "print(ball.process(\"SAYI Love ExamsEOM\"))"
   ],
   "metadata": {
    "collapsed": false,
    "ExecuteTime": {
     "end_time": "2024-05-03T06:04:47.631814Z",
     "start_time": "2024-05-03T06:04:47.625303Z"
    }
   },
   "id": "9a9af3094e2e0fb5",
   "execution_count": 23
  },
  {
   "cell_type": "code",
   "execution_count": 24,
   "outputs": [
    {
     "name": "stdout",
     "output_type": "stream",
     "text": [
      "ERROR\n",
      "ERROR\n"
     ]
    }
   ],
   "source": [
    "#Q7-c\n",
    "print(ball.process(\"JUMP EOM\"))\n",
    "print(ball.process(\"    Move Eom\"))"
   ],
   "metadata": {
    "collapsed": false,
    "ExecuteTime": {
     "end_time": "2024-05-03T06:05:06.786950Z",
     "start_time": "2024-05-03T06:05:06.780694Z"
    }
   },
   "id": "3488e00f2501b809"
  },
  {
   "cell_type": "markdown",
   "source": [
    "#Q8\n",
    "Consider the following Python function which is supposed to do what is commented at the\n",
    "beginning of the function.\n",
    "def doit(lst):\n",
    "    \"\"\"Return the area of the circle with a radius equal to\n",
    "    the median of the radii given in the iterator ’lst’.\n",
    "    \"\"\"\n",
    "    list = list(list)\n",
    "    from math import pie\n",
    "    if length(set) % 2 = 0:\n",
    "        med = list[ length(set) // 2 ]\n",
    "        print(pie * med*2)\n",
    "    else:\n",
    "        med = list[ (length(set) - 2)// 2 ]\n",
    "        print(pie * med**2)\n",
    "    return(None)\n",
    "The function contains at least 9 errors. List as many as you can up to 8 (1 mark each),\n",
    "referring to the line number and how the error could be fixed. Errors that carry through to\n",
    "subsequent lines should only be reported once. Style or subjec5ve choices are not errors.\n"
   ],
   "metadata": {
    "collapsed": false
   },
   "id": "3fde6edd82bfe501"
  },
  {
   "cell_type": "code",
   "execution_count": 27,
   "outputs": [
    {
     "data": {
      "text/plain": "63.61725123519331"
     },
     "execution_count": 27,
     "metadata": {},
     "output_type": "execute_result"
    }
   ],
   "source": [
    "def doit(lst):\n",
    "    radius_list = list(lst)\n",
    "    radius_list.sort()\n",
    "    \n",
    "    from math import pi  \n",
    "    n = len(radius_list)\n",
    "    if n % 2 == 0:\n",
    "        med = (radius_list[n // 2 - 1] + radius_list[n // 2]) / 2\n",
    "    else:\n",
    "        med = radius_list[n // 2]\n",
    "    area = pi * med ** 2\n",
    "    return area\n",
    "\n",
    "radii = [2, 5, 3, 9, 4, 8]\n",
    "doit(radii)\n",
    "# 求median\n",
    "# from math import pi 这又没学过不是吗"
   ],
   "metadata": {
    "collapsed": false,
    "ExecuteTime": {
     "end_time": "2024-05-03T06:09:09.032455Z",
     "start_time": "2024-05-03T06:09:09.009430Z"
    }
   },
   "id": "4134b175f5a1c8ec"
  },
  {
   "cell_type": "markdown",
   "source": [
    "#Q9\n",
    "Explain in a few sentences why the merge sort algorithm is very unlikely to exhaust Python’s\n",
    "default maximum stack depth?\n",
    "\n",
    "Stack overflow when a program uses more memory in its call stack than was originally allocated, the call stack is a limited storage area that keeps track of function calls in a program.\n",
    "The default maximum stack depth: the maximum depth of the python call stack, the limit is typically set to 1000, which means you can have a recursion depth of up to 1000 calls. \n",
    "\n",
    "The merge sort algorithm divides the list into two halves, sorts each half recursively, and then merges the sorted halves back together. This division of the list into halves continues until the sublists have just one element or none at all. The key point here is that each \"split\" halves the size of the list, and because of this efficient division strategy, the depth of recursion increases very slowly.\n",
    "\n",
    "In Python, the default maximum stack depth (which can often be around 1000 levels deep, but can be higher depending on the environment) is much more than sufficient to handle the recursive calls required by merge sort for practically large lists. To illustrate, even for an incredibly large list of 2^20 (approximately 1 million) elements, merge sort would only need about 20 recursive calls deep (since 2^20 = 1 million, and log2(1 million) ≈ 20), which is well within Python's default stack depth limit.\n",
    "因为减少是log2 递归速度非常的快\n",
    "Thus, merge sort is very unlikely to cause a stack overflow in Python unless the list is astronomically large, far exceeding typical or even high-end usage scenarios. This makes merge sort a very safe and robust sorting algorithm in terms of managing recursion depth.\n"
   ],
   "metadata": {
    "collapsed": false
   },
   "id": "fff42f013c4ca680"
  },
  {
   "cell_type": "code",
   "execution_count": 37,
   "outputs": [],
   "source": [
    "#Q10\n",
    "def count_repeats(input):\n",
    "    \"\"\"Return list of tuples of consecutive word pairs that occur more than once in input.\"\"\"\n",
    "    import string\n",
    "    for p in string.punctuation:\n",
    "        #punctuation will be replaced\n",
    "        input = input.replace(p, ' ')\n",
    "    s = input.lower().split()\n",
    "    count= {}\n",
    "    dic = {}\n",
    "    for i in range(1, len(s)):\n",
    "        # two variables\n",
    "        key = (s[i-1], s[i])\n",
    "        if key in dic:\n",
    "            dic[key] += 1\n",
    "        else:\n",
    "            dic[key] = 1\n",
    "    result = []\n",
    "    for k, v in dic.items():\n",
    "        if v > 1:\n",
    "            result += k\n",
    "    return result"
   ],
   "metadata": {
    "collapsed": false,
    "ExecuteTime": {
     "end_time": "2024-05-03T06:30:06.155887Z",
     "start_time": "2024-05-03T06:30:06.149508Z"
    }
   },
   "id": "2e825221d67da520"
  },
  {
   "cell_type": "code",
   "outputs": [
    {
     "data": {
      "text/plain": "['ann', 'eats']"
     },
     "execution_count": 38,
     "metadata": {},
     "output_type": "execute_result"
    }
   ],
   "source": [
    "count_repeats('Ann eats at Joe\\'s. Ann eats apples.')"
   ],
   "metadata": {
    "collapsed": false,
    "ExecuteTime": {
     "end_time": "2024-05-03T06:30:08.056088Z",
     "start_time": "2024-05-03T06:30:08.048645Z"
    }
   },
   "id": "6108a528220f86eb",
   "execution_count": 38
  },
  {
   "cell_type": "markdown",
   "source": [
    "#Q11\n",
    "Write a class called Circle to represent circles so that the following code will run.\n",
    "s1 = Circle(100, 200, 20) # make a circle centered at (x=100,y=200) with radius 10\n",
    "s2 = Circle(300, 100, 50) # make a circle centered at (x=300,y=100) with radius 50"
   ],
   "metadata": {
    "collapsed": false
   },
   "id": "47b29880223e903b"
  },
  {
   "cell_type": "code",
   "execution_count": 33,
   "outputs": [],
   "source": [
    "class Circle:\n",
    "    def __init__(self,x,y,radius):\n",
    "        self.x = x\n",
    "        self.y = y\n",
    "        self.radius = radius\n",
    "s1 = Circle(100,200,20)\n",
    "s2 = Circle(300,100,50)"
   ],
   "metadata": {
    "collapsed": false,
    "ExecuteTime": {
     "end_time": "2024-05-03T06:18:06.954390Z",
     "start_time": "2024-05-03T06:18:06.945718Z"
    }
   },
   "id": "6a29409c355c11a3"
  },
  {
   "cell_type": "markdown",
   "source": [
    "Add a method to your Circle class so that the command s.prettyprint(), where s is a Circle object, will print the string \"(x,y) radius= r\" where x, y and r are the artibutes for position and radius held in object s."
   ],
   "metadata": {
    "collapsed": false
   },
   "id": "4c3f3476e7f0c3fb"
  },
  {
   "cell_type": "code",
   "execution_count": 34,
   "outputs": [
    {
     "name": "stdout",
     "output_type": "stream",
     "text": [
      "(100,200,radius=20)\n",
      "(300,100,radius=50)\n"
     ]
    }
   ],
   "source": [
    "class Circle:\n",
    "    def __init__(self,x,y,radius):\n",
    "        self.x = x\n",
    "        self.y = y\n",
    "        self.radius = radius\n",
    "    def  prettyprint(self):\n",
    "        print(f\"({self.x},{self.y},radius={self.radius})\")\n",
    "s1 = Circle(100,200,20)\n",
    "s2 = Circle(300,100,50)\n",
    "s1.prettyprint()\n",
    "s2.prettyprint()"
   ],
   "metadata": {
    "collapsed": false,
    "ExecuteTime": {
     "end_time": "2024-05-03T06:28:04.347768Z",
     "start_time": "2024-05-03T06:28:04.340941Z"
    }
   },
   "id": "34b864c761596998"
  },
  {
   "cell_type": "code",
   "execution_count": 35,
   "outputs": [
    {
     "name": "stdout",
     "output_type": "stream",
     "text": [
      "False\n",
      "True\n"
     ]
    }
   ],
   "source": [
    "#Q11.c\n",
    "class Circle:\n",
    "    def __init__(self,x,y,radius):\n",
    "        self.x = x\n",
    "        self.y = y\n",
    "        self.radius = radius\n",
    "    def  prettyprint(self):\n",
    "        print(f\"({self.x},{self.y},radius={self.radius})\")\n",
    "    def overlap(self, other):\n",
    "            import  math\n",
    "            distance = math.sqrt((self.x - other.x) ** 2 + (self.y - other.y) ** 2)\n",
    "            return distance <= self.radius + other.radius\n",
    "# 这我还得记得圆公式吗\n",
    "s1 = Circle(100, 200, 20)\n",
    "s2 = Circle(300, 100, 50)\n",
    "s3 = Circle(110, 210, 10)\n",
    "\n",
    "print(s1.overlap(s2))  \n",
    "print(s1.overlap(s3))"
   ],
   "metadata": {
    "collapsed": false,
    "ExecuteTime": {
     "end_time": "2024-05-03T06:29:13.134062Z",
     "start_time": "2024-05-03T06:29:13.119690Z"
    }
   },
   "id": "b2b250a193669f6e"
  },
  {
   "cell_type": "markdown",
   "source": [
    "Q12\n",
    "Part a\n",
    "Write a function called stats that takes the name of a csv file as a string parameter and returns a dictionary containing the column headings as keys and the column means as values. You should assume that the file has a header row that has column headings, and that every other row contains numeric data. You may further assume that the file contains at least two lines."
   ],
   "metadata": {
    "collapsed": false
   },
   "id": "e4d93a2372f739f"
  },
  {
   "cell_type": "code",
   "execution_count": 54,
   "outputs": [],
   "source": [
    "def stats(file):\n",
    "    import statistics as stats\n",
    "    import csv\n",
    "    with open(file,'r', encoding='utf-8') as file:\n",
    "        reader = csv.reader(file)\n",
    "        headers =next(reader)\n",
    "        \n",
    "        data = {header : [] for header in headers}\n",
    "        \n",
    "        for row in reader:\n",
    "            for header,value in zip(headers,row):\n",
    "                data[header].append(float(value))\n",
    "        means = {header: stats.mean(data[header]) for header in headers}\n",
    "    return means"
   ],
   "metadata": {
    "collapsed": false,
    "ExecuteTime": {
     "end_time": "2024-05-03T06:41:59.869194Z",
     "start_time": "2024-05-03T06:41:59.863152Z"
    }
   },
   "id": "97882ee0806ea5eb"
  },
  {
   "cell_type": "code",
   "outputs": [
    {
     "data": {
      "text/plain": "{'\\ufeff693': 426.7083333333333,\n '793': 527.0416666666666,\n '24': 47.916666666666664,\n '702.31': 445.6504166666667}"
     },
     "execution_count": 55,
     "metadata": {},
     "output_type": "execute_result"
    }
   ],
   "source": [
    "stats('assignment.csv')"
   ],
   "metadata": {
    "collapsed": false,
    "ExecuteTime": {
     "end_time": "2024-05-03T06:42:01.236175Z",
     "start_time": "2024-05-03T06:42:01.227472Z"
    }
   },
   "id": "d6471a795928438f",
   "execution_count": 55
  },
  {
   "cell_type": "markdown",
   "source": [
    "Q12 \n",
    "part b\n",
    "Alter your function from Part a to allow for non-numeric data or missing data in some columns. You may continue to assume that the header row is valid, and that there are at least two lines in the file."
   ],
   "metadata": {
    "collapsed": false
   },
   "id": "730ff1a630c4c69d"
  },
  {
   "cell_type": "code",
   "execution_count": 58,
   "outputs": [],
   "source": [
    "def stats(filename):\n",
    "    import statistics as stats\n",
    "    import csv\n",
    "    with open(filename, 'r', encoding='utf-8') as file:\n",
    "        reader = csv.reader(file)\n",
    "        headers = next(reader)  \n",
    "\n",
    "        data = {header: [] for header in headers}\n",
    "        \n",
    "        for row in reader:\n",
    "            for header, value in zip(headers, row):\n",
    "                try:\n",
    "                    if value.strip(): \n",
    "                        data[header].append(float(value))\n",
    "                except ValueError:\n",
    "                    continue\n",
    "        means = {}\n",
    "        for header, values in data.items():\n",
    "            if values:  \n",
    "                means[header] = stats.mean(values)\n",
    "            else:\n",
    "                means[header] = None  # If no valid numeric values, set mean as None\n",
    "        \n",
    "        return means\n",
    "    return means"
   ],
   "metadata": {
    "collapsed": false,
    "ExecuteTime": {
     "end_time": "2024-05-03T06:46:32.374294Z",
     "start_time": "2024-05-03T06:46:32.362008Z"
    }
   },
   "id": "53bb8b16f2aa265a"
  },
  {
   "cell_type": "code",
   "outputs": [
    {
     "data": {
      "text/plain": "{'\\ufeff693': 426.7083333333333,\n '793': 527.0416666666666,\n '24': 47.916666666666664,\n '702.31': 445.6504166666667}"
     },
     "execution_count": 59,
     "metadata": {},
     "output_type": "execute_result"
    }
   ],
   "source": [
    "stats('assignment.csv')"
   ],
   "metadata": {
    "collapsed": false,
    "ExecuteTime": {
     "end_time": "2024-05-03T06:46:33.783414Z",
     "start_time": "2024-05-03T06:46:33.761994Z"
    }
   },
   "id": "ab75ac9c646b7ef0",
   "execution_count": 59
  },
  {
   "cell_type": "markdown",
   "source": [
    "Q13\n",
    "Write a python function count_es that takes in a list of strings and returns the frequency of the letter ‘e’ totalled over all the strings. If the input list is empty then the result should be 0."
   ],
   "metadata": {
    "collapsed": false
   },
   "id": "22e6d6b8e89cdb3"
  },
  {
   "cell_type": "code",
   "execution_count": 61,
   "outputs": [
    {
     "name": "stdout",
     "output_type": "stream",
     "text": [
      "5\n"
     ]
    }
   ],
   "source": [
    "def count_es(strings):\n",
    "    if not strings:  # Check if the list is empty\n",
    "        return 0\n",
    "    \n",
    "    total_count = 0\n",
    "    for string in strings:\n",
    "        total_count += string.lower().count('e')  # Count 'e' in each string, case-insensitively\n",
    "    \n",
    "    return total_count\n",
    "print(count_es(['I love you', 'Have a good holiday', 'Nice to meet you']))"
   ],
   "metadata": {
    "collapsed": false,
    "ExecuteTime": {
     "end_time": "2024-05-03T06:47:56.461340Z",
     "start_time": "2024-05-03T06:47:56.453604Z"
    }
   },
   "id": "9580dc7b7e071a75"
  },
  {
   "cell_type": "markdown",
   "source": [
    "Q14 \n",
    "Write a program that will read a file called ’input.txt’ and print the average length of all the words in the file. You may assume that a word is a configuous sequence of nonwhitespace characters. If there are no words in the file then the program should not print anything. For example, if the file ’input.txt’ contained the following lines of text: fee fi fo fum the program should print: \n",
    " 2.5 \n",
    " because:(len(’fee’) + len(’fi’) + len(’fo’) + len(’fum’))/4.0 is equal to 2.5."
   ],
   "metadata": {
    "collapsed": false
   },
   "id": "f5999d4e09b6fced"
  },
  {
   "cell_type": "code",
   "execution_count": 73,
   "outputs": [],
   "source": [
    "def average_word_length(filename):\n",
    "    try:\n",
    "        with open(filename,'r') as file:\n",
    "            count = 0.0\n",
    "            totallength = 0.0\n",
    "            output = '\\nbecause: ('\n",
    "            for line in file.readlines():\n",
    "                for word in line.split():\n",
    "                    output += \"len('{}') + \".format(word)\n",
    "                    totallength += len(word)\n",
    "                    count += 1\n",
    "            avg = totallength / count\n",
    "            output = str(avg)+output[:-3] + ')/{} is equal to {}.'.format(count, avg)\n",
    "            print(output)           \n",
    "    except FileNotFoundError:\n",
    "        print(f\"File (filename) not found\")\n",
    "    except Exception as e:\n",
    "        print(f\"An error occurred: {e}\")  "
   ],
   "metadata": {
    "collapsed": false,
    "ExecuteTime": {
     "end_time": "2024-05-03T06:57:56.196408Z",
     "start_time": "2024-05-03T06:57:56.184396Z"
    }
   },
   "id": "53f6f4aaf5ee3871"
  },
  {
   "cell_type": "code",
   "outputs": [
    {
     "name": "stdout",
     "output_type": "stream",
     "text": [
      "2.5\n",
      "because: (len('fee') + len('fi') + len('fo') + len('fum'))/4.0 is equal to 2.5.\n"
     ]
    }
   ],
   "source": [
    "average_word_length('input.txt')"
   ],
   "metadata": {
    "collapsed": false,
    "ExecuteTime": {
     "end_time": "2024-05-03T06:57:57.365725Z",
     "start_time": "2024-05-03T06:57:57.358437Z"
    }
   },
   "id": "412dd75243b82871",
   "execution_count": 74
  },
  {
   "cell_type": "markdown",
   "source": [
    "Q15\n",
    "Suppose that we want a Python function that takes a list of integers as input and returns True if the list is either empty or contains only even integers, and False otherwise. Below is a failed attempt at wrting such a function. Identify two mistakes in the function, and show briefly how you would fix those mistakes (there may be more than two mistakes in the code - you only need to find two):\n",
    "def all_even(xs):\n",
    "    for n in xs:\n",
    "        if n % 2 = 0:\n",
    "        return True\n",
    "    else:\n",
    "        return False"
   ],
   "metadata": {
    "collapsed": false
   },
   "id": "4b1ae39220730a03"
  },
  {
   "cell_type": "code",
   "execution_count": 71,
   "outputs": [
    {
     "name": "stdout",
     "output_type": "stream",
     "text": [
      "True\n"
     ]
    }
   ],
   "source": [
    "# 你之前写的，第一个值是偶数直接Return True了，但是他要check每个，保证全是偶数才会return true\n",
    "def all_even(xs):\n",
    "    if not xs:\n",
    "        return True\n",
    "    for n in xs:\n",
    "        if n % 2 == 1:\n",
    "            return False\n",
    "    return True\n",
    "        \n",
    "xs = [2,4,3,4,8,6,7]\n",
    "print(all_even(xs))\n",
    "# 直接不等于0，返回True 的话，就不需要定义其他的了"
   ],
   "metadata": {
    "collapsed": false,
    "ExecuteTime": {
     "end_time": "2024-05-03T06:57:37.108356Z",
     "start_time": "2024-05-03T06:57:37.098564Z"
    }
   },
   "id": "558a17cf58c40396"
  },
  {
   "cell_type": "markdown",
   "source": [
    "Q16\n",
    "Question 16\n",
    "Write a function all_unique which takes a (possibly empty) list of integers and returns True if all the values in the list are unique (the list contains no duplicates), and False otherwise. The function should return True for the empty list.\n",
    "For example:\n",
    ">>> all_unique([])\n",
    "True\n",
    ">>> all_unique([12])\n",
    "True\n",
    ">>> all_unique([12, -5])\n",
    "True\n",
    ">>> all_unique([12, -5, 12])\n",
    "False"
   ],
   "metadata": {
    "collapsed": false
   },
   "id": "c629d0f03653fee1"
  },
  {
   "cell_type": "code",
   "execution_count": 75,
   "outputs": [
    {
     "name": "stdout",
     "output_type": "stream",
     "text": [
      "True\n",
      "False\n",
      "False\n",
      "True\n",
      "True\n"
     ]
    }
   ],
   "source": [
    "def all_unique(lst):\n",
    "    unique_list = set()\n",
    "    for item in lst:\n",
    "        if item in unique_list:\n",
    "            return False\n",
    "        unique_list.add(item)\n",
    "    return True\n",
    "print(all_unique([]))\n",
    "print(all_unique([12,-5,12]))\n",
    "print(all_unique([3,4,6,7,6,7,5,4,3,8,9,4,6,7]))\n",
    "print(all_unique([]))\n",
    "print(all_unique([1,2,3,4,5,6,7]))"
   ],
   "metadata": {
    "collapsed": false,
    "ExecuteTime": {
     "end_time": "2024-05-03T07:00:36.014860Z",
     "start_time": "2024-05-03T07:00:36.006623Z"
    }
   },
   "id": "df73545d026c4d44"
  },
  {
   "cell_type": "markdown",
   "source": [
    "Q17\n",
    "Suppose that we have maximum and minimum temperature information for Australian capital cities in a CSV file called temp.csv, such that the first few lines look like so: City,Max,Min\n",
    "Melbourne,45,-5\n",
    "Sydney,42,-3\n",
    "Canberra,40,-10\n",
    "Briefly explain the overall purpose of this program:\n",
    "\n",
    "from csv import DictReader\n",
    "    file = open('temp.csv')\n",
    "    reader = DictReader(file)\n",
    "    m = []\n",
    "    for row in reader:\n",
    "        max = int(row['Max'])\n",
    "        m.append(max)\n",
    "print sorted(m)[-1]\n",
    "\n",
    "Explain:\n",
    "Find the highest temperature."
   ],
   "metadata": {
    "collapsed": false
   },
   "id": "aee10edcf8771d19"
  },
  {
   "cell_type": "markdown",
   "source": [
    "Q18\n",
    "Suppose that we have average life expectancy data for males and females of various countries stored in a CSV file called life.csv, such that it contains data in the following\n",
    "form:\n",
    "Country,Female,Male\n",
    "Singapore,85,80\n",
    "San Marino,83,82\n",
    "Switzerland,85,80\n",
    "Japan,86,79\n",
    "Italy,85,80\n",
    "Write a Python program that will read in this data and print the name(s) of the countries that have the maximum absolute difference in life expectancy between males and females."
   ],
   "metadata": {
    "collapsed": false
   },
   "id": "dce6728e852d9282"
  },
  {
   "cell_type": "code",
   "execution_count": 86,
   "outputs": [],
   "source": [
    "#你原本做的run不出来，需要DictReader，普通的read不支持你下面的做法\n",
    "def difference(filename):\n",
    "    max_difference = 0\n",
    "    max_difference_countries = []\n",
    "    from csv import DictReader\n",
    "    \n",
    "    with open(filename,'r') as file:\n",
    "        reader = DictReader(file)\n",
    "        \n",
    "        for row in reader:\n",
    "            female_life = int(row['Female'])\n",
    "            male_life = int(row['Male'])\n",
    "            \n",
    "            difference = abs(female_life-male_life)\n",
    "            \n",
    "            if difference > max_difference:\n",
    "                max_difference = difference\n",
    "                max_difference_countries = [row['Country']]\n",
    "            elif difference == max_difference:\n",
    "                max_difference_countries.append(row['Country'])\n",
    "    return max_difference_countries "
   ],
   "metadata": {
    "collapsed": false,
    "ExecuteTime": {
     "end_time": "2024-05-03T07:06:44.023223Z",
     "start_time": "2024-05-03T07:06:44.016504Z"
    }
   },
   "id": "9aa0d8269196ad49"
  },
  {
   "cell_type": "code",
   "outputs": [
    {
     "data": {
      "text/plain": "['Japan']"
     },
     "execution_count": 87,
     "metadata": {},
     "output_type": "execute_result"
    }
   ],
   "source": [
    "difference('life.csv')"
   ],
   "metadata": {
    "collapsed": false,
    "ExecuteTime": {
     "end_time": "2024-05-03T07:06:45.626400Z",
     "start_time": "2024-05-03T07:06:45.619685Z"
    }
   },
   "id": "f3687e37558fff18",
   "execution_count": 87
  },
  {
   "cell_type": "markdown",
   "source": [
    "Q19\n",
    "Write a Python function longest(string) that will take a string as its argument and return the length of the longest word in the string. You may assume that a word is a consecu5ve sequence of non-whitespace characters. If the string is empty or only contains\n",
    "whitespace characters then the func5on should return 0. Hint: you may use the .split() method on strings to break the input string into a list of words. For example, the func5on should behave like so:\n",
    ">>> longest(\"\")\n",
    "0\n",
    ">>> longest(\"fee fi foobar fum\")\n",
    "6\n",
    ">>> longest(\"this and that\")\n",
    "4"
   ],
   "metadata": {
    "collapsed": false
   },
   "id": "c13a2541ce2612d0"
  },
  {
   "cell_type": "code",
   "execution_count": 88,
   "outputs": [],
   "source": [
    "def longest(string):\n",
    "    words = string.split()\n",
    "    if not words:\n",
    "        return 0\n",
    "    longest_length = max(len(word) for word in words)\n",
    "    return longest_length"
   ],
   "metadata": {
    "collapsed": false,
    "ExecuteTime": {
     "end_time": "2024-05-03T07:07:51.826255Z",
     "start_time": "2024-05-03T07:07:51.817748Z"
    }
   },
   "id": "72020521748b6474"
  },
  {
   "cell_type": "code",
   "outputs": [
    {
     "name": "stdout",
     "output_type": "stream",
     "text": [
      "0\n",
      "0\n",
      "10\n"
     ]
    }
   ],
   "source": [
    "st = ''\n",
    "print(longest(st))\n",
    "stt = '   '\n",
    "print(longest(stt))\n",
    "sttt = 'You are not alone, and you will be able to overcome it. I understand it is tough, but I am here to listen to you'\n",
    "print(longest(sttt))"
   ],
   "metadata": {
    "collapsed": false,
    "ExecuteTime": {
     "end_time": "2024-05-03T07:07:53.839612Z",
     "start_time": "2024-05-03T07:07:53.830277Z"
    }
   },
   "id": "c603e3b87b5ba256",
   "execution_count": 89
  },
  {
   "cell_type": "markdown",
   "source": [
    "Q20\n",
    "Write a Python function which has the same name and behaviour as the one below, but which uses a for loop instead of a while loop:\n",
    "def positions(items):\n",
    "    result = {}\n",
    "    index = 0\n",
    "    while index < len(items):\n",
    "        next = items[index]\n",
    "        if next in result:\n",
    "            result[next].append(index)\n",
    "        else:\n",
    "            result[next] = [index]\n",
    "        index += 1"
   ],
   "metadata": {
    "collapsed": false
   },
   "id": "96f29418b2198083"
  },
  {
   "cell_type": "code",
   "execution_count": null,
   "outputs": [],
   "source": [
    "def positions(items):\n",
    "    result = {}\n",
    "    for index, item in enumerate(items):\n",
    "        if item in result:\n",
    "            result[item].append(index)\n",
    "        else:\n",
    "            result[item] = [index]\n",
    "    return result"
   ],
   "metadata": {
    "collapsed": false
   },
   "id": "5940d11b4c753a54"
  },
  {
   "cell_type": "code",
   "outputs": [
    {
     "name": "stdout",
     "output_type": "stream",
     "text": [
      "{'You': [0], 'are': [1], 'stronger': [2], 'than': [3], 'you': [4, 10], 'think': [5], ',': [6], 'I': [7], 'believe': [8], 'in': [9]}\n"
     ]
    }
   ],
   "source": [
    "items = ['You', 'are', 'stronger', 'than', 'you', 'think', ',', 'I', 'believe', 'in', 'you']\n",
    "a = positions(items)\n",
    "print(a)     "
   ],
   "metadata": {
    "collapsed": false,
    "ExecuteTime": {
     "end_time": "2024-05-03T07:10:40.596870Z",
     "start_time": "2024-05-03T07:10:40.591642Z"
    }
   },
   "id": "bc07b235c516c78e",
   "execution_count": 93
  },
  {
   "cell_type": "markdown",
   "source": [
    "Q21\n",
    "Below is a Python function that is supposed to determine if all the items in a list are the\n",
    "same:\n",
    "def all_same(list):\n",
    "    if list = []:\n",
    "        return True\n",
    "    else:\n",
    "        first = list[0]\n",
    "        for item in list:\n",
    "            if item != first:\n",
    "                return False\n",
    "            return True"
   ],
   "metadata": {
    "collapsed": false
   },
   "id": "3ade61bfe1783da"
  },
  {
   "cell_type": "code",
   "execution_count": 94,
   "outputs": [],
   "source": [
    "def all_same(lst):\n",
    "    if lst == []:\n",
    "        return True\n",
    "    else:\n",
    "        first = lst[0]\n",
    "        for item in lst:\n",
    "            if item != first:\n",
    "                return False\n",
    "        return True"
   ],
   "metadata": {
    "collapsed": false,
    "ExecuteTime": {
     "end_time": "2024-05-03T07:11:17.869428Z",
     "start_time": "2024-05-03T07:11:17.861216Z"
    }
   },
   "id": "c880ff3718754a0f"
  },
  {
   "cell_type": "markdown",
   "source": [
    "Q 22\n",
    "The Gene/c Code is a concept in Biology which explains how sequences of RNA encode information about proteins (you do not need to understand Biology to answer this question). We can represent RNA in Python using strings made from any number of the four uppercase le]ers 'U', 'A', 'G' and 'C'. Each letter represents a single unit of RNA called a base. For example, here is a possible sequence of RNA consisting of nine bases: 'GCUUCCAGA'."
   ],
   "metadata": {
    "collapsed": false
   },
   "id": "90aef9f97a86c29a"
  },
  {
   "cell_type": "code",
   "execution_count": null,
   "outputs": [],
   "source": [
    "#你的大小写错了，帮你改了\n",
    "def valid_rna(rna_string):\n",
    "    if len(rna_string) %3 !=0:\n",
    "        return False\n",
    "    \n",
    "    valid_bases = {'U','A','G','C'}\n",
    "    for base in rna_string:\n",
    "        if base not in valid_bases:\n",
    "            return False\n",
    "    return True"
   ],
   "metadata": {
    "collapsed": false
   },
   "id": "72d5519eebff55bc"
  },
  {
   "cell_type": "code",
   "outputs": [
    {
     "name": "stdout",
     "output_type": "stream",
     "text": [
      "True\n",
      "False\n",
      "False\n",
      "True\n"
     ]
    }
   ],
   "source": [
    "print(valid_rna('GCUUCCAGA'))\n",
    "print(valid_rna('UU'))\n",
    "print(valid_rna('UUZ'))\n",
    "print(valid_rna(''))"
   ],
   "metadata": {
    "collapsed": false,
    "ExecuteTime": {
     "end_time": "2024-05-03T07:12:07.693691Z",
     "start_time": "2024-05-03T07:12:07.685213Z"
    }
   },
   "id": "8f1c41627af00499",
   "execution_count": 96
  },
  {
   "cell_type": "markdown",
   "source": [
    "Q 22\n",
    "Part b\n",
    "Three consecutive RNA bases is called a codon. Write a Python func5on called codons(rna_string) which takes a string as its argument and returns a list of strings as its result. You may assume that the rna_string represents a valid RNA sequence\n",
    "according to part (a) above (you do not need to check the input for validity in this question). The result should be a list of strings representing the consecutive codons in the input. For\n",
    "example:\n",
    ">>> codons('GCUUCCAGA')\n",
    "['GCU', 'UCC', 'AGA']\n",
    ">>> codons('CAA')\n",
    "['CAA']\n",
    ">>> codons('')\n",
    "[]"
   ],
   "metadata": {
    "collapsed": false
   },
   "id": "f598387d19ce590d"
  },
  {
   "cell_type": "code",
   "execution_count": 97,
   "outputs": [
    {
     "name": "stdout",
     "output_type": "stream",
     "text": [
      "['GCU', 'UCC', 'AGA']\n",
      "['CAA']\n",
      "[]\n"
     ]
    }
   ],
   "source": [
    "def codons(rna_string):\n",
    "    codon_list = []\n",
    "    for i in range(0,len(rna_string),3):\n",
    "        codon_list.append(rna_string[i:i+3])\n",
    "    return codon_list\n",
    "\n",
    "print(codons('GCUUCCAGA'))  \n",
    "print(codons('CAA'))    \n",
    "print(codons(''))  "
   ],
   "metadata": {
    "collapsed": false,
    "ExecuteTime": {
     "end_time": "2024-05-03T07:12:20.832753Z",
     "start_time": "2024-05-03T07:12:20.825093Z"
    }
   },
   "id": "52e4b2de52d7d10"
  },
  {
   "cell_type": "markdown",
   "source": [
    "Part c\n",
    "We can represent proteins in Python using strings made from any number lowercase alphabetic le]ers. Each le]er represents a single unit of protein called an amino acid. For example, here is a possible protein sequence consisting of six amino acids: 'apqpst'.\n",
    "Each RNA codon encodes a single amino acid. For example, the codon 'CCG' encodes the amino acid 'p', whereas the codon 'UAC' encodes the amino acid 'y'. There is redundancy in the Genetic Code such that some amino acids are encoded by multiple different codons. For example, the amino acid 'd' is encoded by both 'GAU' and 'GAC'. We can represent the Genetic Code with a Python dictionary which we will call a codon map. The keys of a codon map are codons (strings) and the values are amino acids (strings).\\"
   ],
   "metadata": {
    "collapsed": false
   },
   "id": "7a5f8274536dc5e7"
  },
  {
   "cell_type": "code",
   "execution_count": 98,
   "outputs": [
    {
     "name": "stdout",
     "output_type": "stream",
     "text": [
      "\n",
      "ar\n",
      "paay\n"
     ]
    }
   ],
   "source": [
    "def protein(rna_string, codon_map):\n",
    "    codon_list = codons(rna_string)\n",
    "    protein_sequence = ''\n",
    "    for codon in codon_list:\n",
    "        if codon in codon_map:\n",
    "            protein_sequence += codon_map[codon]\n",
    "\n",
    "    return protein_sequence\n",
    "example_codon_map = {\n",
    "    'GCU': 'a', 'GCC': 'a', 'UGU': 'c', 'GAU': 'd', 'GAC': 'd',\n",
    "    'GAA': 'e', 'CCU': 'p', 'CCC': 'p', 'CCA': 'p', 'CCG': 'p',\n",
    "    'CAA': 'q', 'CAG': 'q', 'CGA': 'r', 'CGG': 'r', 'AGA': 'r',\n",
    "    'AGG': 'r', 'UCU': 's', 'UCC': 's', 'UCA': 's', 'UCG': 's',\n",
    "    'AGU': 's', 'AGC': 's', 'ACU': 't', 'UAC': 'y'\n",
    "}\n",
    "\n",
    "print(protein('', example_codon_map))          # ''\n",
    "print(protein('GCUUGAAGA', example_codon_map))  # 'ar'\n",
    "print(protein('CCCGCUGCCUAC', example_codon_map))  # 'paay'"
   ],
   "metadata": {
    "collapsed": false,
    "ExecuteTime": {
     "end_time": "2024-05-03T07:12:33.151827Z",
     "start_time": "2024-05-03T07:12:33.137989Z"
    }
   },
   "id": "4a01c6c6953bdbec"
  },
  {
   "cell_type": "markdown",
   "source": [
    "Write a Python func5on invert_codon_map(codon_map) which takes a codon map (dic5onary) as its input and returns an inverted codon map as its result (dic5onary). The output dic5onary has strings for keys (represen5ng amino acids) and lists of strings for\n",
    "values (represen5ng lists of codons). Each amino acid key in the output dic5onary is associated with all (and only) the RNA codons from which it is encoded. The order in which the codons appear in the lists does not ma]er, but each codon should appear at most once in each list. "
   ],
   "metadata": {
    "collapsed": false
   },
   "id": "9b27fc3e5f0611"
  },
  {
   "cell_type": "code",
   "execution_count": 99,
   "outputs": [
    {
     "name": "stdout",
     "output_type": "stream",
     "text": [
      "{'a': ['GCU', 'GCC'], 'c': ['UGU'], 'd': ['GAU', 'GAC'], 'e': ['GAA'], 'p': ['CCU', 'CCC', 'CCA', 'CCG'], 'q': ['CAA', 'CAG'], 'r': ['CGA', 'CGG', 'AGA', 'AGG'], 's': ['UCU', 'UCC', 'UCA', 'UCG', 'AGU', 'AGC'], 't': ['ACU'], 'y': ['UAC']}\n"
     ]
    }
   ],
   "source": [
    "def invert_codon_map(codon_map):\n",
    "    inverted_map = {}\n",
    "    for codon, amino_acid in codon_map.items():\n",
    "        if amino_acid not in inverted_map:\n",
    "            inverted_map[amino_acid] = []\n",
    "        inverted_map[amino_acid].append(codon)\n",
    "    return inverted_map\n",
    "example_codon_map = {\n",
    "    'GCU': 'a', 'GCC': 'a', 'UGU': 'c', 'GAU': 'd', 'GAC': 'd',\n",
    "    'GAA': 'e', 'CCU': 'p', 'CCC': 'p', 'CCA': 'p', 'CCG': 'p',\n",
    "    'CAA': 'q', 'CAG': 'q', 'CGA': 'r', 'CGG': 'r', 'AGA': 'r',\n",
    "    'AGG': 'r', 'UCU': 's', 'UCC': 's', 'UCA': 's', 'UCG': 's',\n",
    "    'AGU': 's', 'AGC': 's', 'ACU': 't', 'UAC': 'y'\n",
    "}\n",
    "\n",
    "# Print the inverted codon map\n",
    "print(invert_codon_map(example_codon_map))"
   ],
   "metadata": {
    "collapsed": false,
    "ExecuteTime": {
     "end_time": "2024-05-03T07:13:16.912284Z",
     "start_time": "2024-05-03T07:13:16.904341Z"
    }
   },
   "id": "a72ee8e01267a80f"
  },
  {
   "cell_type": "markdown",
   "source": [
    "Below is a partially complete recursive Python func5on called all_rna_codes(amino_str, amino_map)which takes a string and a dictionary as its arguments and returns a list of strings as its result. The amino_str represents a sequence of amino acids. The amino_map represents a mapping from amino acids to lists of codons (the same as the output of the invert_codon_map from part (d)). The result is a list of all the RNA sequences which could encode the input amino acid sequence. Three\n",
    "XXXs indicate parts of the func5on which are missing. The size of the XXXs does not necessarily indicate the size of the missing code. \n",
    "def all_rna_codes(amino_str, amino_map):\n",
    "    if amino_str == '':\n",
    "        return XXX\n",
    "    else:\n",
    "        rest_rna = all_rna_codes( XXX )\n",
    "        result = []\n",
    "    for codon in amino_map[amino_str[0]]:\n",
    "        for rna in rest_rna:\n",
    "            result.append( XXX )\n",
    "        return result"
   ],
   "metadata": {
    "collapsed": false
   },
   "id": "deb0b4bfc6de1c79"
  },
  {
   "cell_type": "code",
   "execution_count": null,
   "outputs": [],
   "source": [
    "def all_rna_codes(amino_str, amino_map):\n",
    "    if amino_str == '':\n",
    "        return ['']\n",
    "    else:\n",
    "        rest_rna = all_rna_codes(amino_str[1:], amino_map)       \n",
    "        result = []\n",
    "        for codon in amino_map[amino_str[0]]:\n",
    "            for rna in rest_rna:\n",
    "                result.append(codon + rna)      \n",
    "        return result"
   ],
   "metadata": {
    "collapsed": false
   },
   "id": "c921be8532f9f5b"
  },
  {
   "cell_type": "code",
   "outputs": [
    {
     "name": "stdout",
     "output_type": "stream",
     "text": [
      "['']\n",
      "['ACU']\n",
      "['UCU', 'UCC', 'UCA', 'UCG', 'AGU', 'AGC']\n",
      "['GAAUCU', 'GAAUCC', 'GAAUCA', 'GAAUCG', 'GAAAGU', 'GAAAGC']\n",
      "['GCUCCUUAC', 'GCUCCCUAC', 'GCUCCAUAC', 'GCUCCGUAC', 'GCCCCUUAC', 'GCCCCCUAC', 'GCCCCAUAC', 'GCCCCGUAC']\n"
     ]
    }
   ],
   "source": [
    "example_codon_map = {\n",
    "'GCU' : 'a', 'GCC' : 'a', 'UGU' : 'c', 'GAU' : 'd', 'GAC' : 'd',\n",
    "'GAA' : 'e', 'CCU' : 'p', 'CCC' : 'p', 'CCA' : 'p', 'CCG' : 'p',\n",
    "'CAA' : 'q', 'CAG' : 'q', 'CGA' : 'r', 'CGG' : 'r', 'AGA' : 'r',\n",
    "'AGG' : 'r', 'UCU' : 's', 'UCC' : 's', 'UCA' : 's', 'UCG' : 's',\n",
    "'AGU' : 's', 'AGC' : 's', 'ACU' : 't', 'UAC' : 'y' }\n",
    "example_amino_map = invert_codon_map(example_codon_map)\n",
    "print(all_rna_codes('', example_amino_map))\n",
    "print(all_rna_codes('t', example_amino_map))\n",
    "print(all_rna_codes('s', example_amino_map))\n",
    "print(all_rna_codes('es', example_amino_map))\n",
    "print(all_rna_codes('apy', example_amino_map))"
   ],
   "metadata": {
    "collapsed": false,
    "ExecuteTime": {
     "end_time": "2024-05-03T07:16:10.496827Z",
     "start_time": "2024-05-03T07:16:10.486255Z"
    }
   },
   "id": "79e56a0f835ac331",
   "execution_count": 103
  },
  {
   "cell_type": "code",
   "execution_count": 105,
   "outputs": [
    {
     "name": "stdout",
     "output_type": "stream",
     "text": [
      "[('milk', 4, 8.4), ('bread', 1, 2.49), ('sugar', 1, 4.15), ('orange juice', 3, 10.5), ('detergent', 1, 10.1)]\n"
     ]
    }
   ],
   "source": [
    "#Q23-a\n",
    "import csv\n",
    "\n",
    "def read_shopping(filename):\n",
    "    results = []\n",
    "    with open(filename, newline='') as csvfile:\n",
    "        reader = csv.reader(csvfile)\n",
    "        next(reader)  # Skip the header row\n",
    "        for row in reader:\n",
    "            item = row[0]\n",
    "            price_per_unit = float(row[1])\n",
    "            number_of_units = int(row[2])\n",
    "            total_cost = price_per_unit * number_of_units\n",
    "            results.append((item, number_of_units, total_cost))\n",
    "    return results\n",
    "\n",
    "# Example usage\n",
    "filename = 'shopping.csv'\n",
    "shopping_list = read_shopping(filename)\n",
    "print(shopping_list)"
   ],
   "metadata": {
    "collapsed": false,
    "ExecuteTime": {
     "end_time": "2024-05-03T07:20:00.654537Z",
     "start_time": "2024-05-03T07:20:00.645450Z"
    }
   },
   "id": "9d2ff03ca019d69d"
  },
  {
   "cell_type": "code",
   "execution_count": 112,
   "outputs": [],
   "source": [
    "#23-b\n",
    "import csv\n",
    "#修改表格最后一行错误，Total应该在第二列，不是第一列，第一列应该是空的\n",
    "def write_shopping(in_filename, out_filename):\n",
    "    shopping_list = read_shopping(in_filename)\n",
    "\n",
    "    with open(out_filename, 'w') as htmlfile:\n",
    "        htmlfile.write('<html>\\n')\n",
    "        htmlfile.write('<head><title>Shopping List</title></head>\\n')\n",
    "        htmlfile.write('<body>\\n')\n",
    "        htmlfile.write('<table border=\"1\">\\n')      \n",
    "        # Add table header\n",
    "        htmlfile.write('<tr><th>Item</th><th>Number of Units</th><th>Total Cost ($)</th></tr>\\n')      \n",
    "        # Initialize total cost counter\n",
    "        total_cost = 0.0     \n",
    "        # Iterate through the shopping list and add table rows\n",
    "        for item, units, cost in shopping_list:\n",
    "            total_cost += cost\n",
    "            htmlfile.write(f'<tr><td>{item}</td><td>{units}</td><td>{cost:.2f}</td></tr>\\n')     \n",
    "        # Add a final row for the total cost\n",
    "        htmlfile.write(f'<tr><td></td><td><strong>Total</strong></td><td>{total_cost:.2f}</td></tr>\\n')      \n",
    "        # Close the table and the HTML tags\n",
    "        htmlfile.write('</table>\\n')\n",
    "        htmlfile.write('</body>\\n')\n",
    "        htmlfile.write('</html>\\n')\n",
    "    return None"
   ],
   "metadata": {
    "collapsed": false,
    "ExecuteTime": {
     "end_time": "2024-05-03T07:26:17.620178Z",
     "start_time": "2024-05-03T07:26:17.609320Z"
    }
   },
   "id": "9cf8ddcc10397af1"
  },
  {
   "cell_type": "code",
   "outputs": [],
   "source": [
    "write_shopping('shopping.csv', 'out_filename.html')"
   ],
   "metadata": {
    "collapsed": false,
    "ExecuteTime": {
     "end_time": "2024-05-03T07:26:18.138215Z",
     "start_time": "2024-05-03T07:26:18.130158Z"
    }
   },
   "id": "98b6f80c42868f8e",
   "execution_count": 113
  },
  {
   "cell_type": "markdown",
   "source": [
    "Q24 What does it mean when we say that Python lists are mutable? Use a short example of Python code in your answer that demonstrates the concept.\n"
   ],
   "metadata": {
    "collapsed": false
   },
   "id": "31d295d3ac36c798"
  },
  {
   "cell_type": "code",
   "execution_count": 111,
   "outputs": [
    {
     "name": "stdout",
     "output_type": "stream",
     "text": [
      "Original list: ['apple', 'banana', 'cherry']\n"
     ]
    }
   ],
   "source": [
    "fruits = ['apple', 'banana', 'cherry']\n",
    "print(\"Original list:\", fruits)"
   ],
   "metadata": {
    "collapsed": false,
    "ExecuteTime": {
     "end_time": "2024-05-03T07:25:19.419581Z",
     "start_time": "2024-05-03T07:25:19.412035Z"
    }
   },
   "id": "47e9c3731b8322df"
  },
  {
   "cell_type": "markdown",
   "source": [
    "Q25 What is the difference between a method and a func/on in Python? Give an example of each."
   ],
   "metadata": {
    "collapsed": false
   },
   "id": "265dfcb6dc57b7e1"
  },
  {
   "cell_type": "code",
   "execution_count": 55,
   "outputs": [
    {
     "name": "stdout",
     "output_type": "stream",
     "text": [
      "8\n"
     ]
    }
   ],
   "source": [
    "def add_number(x,y):\n",
    "    return x+y\n",
    "result = add_number(5,3)\n",
    "print(result)"
   ],
   "metadata": {
    "collapsed": false,
    "ExecuteTime": {
     "end_time": "2024-05-02T09:33:50.059532700Z",
     "start_time": "2024-05-02T09:33:50.001211Z"
    }
   },
   "id": "2b59db5e0aa4ddd8"
  },
  {
   "cell_type": "code",
   "execution_count": 56,
   "outputs": [
    {
     "name": "stdout",
     "output_type": "stream",
     "text": [
      "Hello, Alice!\n"
     ]
    }
   ],
   "source": [
    "class Greeter:\n",
    "    def __init__(self, name):\n",
    "        self.name = name\n",
    "\n",
    "    def greet(self):\n",
    "        print(f\"Hello, {self.name}!\")\n",
    "\n",
    "greeter = Greeter(\"Alice\")\n",
    "greeter.greet()"
   ],
   "metadata": {
    "collapsed": false,
    "ExecuteTime": {
     "end_time": "2024-05-02T09:34:17.358765800Z",
     "start_time": "2024-05-02T09:34:17.343567500Z"
    }
   },
   "id": "e9ff42734107d765"
  },
  {
   "cell_type": "markdown",
   "source": [
    "A function is a standalone block of code that performs a specific task, while a method is a function that is associated with an object and defined within a class. Functions are independent and can be called by themselves, whereas methods are called on objects and can access the object's data."
   ],
   "metadata": {
    "collapsed": false
   },
   "id": "528251db0980d8c"
  },
  {
   "cell_type": "markdown",
   "source": [
    "Q26 What is a base case in terms of a recursive function definition?\n",
    "In terms of a recursive function, a base case is a condition within the function where recursion stops; it does not call itself and usually returns a value directly. This prevents the function from calling itself indefinitely, ensuring that each recursive call progresses toward this case and ultimately halts the recursion."
   ],
   "metadata": {
    "collapsed": false
   },
   "id": "742d392fe32cd776"
  },
  {
   "cell_type": "markdown",
   "source": [
    "q 27 What role does the Stack play in the execution of Python programs? Use Python code to  illustrate its behaviour."
   ],
   "metadata": {
    "collapsed": false
   },
   "id": "8883bfe34928d47e"
  },
  {
   "cell_type": "markdown",
   "source": [
    "def recursive_function(count):\n",
    "    if count > 0:\n",
    "        print(f\"Stack level {count}: Before recursive call\")\n",
    "        recursive_function(count - 1)\n",
    "        print(f\"Stack level {count}: After recursive call\")\n",
    "    else:\n",
    "        print(\"Base case reached\")\n",
    "\n",
    "recursive_function(3)\n",
    "the stack plays a crucial role in managing the execution of functions—especially recursive functions—by keeping track of the return addresses, local variables, and the order of operations. This structure is known as the \"call stack\" or \"execution stack\" and it ensures that each function call is kept in order so that when a function completes its execution, the program continues execution from where it left off."
   ],
   "metadata": {
    "collapsed": false
   },
   "id": "8ac52536a52256bb"
  },
  {
   "cell_type": "code",
   "execution_count": null,
   "outputs": [],
   "source": [
    "#Q 28 What is the purpose of the try-except syntax in Python? Provide an example in Python code.\n",
    "'''\n",
    "The purpose of the try-except syntax in Python is to handle exceptions, which are errors that occur during the execution of a program. By using try-except, you can control the program flow when an exception occurs, providing alternative outcomes or meaningful error messages rather than having the program crash unexpectedly.\n",
    "'''\n",
    "def divide_numbers(x, y):\n",
    "    try:\n",
    "        result = x / y\n",
    "        print(\"The result is:\", result)\n",
    "    except ZeroDivisionError:\n",
    "        print(\"Error: Cannot divide by zero.\")\n",
    "    except TypeError:\n",
    "        print(\"Error: All inputs must be numbers.\")\n",
    "    finally:\n",
    "        print(\"Execution completed.\")"
   ],
   "metadata": {
    "collapsed": false
   },
   "id": "9983c4ebf5016171"
  },
  {
   "cell_type": "code",
   "execution_count": null,
   "outputs": [],
   "source": [
    "#29-a\n",
    "import csv\n",
    "\n",
    "def read_students(filename):\n",
    "    students = {}\n",
    "    with open(filename, 'r') as file:\n",
    "        csv_reader = csv.reader(file)\n",
    "        next(csv_reader)  # Skip the header row\n",
    "        for row in csv_reader:\n",
    "            first_name, last_name, student_number = row\n",
    "            students[int(student_number)] = (first_name, last_name)\n",
    "    return students\n",
    "\n",
    "# Example usage\n",
    "students = read_students('students.csv')\n",
    "print(students)"
   ],
   "metadata": {
    "collapsed": false
   },
   "id": "5418e7684f5314ee"
  },
  {
   "cell_type": "code",
   "execution_count": null,
   "outputs": [],
   "source": [
    "#q29-b\n",
    "import csv\n",
    "\n",
    "def read_marks(filename):\n",
    "    marks = {}\n",
    "    with open(filename, 'r') as file:\n",
    "        csv_reader = csv.reader(file)\n",
    "        next(csv_reader)  # Skip the header row\n",
    "        for row in csv_reader:\n",
    "            student_number, mark = int(row[0]), int(row[1])\n",
    "            marks[student_number] = mark\n",
    "    return marks\n",
    "\n",
    "# Example usage\n",
    "marks = read_marks('marks.csv')\n",
    "print(marks)"
   ],
   "metadata": {
    "collapsed": false
   },
   "id": "16d9c215f18664cf"
  },
  {
   "cell_type": "code",
   "execution_count": null,
   "outputs": [],
   "source": [
    "#q29-c\n",
    "def mark_to_grade(mark):\n",
    "    if 80 <= mark <= 100:\n",
    "        return \"H1\"\n",
    "    elif 75 <= mark <= 79:\n",
    "        return \"H2A\"\n",
    "    elif 70 <= mark <= 74:\n",
    "        return \"H2B\"\n",
    "    elif 65 <= mark <= 69:\n",
    "        return \"H3\"\n",
    "    elif 50 <= mark <= 64:\n",
    "        return \"P\"\n",
    "    elif 0 <= mark <= 49:\n",
    "        return \"N\"\n",
    "    else:\n",
    "        return \"Invalid mark\"  "
   ],
   "metadata": {
    "collapsed": false
   },
   "id": "157927c6c7dcc2a1"
  },
  {
   "cell_type": "code",
   "execution_count": null,
   "outputs": [],
   "source": [
    "#q29-d\n",
    "   def join_student_marks(students, marks):\n",
    "    combined_list = []\n",
    "    \n",
    "    # Iterate over each student in the students dictionary\n",
    "    for student_number, (first_name, last_name) in students.items():\n",
    "        if student_number in marks:\n",
    "            mark = marks[student_number]\n",
    "            grade = mark_to_grade(mark)\n",
    "            combined_list.append((student_number, first_name, last_name, mark, grade))\n",
    "       # Sort the list by student number\n",
    "    combined_list.sort(key=lambda x: x[0])  \n",
    "    return combined_list "
   ],
   "metadata": {
    "collapsed": false
   },
   "id": "4eb833b2ff15dfe4"
  },
  {
   "cell_type": "code",
   "execution_count": null,
   "outputs": [],
   "source": [
    "#q29-e\n",
    "def marks_stats(marks):\n",
    "    if not marks:  # Check if the dictionary is empty\n",
    "        return None\n",
    "    \n",
    "    # Initialize variables to store the maximum and minimum marks found\n",
    "    max_mark = max(marks.values())  # Maximum mark\n",
    "    min_mark = min(marks.values())  # Minimum mark\n",
    "    \n",
    "    # Calculate average mark = sum(marks.values()) / len(marks)  # Average as float\n",
    "    \n",
    "    return (max_mark, min_mark, average_mark)\n"
   ],
   "metadata": {
    "collapsed": false
   },
   "id": "5cd2c9b1491ed061"
  },
  {
   "cell_type": "code",
   "execution_count": null,
   "outputs": [],
   "source": [
    "#q29-f\n",
    "def validate_data(students, marks):\n",
    "    student_numbers = set(students.keys())\n",
    "    mark_numbers = set(marks.keys())\n",
    "    # Find student numbers present in students but not in marks\n",
    "    missing_in_marks = sorted(student_numbers - mark_numbers)\n",
    "    # Find student numbers present in marks but not in students\n",
    "    missing_in_students = sorted(mark_numbers - student_numbers) \n",
    "    return (missing_in_marks, missing_in_students)"
   ],
   "metadata": {
    "collapsed": false
   },
   "id": "9b595549fdec8084"
  },
  {
   "cell_type": "markdown",
   "source": [
    "#30\n",
    "Name two differences between the set and list types in Python.\n",
    "1.Uniqueness of Elements:\n",
    "List: A list can contain duplicate elements. It allows multiple instances of the same value to appear in the collection. For example, the list [1, 2, 2, 3] is valid and contains the number 2 twice.\n",
    "Set: A set automatically removes any duplicate entries, maintaining only unique elements. If you try to add the same element multiple times to a set, it will still contain that element only once. For instance, the set {1, 2, 2, 3} will actually be {1, 2, 3}.\n",
    "2.Ordering of Elements:\n",
    "List: A list maintains the order of elements. When you add items to a list, they stay in the order you added them, and you can access elements by their index.\n",
    "Set: A set is an unordered collection. This means that the elements in a set do not have a fixed order, and you cannot access them by an index. The order of elements in a set might appear random and can change with the addition of new elements."
   ],
   "metadata": {
    "collapsed": false
   },
   "id": "a64353c736f84762"
  },
  {
   "cell_type": "markdown",
   "source": [
    "#q31\n",
    "Why is it good programming style to close any open files when you are finished reading from or writing to them?\n",
    "Closing files after using them is good programming practice because it releases system resources, avoids potential data loss from unsaved changes, and prevents file corruption or access issues that might occur if too many files are left open."
   ],
   "metadata": {
    "collapsed": false
   },
   "id": "2818082e78865afd"
  }
 ],
 "metadata": {
  "kernelspec": {
   "display_name": "Python 3",
   "language": "python",
   "name": "python3"
  },
  "language_info": {
   "codemirror_mode": {
    "name": "ipython",
    "version": 2
   },
   "file_extension": ".py",
   "mimetype": "text/x-python",
   "name": "python",
   "nbconvert_exporter": "python",
   "pygments_lexer": "ipython2",
   "version": "2.7.6"
  }
 },
 "nbformat": 4,
 "nbformat_minor": 5
}
